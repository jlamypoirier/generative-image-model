{
 "cells": [
  {
   "cell_type": "code",
   "execution_count": null,
   "metadata": {
    "collapsed": false,
    "scrolled": false
   },
   "outputs": [],
   "source": [
    "from __future__ import absolute_import\n",
    "from __future__ import division\n",
    "from __future__ import print_function\n",
    "import matplotlib.pyplot as plt\n",
    "import tensorflow as tf\n",
    "import time, os, gc\n",
    "import numpy as np\n",
    "from IPython.display import clear_output, Image, display, HTML\n",
    "from mpl_toolkits.mplot3d import Axes3D\n",
    "import shutil\n",
    "from nnBuilder import *\n",
    "from nnDreamer import *\n",
    "from dataProducer import *\n",
    "from lapgan import *\n",
    "%matplotlib inline"
   ]
  },
  {
   "cell_type": "code",
   "execution_count": null,
   "metadata": {
    "collapsed": false,
    "scrolled": false
   },
   "outputs": [],
   "source": [
    "folder=\"MapsData/Gravel\"\n",
    "fixDir(\"models\")\n",
    "model_folder=fixDir(\"models/lapgan_2016_11_24\")\n",
    "size=np.array([5760,3840])\n",
    "scale=1\n",
    "n=4\n",
    "m=8\n",
    "dic={\"img_file\":folder+\"/img%i\"%scale,\n",
    "     \"img_shape\":list(size//scale)+[1],\n",
    "     \"blur_file\":folder+\"/blur%i\"%scale,\n",
    "     \"blur_shape\":list(size//scale)+[1],\n",
    "     \"size\":32,\n",
    "     \"batch\":32,\n",
    "     \"channels\":0,\n",
    "     \"noise\":.1\n",
    "    }\n",
    "dic[\"gen_def\"]={\n",
    "    \"layer_n\":4,\n",
    "    \"windows\":[5,5,5,5],\n",
    "    \"widths\":[16*n,32*n,32*n,1],\n",
    "    \"batch_norm\":True,\n",
    "    \"rand_scale\":.005\n",
    "}\n",
    "dic[\"class_def\"]={\n",
    "    \"layer_n\":4,\n",
    "    \"windows\":[5,5,5,1],\n",
    "    \"widths\":[16*m,32*m,32*m,1],\n",
    "    \"batch_norm\":False,\n",
    "    \"dropouts\":[False,True,False,True]\n",
    "}\n",
    "\n",
    "sess=SessManager([])\n",
    "network=LapGAN_top(sess,dic)\n",
    "sess.start()\n",
    "need_warmup=False"
   ]
  },
  {
   "cell_type": "code",
   "execution_count": null,
   "metadata": {
    "collapsed": false,
    "scrolled": false
   },
   "outputs": [],
   "source": [
    "network.class_trainer.learnRate=0.001\n",
    "network.class_trainer.keep_rate=1.\n",
    "network.class_trainer.l2regMul=1e-8\n",
    "network.class_trainer.momentum=.9\n",
    "network.gen_trainer.learnRate=0.000001\n",
    "network.gen_trainer.keep_rate=1.\n",
    "network.gen_trainer.l2regMul=1e-8\n",
    "network.gen_trainer.momentum=.9\n",
    "if need_warmup:\n",
    "    print(\"Warming up\")\n",
    "    network.evaluate(10)\n",
    "    for i in range(1):\n",
    "        network.train_class(100)\n",
    "        network.evaluate(10)\n",
    "        a=sess.sess.run(network.diff)\n",
    "        print(a.mean(),a.std(),np.mean([a[i].std() for i in range(a.shape[0])]))\n",
    "    need_warmup=False\n",
    "while True:\n",
    "    network.train(1000,2,dt=.005)\n",
    "    network.evaluate(10)\n",
    "    a=sess.sess.run(network.diff)\n",
    "    print(a.mean(),a.std(),np.mean([a[i].std() for i in range(a.shape[0])]))\n",
    "    network.compare()\n",
    "    network.sample()\n",
    "    network.save(model_folder)\n"
   ]
  },
  {
   "cell_type": "code",
   "execution_count": null,
   "metadata": {
    "collapsed": false
   },
   "outputs": [],
   "source": [
    "a=sess.sess.run(network.x)\n",
    "for i in range(16):\n",
    "    showarray(a[i,:,:,0])"
   ]
  },
  {
   "cell_type": "code",
   "execution_count": null,
   "metadata": {
    "collapsed": false
   },
   "outputs": [],
   "source": [
    "a=sess.sess.run(network.generator.y)\n",
    "for i in range(16):\n",
    "    showarray(a[i,:,:,0])"
   ]
  },
  {
   "cell_type": "code",
   "execution_count": null,
   "metadata": {
    "collapsed": false
   },
   "outputs": [],
   "source": [
    "a=sess.sess.run(network.diff)\n",
    "for i in range(16):\n",
    "    print(a[i,:,:,0].std())\n",
    "    showarray(a[i,:,:,0])"
   ]
  },
  {
   "cell_type": "code",
   "execution_count": null,
   "metadata": {
    "collapsed": false
   },
   "outputs": [],
   "source": [
    "a=sess.sess.run(network.y)\n",
    "for i in range(16):\n",
    "    showarray(a[i,:,:,0])"
   ]
  },
  {
   "cell_type": "code",
   "execution_count": null,
   "metadata": {
    "collapsed": false
   },
   "outputs": [],
   "source": [
    "a=sess.sess.run(network.gen_input.batchProducer.producer.tf_arr)\n",
    "showarray(a[:500,:500,0])"
   ]
  },
  {
   "cell_type": "code",
   "execution_count": null,
   "metadata": {
    "collapsed": false
   },
   "outputs": [],
   "source": [
    "a=sess.sess.run(network.class_mixer.layers[1].batchProducer.producer.tf_arr)\n",
    "showarray(a[:500,:500,0])"
   ]
  },
  {
   "cell_type": "code",
   "execution_count": null,
   "metadata": {
    "collapsed": false
   },
   "outputs": [],
   "source": [
    "network.class_mixer.layers[1].batchProducer.producer.tf_arr"
   ]
  },
  {
   "cell_type": "code",
   "execution_count": null,
   "metadata": {
    "collapsed": false
   },
   "outputs": [],
   "source": [
    "a=sess.sess.run(network.class_mixer.y)\n",
    "for i in range(32):\n",
    "    print(a[i,:,:,0].std())\n",
    "    showarray(a[i,:,:,0])"
   ]
  },
  {
   "cell_type": "code",
   "execution_count": null,
   "metadata": {
    "collapsed": false
   },
   "outputs": [],
   "source": [
    "network.classifier.save()"
   ]
  },
  {
   "cell_type": "code",
   "execution_count": null,
   "metadata": {
    "collapsed": false
   },
   "outputs": [],
   "source": [
    "network.generator.save()"
   ]
  },
  {
   "cell_type": "code",
   "execution_count": null,
   "metadata": {
    "collapsed": false
   },
   "outputs": [],
   "source": [
    "showarray(np.load(folder+\"/diff%i.npy\"%scale)[:500,:500])"
   ]
  },
  {
   "cell_type": "code",
   "execution_count": null,
   "metadata": {
    "collapsed": false
   },
   "outputs": [],
   "source": [
    "dreamer1=SimpleDreamer(self.classifier.input_mixer.layers[1].get(),self.classifier.network.y,sigmoid=True)"
   ]
  },
  {
   "cell_type": "code",
   "execution_count": null,
   "metadata": {
    "collapsed": false
   },
   "outputs": [],
   "source": [
    "tf_in=tf.placeholder(tf.float32, shape=[None,None,None,1])\n",
    "classifier=ConvNet(tf_in,dic[\"class_def\"])\n",
    "dreamer=SimpleDreamerConv(tf_in,classifier.y,sigmoid=True)\n",
    "class_saver=NetworkSaver(classifier)\n",
    "sess.add([classifier,dreamer,class_saver])\n",
    "class_saver.load(model_folder+\"classifier\")\n"
   ]
  },
  {
   "cell_type": "code",
   "execution_count": null,
   "metadata": {
    "collapsed": true
   },
   "outputs": [],
   "source": [
    "network.load(model_folder)"
   ]
  },
  {
   "cell_type": "code",
   "execution_count": null,
   "metadata": {
    "collapsed": false
   },
   "outputs": [],
   "source": [
    "diff,y=network.sample()\n",
    "a=sess.sess.run(classifier.y,{tf_in:y})"
   ]
  },
  {
   "cell_type": "code",
   "execution_count": null,
   "metadata": {
    "collapsed": false
   },
   "outputs": [],
   "source": [
    "dreamer.setImg(y[0,:,:,0])"
   ]
  },
  {
   "cell_type": "code",
   "execution_count": null,
   "metadata": {
    "collapsed": false
   },
   "outputs": [],
   "source": [
    "dreamer.step=.1\n",
    "dreamer.train(100)"
   ]
  },
  {
   "cell_type": "code",
   "execution_count": null,
   "metadata": {
    "collapsed": false
   },
   "outputs": [],
   "source": [
    "showarray(dreamer.get())"
   ]
  },
  {
   "cell_type": "code",
   "execution_count": null,
   "metadata": {
    "collapsed": false
   },
   "outputs": [],
   "source": [
    "sess.sess.run(classifier.y,{tf_in:dreamer.get()[None,:,:,None]}).mean()"
   ]
  },
  {
   "cell_type": "code",
   "execution_count": null,
   "metadata": {
    "collapsed": false
   },
   "outputs": [],
   "source": [
    "plot(dreamer.get()[:80,:80])"
   ]
  },
  {
   "cell_type": "code",
   "execution_count": null,
   "metadata": {
    "collapsed": false
   },
   "outputs": [],
   "source": [
    "size=500\n",
    "blur_full=np.load(folder+\"/blur%i.npy\"%scale)[:size+network.size_diff,:size+network.size_diff]\n",
    "blur_crop=blur_full[network.size_diff//2:-network.size_diff//2,network.size_diff//2:-network.size_diff//2]\n",
    "img_full=np.load(folder+\"/blur%i.npy\"%scale)[:size+network.size_diff,:size+network.size_diff]\n",
    "img_crop=img_full[network.size_diff//2:-network.size_diff//2,network.size_diff//2:-network.size_diff//2]\n",
    "tf_in=tf.placeholder(tf.float32, shape=[1,size,size,1])\n",
    "tf_add=tf.add(tf_in,blur_crop[None,:,:,None])\n",
    "classifier=ConvNet(tf_add,dic[\"class_def\"])\n",
    "dreamer=SimpleDreamerConv(tf_in,classifier.y,sigmoid=True)\n",
    "class_saver=NetworkSaver(classifier)\n",
    "sess.add([classifier,dreamer,class_saver])\n",
    "class_saver.load(model_folder+\"classifier\")"
   ]
  },
  {
   "cell_type": "code",
   "execution_count": null,
   "metadata": {
    "collapsed": false
   },
   "outputs": [],
   "source": [
    "tf_add.get_shape()"
   ]
  },
  {
   "cell_type": "code",
   "execution_count": null,
   "metadata": {
    "collapsed": false
   },
   "outputs": [],
   "source": [
    "blur_crop.shape"
   ]
  },
  {
   "cell_type": "code",
   "execution_count": null,
   "metadata": {
    "collapsed": false
   },
   "outputs": [],
   "source": [
    "tf_in+blur_crop[None,:,:,None]"
   ]
  },
  {
   "cell_type": "code",
   "execution_count": null,
   "metadata": {
    "collapsed": true
   },
   "outputs": [],
   "source": [
    "dreamer.setImg(diff[0,:,:,0])"
   ]
  },
  {
   "cell_type": "code",
   "execution_count": null,
   "metadata": {
    "collapsed": true
   },
   "outputs": [],
   "source": [
    "dreamer.step=.1\n",
    "dreamer.train(100)"
   ]
  },
  {
   "cell_type": "code",
   "execution_count": null,
   "metadata": {
    "collapsed": false
   },
   "outputs": [],
   "source": [
    "showarray(dreamer.get())\n",
    "showarray(dreamer.get()+blur_crop)\n",
    "sess.sess.run(classifier.y,{tf_in:dreamer.get()[None,:,:,None]}).mean()"
   ]
  },
  {
   "cell_type": "code",
   "execution_count": null,
   "metadata": {
    "collapsed": false
   },
   "outputs": [],
   "source": [
    "diff=sess.sess.run(network.diff,{network.x:blur_full[None,:,:,None]})"
   ]
  },
  {
   "cell_type": "code",
   "execution_count": null,
   "metadata": {
    "collapsed": false
   },
   "outputs": [],
   "source": [
    "showarray(dreamer.get()[:40,:40])"
   ]
  },
  {
   "cell_type": "code",
   "execution_count": null,
   "metadata": {
    "collapsed": true
   },
   "outputs": [],
   "source": []
  }
 ],
 "metadata": {
  "anaconda-cloud": {},
  "kernelspec": {
   "display_name": "Python [conda root]",
   "language": "python",
   "name": "conda-root-py"
  },
  "language_info": {
   "codemirror_mode": {
    "name": "ipython",
    "version": 3
   },
   "file_extension": ".py",
   "mimetype": "text/x-python",
   "name": "python",
   "nbconvert_exporter": "python",
   "pygments_lexer": "ipython3",
   "version": "3.5.2"
  }
 },
 "nbformat": 4,
 "nbformat_minor": 1
}
