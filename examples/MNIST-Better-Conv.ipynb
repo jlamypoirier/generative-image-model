{
 "cells": [
  {
   "cell_type": "markdown",
   "metadata": {},
   "source": [
    "# MNIST classifier from nnBuilder"
   ]
  },
  {
   "cell_type": "markdown",
   "metadata": {},
   "source": [
    "This is a simple implementation of a MNIST classifier using the nnBuilder framework. The network is essentially identical to the one from the TensorFlow tutorial at https://www.tensorflow.org/tutorials/mnist/pros/."
   ]
  },
  {
   "cell_type": "code",
   "execution_count": null,
   "metadata": {
    "collapsed": false,
    "scrolled": false
   },
   "outputs": [],
   "source": [
    "import numpy as np\n",
    "import tensorflow as tf\n",
    "import sys, os, seaborn, time\n",
    "import matplotlib.pyplot as plt\n",
    "sys.path.append('../nnBuilder')\n",
    "from nnLayer import *\n",
    "from nnInput import *\n",
    "from nnTrainer import *\n",
    "from nnHandler import *"
   ]
  },
  {
   "cell_type": "code",
   "execution_count": null,
   "metadata": {
    "collapsed": false,
    "scrolled": false
   },
   "outputs": [],
   "source": [
    "test_split_n=10 #Use less memory\n",
    "data=Layer(type=\"MNIST\",batch=128)\n",
    "data_test=Layer(type=\"MNIST\",test=True)\n",
    "data_test=Layer(x=data_test,type=\"Batch_Slice\",batch=10000//test_split_n)\n",
    "noise=dict(type=\"Noise\",rand_type=\"uniform\",scale=0.2,drop_on_test=True)\n",
    "batch_norm=dict(type=\"Batch_Norm\")\n",
    "layers=[]\n",
    "layers.append(dict(type=\"Convolution\",pad=\"SAME\",window=5,stride=1,size=64,relu=True,in_features=[noise]))\n",
    "layers.append(dict(type=\"Pool\",pad=\"SAME\",window=2,stride=1,pool_type=\"max\",out_features=[batch_norm]))\n",
    "layers.append(dict(type=\"Convolution\",pad=\"SAME\",window=5,stride=1,input_stride=2,size=128,relu=True,in_features=[noise]))\n",
    "layers.append(dict(type=\"Pool\",pad=\"SAME\",window=4,stride=1,pool_type=\"max\",out_features=[batch_norm]))\n",
    "layers.append(dict(type=\"Convolution\",pad=\"VALID\",window=7,stride=1,input_stride=4,size=256,relu=True,\n",
    "                   in_features=[noise],out_features=[batch_norm]))\n",
    "layers.append(dict(type=\"Convolution\",pad=\"SAME\",window=1,stride=2,size=128,relu=True,\n",
    "                   in_features=[noise],out_features=[batch_norm]))\n",
    "layers.append(dict(type=\"Convolution\",pad=\"SAME\",window=1,stride=1,size=10,relu=False,\n",
    "                   in_features=[noise],out_features=[batch_norm]))\n",
    "#layers.append(dict(type=\"Relu\",size=256,in_features=[noise],out_features=[batch_norm]))\n",
    "#layers.append(dict(type=\"Relu\",size=128,in_features=[noise],out_features=[batch_norm]))\n",
    "#layers.append(dict(type=\"Linear\",size=10,in_features=[dict(type=\"Dropout\")]))\n",
    "network_def=dict(type=\"Network\",layers=layers)\n",
    "network=Layer(x=data,**network_def)\n",
    "network_eval=network.copy(x=data,share_vars=True,test=True)\n",
    "network_test=network.copy(x=data_test,share_vars=True,test=True)\n",
    "trainer=ClassifierTrainer(network=network,optimizer=\"adam\",array=True)\n",
    "trainer_eval=ClassifierTrainer(network=network_eval,test=True,array=True)\n",
    "tester=ClassifierTrainer(network=network_test,test=True,array=True)\n",
    "sess=SessManager(data,network,trainer,data_test,network_test,tester,network_eval,trainer_eval)\n",
    "sess.start()"
   ]
  },
  {
   "cell_type": "code",
   "execution_count": null,
   "metadata": {
    "collapsed": false,
    "scrolled": false
   },
   "outputs": [],
   "source": [
    "batches_per_step=5000#60000//128 #About 1 epoch\n",
    "batches_per_eval=100\n",
    "n_steps=100\n",
    "def make_plt():\n",
    "    %matplotlib notebook\n",
    "    global fig,ax,train_plot,test_plot,eval_plot\n",
    "    fig,ax = plt.subplots(1,1)\n",
    "    train_plot=ax.plot([],[], label=\"training\")[0]\n",
    "    eval_plot=ax.plot([],[], label=\"eval\")[0]\n",
    "    test_plot=ax.plot([],[], label=\"test\")[0]\n",
    "    ax.set_ylim(0,1)\n",
    "    plt.legend()\n",
    "    fig.canvas.draw()\n",
    "    time.sleep(.01)\n",
    "def update_plt():\n",
    "    x=[batches_per_step*i for i in range(len(trains))]\n",
    "    train_plot.set_xdata(x)\n",
    "    train_plot.set_ydata(trains)\n",
    "    test_plot.set_xdata(x)\n",
    "    test_plot.set_ydata(tests)\n",
    "    eval_plot.set_xdata(x)\n",
    "    eval_plot.set_ydata(evals)\n",
    "    ax.set_xlim(0,x[-1])\n",
    "    ax.set_ylim(0,tests[1]*1.1)\n",
    "    fig.canvas.draw()\n",
    "    #time.sleep(.01)\n",
    "if \"trains\" not in globals():\n",
    "    trains=[trainer.eval_error(n=batches_per_eval)[1]]\n",
    "    evals=[trainer_eval.eval_error(n=batches_per_eval)[1]]\n",
    "    tests=[tester.eval_error()[1]]\n",
    "make_plt()\n",
    "for i in range(n_steps):\n",
    "    if i>10:\n",
    "        r=5e-5\n",
    "    elif i>5:\n",
    "        r=5e-4\n",
    "    else:\n",
    "        r=5e-3\n",
    "    trainer.train(batches_per_step,keep_rate=0.5,l2reg=1e-6,learn_rate=r)\n",
    "    trains.append(trainer.eval_error(n=batches_per_eval)[1]) #Training error, reaches 0%\n",
    "    evals.append(trainer_eval.eval_error(n=batches_per_eval,info=\"eval\")[1]) \n",
    "    tests.append(tester.eval_error(n=test_split_n)[1])#Testing error, reaches 0.35-0.45%\n",
    "    update_plt()"
   ]
  },
  {
   "cell_type": "code",
   "execution_count": null,
   "metadata": {
    "collapsed": false,
    "scrolled": false
   },
   "outputs": [],
   "source": [
    "network.save() #The full network definition\n",
    "save=network.save() #The full network definition\n",
    "assert(Layer(x=data,**save).save()==save) #Consistency\n",
    "print(save==network_def) #Saving adds stuff, should still be equivalent\n",
    "save"
   ]
  },
  {
   "cell_type": "code",
   "execution_count": null,
   "metadata": {
    "collapsed": false,
    "scrolled": false
   },
   "outputs": [],
   "source": [
    "range(1,2)"
   ]
  },
  {
   "cell_type": "code",
   "execution_count": null,
   "metadata": {
    "collapsed": true,
    "scrolled": false
   },
   "outputs": [],
   "source": []
  }
 ],
 "metadata": {
  "anaconda-cloud": {},
  "kernelspec": {
   "display_name": "Python [default]",
   "language": "python",
   "name": "python3"
  },
  "language_info": {
   "codemirror_mode": {
    "name": "ipython",
    "version": 3
   },
   "file_extension": ".py",
   "mimetype": "text/x-python",
   "name": "python",
   "nbconvert_exporter": "python",
   "pygments_lexer": "ipython3",
   "version": "3.5.2"
  }
 },
 "nbformat": 4,
 "nbformat_minor": 1
}
