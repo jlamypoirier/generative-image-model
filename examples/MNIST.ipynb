{
 "cells": [
  {
   "cell_type": "markdown",
   "metadata": {},
   "source": [
    "# MNIST classifier from nnBuilder"
   ]
  },
  {
   "cell_type": "markdown",
   "metadata": {},
   "source": [
    "This is a simple implementation of a MNIST classifier using the nnBuilder framework. The network is essentially identical to the one from the TensorFlow tutorial at https://www.tensorflow.org/tutorials/mnist/pros/. (Work in progress)"
   ]
  },
  {
   "cell_type": "code",
   "execution_count": null,
   "metadata": {
    "collapsed": true
   },
   "outputs": [],
   "source": [
    "import numpy as np\n",
    "import tensorflow as tf\n",
    "import sys\n",
    "sys.path.append('../nnBuilder')\n",
    "from nnLayer import *\n",
    "from nnInput import *\n",
    "from nnTrainer import *\n",
    "from nnHandler import *"
   ]
  },
  {
   "cell_type": "code",
   "execution_count": null,
   "metadata": {
    "collapsed": false
   },
   "outputs": [
    {
     "name": "stdout",
     "output_type": "stream",
     "text": [
      "Extracting /tmp/tensorflow/mnist/input_data\\train-images-idx3-ubyte.gz\n",
      "Extracting /tmp/tensorflow/mnist/input_data\\train-labels-idx1-ubyte.gz\n",
      "Extracting /tmp/tensorflow/mnist/input_data\\t10k-images-idx3-ubyte.gz\n",
      "Extracting /tmp/tensorflow/mnist/input_data\\t10k-labels-idx1-ubyte.gz\n",
      "Starting new session\n"
     ]
    },
    {
     "data": {
      "text/plain": [
       "<tensorflow.python.client.session.InteractiveSession at 0xc64a320>"
      ]
     },
     "execution_count": 2,
     "metadata": {},
     "output_type": "execute_result"
    }
   ],
   "source": [
    "data=Layer(type=\"MNIST\",batch=128)\n",
    "layers=[]\n",
    "layers.append({\"type\":\"Convolution\",\"pad\":\"SAME\",\"window\":5,\"stride\":1,\"size\":32,\"relu\":True})\n",
    "layers.append({\"type\":\"Pool\",\"pad\":\"SAME\",\"window\":2,\"stride\":2,\"pool_type\":\"max\"})\n",
    "layers.append({\"type\":\"Convolution\",\"pad\":\"SAME\",\"window\":5,\"stride\":1,\"size\":64,\"relu\":True})\n",
    "layers.append({\"type\":\"Pool\",\"pad\":\"SAME\",\"window\":2,\"stride\":2,\"pool_type\":\"max\"})\n",
    "layers.append({\"type\":\"Relu\",\"size\":64})\n",
    "layers.append({\"type\":\"Linear\",\"size\":10,\"dropout\":True})\n",
    "network=Layer(type=\"Network\",x=data,layers=layers)\n",
    "trainer=ClassifierTrainer(network=network,optimizer=\"adam\",finish=True)\n",
    "sess=SessManager(data,network,trainer)\n",
    "sess.start()"
   ]
  },
  {
   "cell_type": "code",
   "execution_count": null,
   "metadata": {
    "collapsed": false
   },
   "outputs": [
    {
     "name": "stdout",
     "output_type": "stream",
     "text": [
      "Error rate: 0.896094\n",
      "Error rate: 0.0742188\n",
      "Error rate: 0.0382813\n",
      "Error rate: 0.0546875\n",
      "Error rate: 0.03125\n",
      "Error rate: 0.0257812\n",
      "Error rate: 0.021875\n",
      "Error rate: 0.021875\n",
      "Error rate: 0.0195313\n",
      "Error rate: 0.01875\n",
      "Error rate: 0.01875\n",
      "Error rate: 0.0171875\n"
     ]
    }
   ],
   "source": [
    "trainer.train(0,keep_rate=1.)\n",
    "trainer.eval_error()\n",
    "for i in range(20):\n",
    "    trainer.train(100,keep_rate=0.5)\n",
    "    trainer.train(0,keep_rate=1.)\n",
    "    trainer.eval_error() #Training error"
   ]
  },
  {
   "cell_type": "code",
   "execution_count": null,
   "metadata": {
    "collapsed": true
   },
   "outputs": [],
   "source": [
    "\n",
    "\n",
    "\n"
   ]
  }
 ],
 "metadata": {
  "anaconda-cloud": {},
  "kernelspec": {
   "display_name": "Python [default]",
   "language": "python",
   "name": "python3"
  },
  "language_info": {
   "codemirror_mode": {
    "name": "ipython",
    "version": 3
   },
   "file_extension": ".py",
   "mimetype": "text/x-python",
   "name": "python",
   "nbconvert_exporter": "python",
   "pygments_lexer": "ipython3",
   "version": "3.5.2"
  }
 },
 "nbformat": 4,
 "nbformat_minor": 1
}
