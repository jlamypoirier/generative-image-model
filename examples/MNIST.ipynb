{
 "cells": [
  {
   "cell_type": "markdown",
   "metadata": {},
   "source": [
    "# MNIST classifier from nnBuilder"
   ]
  },
  {
   "cell_type": "markdown",
   "metadata": {},
   "source": [
    "This is a simple implementation of a MNIST classifier using the nnBuilder framework. The network is essentially identical to the one from the TensorFlow tutorial at https://www.tensorflow.org/tutorials/mnist/pros/."
   ]
  },
  {
   "cell_type": "code",
   "execution_count": 1,
   "metadata": {
    "collapsed": false
   },
   "outputs": [],
   "source": [
    "import numpy as np\n",
    "import tensorflow as tf\n",
    "import sys\n",
    "import matplotlib.pyplot as plt\n",
    "sys.path.append('../nnBuilder')\n",
    "from nnLayer import *\n",
    "from nnInput import *\n",
    "from nnTrainer import *\n",
    "from nnHandler import *"
   ]
  },
  {
   "cell_type": "code",
   "execution_count": 2,
   "metadata": {
    "collapsed": false
   },
   "outputs": [
    {
     "name": "stdout",
     "output_type": "stream",
     "text": [
      "Extracting /tmp/tensorflow/mnist/input_data\\train-images-idx3-ubyte.gz\n",
      "Extracting /tmp/tensorflow/mnist/input_data\\train-labels-idx1-ubyte.gz\n",
      "Extracting /tmp/tensorflow/mnist/input_data\\t10k-images-idx3-ubyte.gz\n",
      "Extracting /tmp/tensorflow/mnist/input_data\\t10k-labels-idx1-ubyte.gz\n",
      "Extracting /tmp/tensorflow/mnist/input_data\\train-images-idx3-ubyte.gz\n",
      "Extracting /tmp/tensorflow/mnist/input_data\\train-labels-idx1-ubyte.gz\n",
      "Extracting /tmp/tensorflow/mnist/input_data\\t10k-images-idx3-ubyte.gz\n",
      "Extracting /tmp/tensorflow/mnist/input_data\\t10k-labels-idx1-ubyte.gz\n",
      "Starting new session\n"
     ]
    },
    {
     "data": {
      "text/plain": [
       "<tensorflow.python.client.session.InteractiveSession at 0xc742860>"
      ]
     },
     "execution_count": 2,
     "metadata": {},
     "output_type": "execute_result"
    }
   ],
   "source": [
    "data=Layer(type=\"MNIST\",batch=128)\n",
    "data_test=Layer(type=\"MNIST\",test=True)\n",
    "layers=[]\n",
    "layers.append(dict(type=\"Convolution\",pad=\"SAME\",window=5,stride=1,size=32,relu=True))\n",
    "layers.append(dict(type=\"Pool\",pad=\"SAME\",window=2,stride=2,pool_type=\"max\"))\n",
    "layers.append(dict(type=\"Convolution\",pad=\"SAME\",window=5,stride=1,size=64,relu=True))\n",
    "layers.append(dict(type=\"Pool\",pad=\"SAME\",window=2,stride=2,pool_type=\"max\"))\n",
    "layers.append(dict(type=\"Relu\",size=64))\n",
    "layers.append(dict(type=\"Linear\",size=10,in_features=[\"Dropout\"]))\n",
    "network_def=dict(type=\"Network\",layers=layers)\n",
    "network=Layer(x=data,**network_def)\n",
    "network_test=network.copy(x=data_test,share_vars=True)\n",
    "trainer=ClassifierTrainer(network=network,optimizer=\"adam\")\n",
    "tester=ClassifierTrainer(network=network_test,test=True)\n",
    "sess=SessManager(data,network,trainer,data_test,network_test,tester)\n",
    "sess.start()"
   ]
  },
  {
   "cell_type": "code",
   "execution_count": 3,
   "metadata": {
    "collapsed": false
   },
   "outputs": [
    {
     "name": "stdout",
     "output_type": "stream",
     "text": [
      "Error rate (train): 0.917969\n",
      "Error rate (test): 0.9108\n",
      "Error rate (train): 0.117578\n",
      "Error rate (test): 0.1059\n",
      "Error rate (train): 0.0792188\n",
      "Error rate (test): 0.0721\n",
      "Error rate (train): 0.0492188\n",
      "Error rate (test): 0.0467\n",
      "Error rate (train): 0.0408594\n",
      "Error rate (test): 0.034\n",
      "Error rate (train): 0.033125\n",
      "Error rate (test): 0.0294\n",
      "Error rate (train): 0.0280469\n",
      "Error rate (test): 0.0238\n",
      "Error rate (train): 0.0271875\n",
      "Error rate (test): 0.0249\n",
      "Error rate (train): 0.0267969\n",
      "Error rate (test): 0.023\n",
      "Error rate (train): 0.0225781\n",
      "Error rate (test): 0.0212\n",
      "Error rate (train): 0.018125\n",
      "Error rate (test): 0.0184\n",
      "Error rate (train): 0.0167969\n",
      "Error rate (test): 0.0159\n",
      "Error rate (train): 0.0178125\n",
      "Error rate (test): 0.0171\n",
      "Error rate (train): 0.0157031\n",
      "Error rate (test): 0.0159\n",
      "Error rate (train): 0.0174219\n",
      "Error rate (test): 0.0162\n",
      "Error rate (train): 0.0145313\n",
      "Error rate (test): 0.0138\n",
      "Error rate (train): 0.0139844\n",
      "Error rate (test): 0.0133\n",
      "Error rate (train): 0.0139062\n",
      "Error rate (test): 0.0136\n",
      "Error rate (train): 0.0128906\n",
      "Error rate (test): 0.0133\n",
      "Error rate (train): 0.0154688\n",
      "Error rate (test): 0.015\n",
      "Error rate (train): 0.0132031\n",
      "Error rate (test): 0.0121\n"
     ]
    }
   ],
   "source": [
    "batches_per_step=100\n",
    "trainer.train(0,keep_rate=1.)\n",
    "trains=[trainer.eval_error()[1]]\n",
    "tests=[tester.eval_error()[1]]\n",
    "for i in range(20):\n",
    "    trainer.train(batches_per_step,keep_rate=0.5)\n",
    "    trainer.train(0,keep_rate=1.)#To eval without dropout, fix needed\n",
    "    trains.append(trainer.eval_error(n=100)[1]) #Training error, reaches about 0.02% with more steps\n",
    "    tests.append(tester.eval_error()[1]) #Testing error, reaches about 0.7% with more steps"
   ]
  },
  {
   "cell_type": "code",
   "execution_count": 4,
   "metadata": {
    "collapsed": false
   },
   "outputs": [
    {
     "data": {
      "image/png": "[encoded data removed]",
      "text/plain": [
       "<matplotlib.figure.Figure at 0xc75fb38>"
      ]
     },
     "metadata": {},
     "output_type": "display_data"
    }
   ],
   "source": [
    "#Plot the training and testing error rates (add more steps to see overfitting)\n",
    "x=[batches_per_step*i for i in range(len(trains))]\n",
    "plt.plot(x,trains, label=\"training\")\n",
    "plt.plot(x,tests, label=\"test\")\n",
    "plt.legend()\n",
    "plt.ylim(0, .05)\n",
    "plt.show()"
   ]
  },
  {
   "cell_type": "code",
   "execution_count": 5,
   "metadata": {
    "collapsed": false
   },
   "outputs": [
    {
     "name": "stdout",
     "output_type": "stream",
     "text": [
      "False\n"
     ]
    },
    {
     "data": {
      "text/plain": [
       "{'layers': [{'input_channels': None,\n",
       "   'pad': 'SAME',\n",
       "   'rand_scale': 0.1,\n",
       "   'relu': True,\n",
       "   'size': 32,\n",
       "   'stride': 1,\n",
       "   'type': 'Convolution',\n",
       "   'window': 5},\n",
       "  {'pad': 'SAME',\n",
       "   'pool_type': 'max',\n",
       "   'stride': 2,\n",
       "   'type': 'Pool',\n",
       "   'window': 2},\n",
       "  {'input_channels': None,\n",
       "   'pad': 'SAME',\n",
       "   'rand_scale': 0.1,\n",
       "   'relu': True,\n",
       "   'size': 64,\n",
       "   'stride': 1,\n",
       "   'type': 'Convolution',\n",
       "   'window': 5},\n",
       "  {'pad': 'SAME',\n",
       "   'pool_type': 'max',\n",
       "   'stride': 2,\n",
       "   'type': 'Pool',\n",
       "   'window': 2},\n",
       "  {'rand_scale': 0.1, 'size': 64, 'type': 'Relu'},\n",
       "  {'in_features': [{'type': 'Dropout'}],\n",
       "   'rand_scale': 0.1,\n",
       "   'size': 10,\n",
       "   'type': 'Linear'}],\n",
       " 'type': 'Network'}"
      ]
     },
     "execution_count": 5,
     "metadata": {},
     "output_type": "execute_result"
    }
   ],
   "source": [
    "network.save() #The full network definition\n",
    "save=network.save() #The full network definition\n",
    "assert(Layer(x=data,**save).save()==save) #Consistency\n",
    "print(save==network_def) #Saving adds stuff, should still be equivalent\n",
    "save"
   ]
  }
 ],
 "metadata": {
  "anaconda-cloud": {},
  "kernelspec": {
   "display_name": "Python [default]",
   "language": "python",
   "name": "python3"
  },
  "language_info": {
   "codemirror_mode": {
    "name": "ipython",
    "version": 3
   },
   "file_extension": ".py",
   "mimetype": "text/x-python",
   "name": "python",
   "nbconvert_exporter": "python",
   "pygments_lexer": "ipython3",
   "version": "3.5.2"
  }
 },
 "nbformat": 4,
 "nbformat_minor": 1
}
