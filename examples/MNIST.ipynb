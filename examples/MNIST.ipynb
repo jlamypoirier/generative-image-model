{
 "cells": [
  {
   "cell_type": "markdown",
   "metadata": {},
   "source": [
    "# MNIST classifier from nnBuilder"
   ]
  },
  {
   "cell_type": "markdown",
   "metadata": {},
   "source": [
    "This is a simple implementation of a MNIST classifier using the nnBuilder framework. The network is essentially identical to the one from the TensorFlow tutorial at https://www.tensorflow.org/tutorials/mnist/pros/."
   ]
  },
  {
   "cell_type": "code",
   "execution_count": 1,
   "metadata": {
    "collapsed": false
   },
   "outputs": [],
   "source": [
    "import numpy as np\n",
    "import tensorflow as tf\n",
    "import sys\n",
    "import matplotlib.pyplot as plt\n",
    "sys.path.append('../nnBuilder')\n",
    "from nnLayer import *\n",
    "from nnInput import *\n",
    "from nnTrainer import *\n",
    "from nnHandler import *"
   ]
  },
  {
   "cell_type": "code",
   "execution_count": null,
   "metadata": {
    "collapsed": false
   },
   "outputs": [
    {
     "name": "stdout",
     "output_type": "stream",
     "text": [
      "Extracting /tmp/tensorflow/mnist/input_data\\train-images-idx3-ubyte.gz\n",
      "Extracting /tmp/tensorflow/mnist/input_data\\train-labels-idx1-ubyte.gz\n",
      "Extracting /tmp/tensorflow/mnist/input_data\\t10k-images-idx3-ubyte.gz\n",
      "Extracting /tmp/tensorflow/mnist/input_data\\t10k-labels-idx1-ubyte.gz\n",
      "train\n",
      "Extracting /tmp/tensorflow/mnist/input_data\\train-images-idx3-ubyte.gz\n",
      "Extracting /tmp/tensorflow/mnist/input_data\\train-labels-idx1-ubyte.gz\n",
      "Extracting /tmp/tensorflow/mnist/input_data\\t10k-images-idx3-ubyte.gz\n",
      "Extracting /tmp/tensorflow/mnist/input_data\\t10k-labels-idx1-ubyte.gz\n",
      "test\n",
      "Starting new session\n"
     ]
    },
    {
     "data": {
      "text/plain": [
       "<tensorflow.python.client.session.InteractiveSession at 0xc4e5da0>"
      ]
     },
     "execution_count": 2,
     "metadata": {},
     "output_type": "execute_result"
    }
   ],
   "source": [
    "test_split_n=10 #Avoid OOM\n",
    "data=Layer(type=\"MNIST\",batch=128)\n",
    "data_test=Layer(type=\"MNIST\",test=True)\n",
    "data_test=Layer(x=data_test,type=\"Batch_Slice\",batch=10000//test_split_n)\n",
    "layers=[]\n",
    "layers.append(dict(type=\"Convolution\",pad=\"SAME\",window=5,stride=1,size=32*4,relu=True))\n",
    "layers.append(dict(type=\"Pool\",pad=\"SAME\",window=2,stride=2,pool_type=\"max\"))\n",
    "layers.append(dict(type=\"Convolution\",pad=\"SAME\",window=5,stride=1,size=64*4,relu=True))\n",
    "layers.append(dict(type=\"Pool\",pad=\"SAME\",window=2,stride=2,pool_type=\"max\"))\n",
    "layers.append(dict(type=\"Relu\",size=64*8))\n",
    "layers.append(dict(type=\"Linear\",size=10,in_features=[\"Dropout\"]))\n",
    "network_def=dict(type=\"Network\",layers=layers)\n",
    "network=Layer(x=data,**network_def)\n",
    "network_test=network.copy(x=data_test,share_vars=True,test=True)\n",
    "trainer=ClassifierTrainer(network=network,optimizer=\"adam\")\n",
    "tester=ClassifierTrainer(network=network_test,test=True)\n",
    "sess=SessManager(data,network,trainer,data_test,network_test,tester)\n",
    "sess.start()"
   ]
  },
  {
   "cell_type": "code",
   "execution_count": null,
   "metadata": {
    "collapsed": false
   },
   "outputs": [
    {
     "name": "stdout",
     "output_type": "stream",
     "text": [
      "Error rate (train): 0.9\n",
      "Error rate (test): 0.897\n",
      "Error rate (train): 0.0666406\n",
      "Error rate (test): 0.0585\n",
      "Error rate (train): 0.0430469\n",
      "Error rate (test): 0.0407\n",
      "Error rate (train): 0.0321875\n",
      "Error rate (test): 0.0294\n",
      "Error rate (train): 0.0263281\n",
      "Error rate (test): 0.0232\n",
      "Error rate (train): 0.0200781\n",
      "Error rate (test): 0.0207\n",
      "Error rate (train): 0.0175781\n",
      "Error rate (test): 0.0168\n",
      "Error rate (train): 0.0170313\n",
      "Error rate (test): 0.0165\n",
      "Error rate (train): 0.0150781\n",
      "Error rate (test): 0.0166\n",
      "Error rate (train): 0.0126563\n",
      "Error rate (test): 0.0157\n",
      "Error rate (train): 0.0151563\n",
      "Error rate (test): 0.0154\n",
      "Error rate (train): 0.0117188\n",
      "Error rate (test): 0.0138\n",
      "Error rate (train): 0.0135156\n",
      "Error rate (test): 0.0152\n",
      "Error rate (train): 0.0136719\n",
      "Error rate (test): 0.0139\n",
      "Error rate (train): 0.01125\n",
      "Error rate (test): 0.0122\n",
      "Error rate (train): 0.00921875\n",
      "Error rate (test): 0.0125\n",
      "Error rate (train): 0.00898437\n",
      "Error rate (test): 0.0105\n",
      "Error rate (train): 0.0121094\n",
      "Error rate (test): 0.013\n"
     ]
    }
   ],
   "source": [
    "batches_per_step=100\n",
    "trainer.train(0,keep_rate=1.)\n",
    "trains=[trainer.eval_error()[1]]\n",
    "tests=[tester.eval_error()[1]]\n",
    "for i in range(100):\n",
    "    trainer.train(batches_per_step,keep_rate=0.5,l2reg=1e-2)\n",
    "    trainer.train(0,keep_rate=1.)#To eval without dropout, fix needed\n",
    "    trains.append(trainer.eval_error(n=100)[1]) #Training error, reaches about 0.02% with more steps\n",
    "    tests.append(tester.eval_error(n=test_split_n)[1]) #Testing error, reaches about 0.7% with more steps"
   ]
  },
  {
   "cell_type": "code",
   "execution_count": null,
   "metadata": {
    "collapsed": false
   },
   "outputs": [],
   "source": [
    "#Plot the training and testing error rates (add more steps to see overfitting)\n",
    "x=[batches_per_step*i for i in range(len(trains))]\n",
    "plt.plot(x,trains, label=\"training\")\n",
    "plt.plot(x,tests, label=\"test\")\n",
    "plt.legend()\n",
    "plt.ylim(0, .05)\n",
    "plt.show()"
   ]
  },
  {
   "cell_type": "code",
   "execution_count": null,
   "metadata": {
    "collapsed": false
   },
   "outputs": [],
   "source": [
    "network.save() #The full network definition\n",
    "save=network.save() #The full network definition\n",
    "assert(Layer(x=data,**save).save()==save) #Consistency\n",
    "print(save==network_def) #Saving adds stuff, should still be equivalent\n",
    "save"
   ]
  },
  {
   "cell_type": "code",
   "execution_count": null,
   "metadata": {
    "collapsed": false
   },
   "outputs": [],
   "source": [
    "import sys, os, seaborn, time\n",
    "t0=time.time()\n",
    "trainer.train(600000//128,keep_rate=0.5)\n",
    "time.time()-t0"
   ]
  },
  {
   "cell_type": "code",
   "execution_count": null,
   "metadata": {
    "collapsed": true
   },
   "outputs": [],
   "source": []
  }
 ],
 "metadata": {
  "anaconda-cloud": {},
  "kernelspec": {
   "display_name": "Python [default]",
   "language": "python",
   "name": "python3"
  },
  "language_info": {
   "codemirror_mode": {
    "name": "ipython",
    "version": 3
   },
   "file_extension": ".py",
   "mimetype": "text/x-python",
   "name": "python",
   "nbconvert_exporter": "python",
   "pygments_lexer": "ipython3",
   "version": "3.5.2"
  }
 },
 "nbformat": 4,
 "nbformat_minor": 1
}
