{
 "cells": [
  {
   "cell_type": "markdown",
   "metadata": {},
   "source": [
    "# MNIST autoencoder from nnBuilder"
   ]
  },
  {
   "cell_type": "markdown",
   "metadata": {},
   "source": [
    "A basic convolutional autoencoder for MNIST"
   ]
  },
  {
   "cell_type": "code",
   "execution_count": 1,
   "metadata": {
    "collapsed": false
   },
   "outputs": [],
   "source": [
    "import numpy as np\n",
    "import tensorflow as tf\n",
    "import sys, os, seaborn, time\n",
    "import matplotlib.pyplot as plt\n",
    "sys.path.append('../nnBuilder')\n",
    "from nnLayer import *\n",
    "from nnInput import *\n",
    "from nnTrainer import *\n",
    "from nnHandler import *\n",
    "from nnAuto import *"
   ]
  },
  {
   "cell_type": "code",
   "execution_count": 2,
   "metadata": {
    "collapsed": false
   },
   "outputs": [
    {
     "name": "stdout",
     "output_type": "stream",
     "text": [
      "Extracting /tmp/tensorflow/mnist/input_data\\train-images-idx3-ubyte.gz\n",
      "Extracting /tmp/tensorflow/mnist/input_data\\train-labels-idx1-ubyte.gz\n",
      "Extracting /tmp/tensorflow/mnist/input_data\\t10k-images-idx3-ubyte.gz\n",
      "Extracting /tmp/tensorflow/mnist/input_data\\t10k-labels-idx1-ubyte.gz\n",
      "Extracting /tmp/tensorflow/mnist/input_data\\train-images-idx3-ubyte.gz\n",
      "Extracting /tmp/tensorflow/mnist/input_data\\train-labels-idx1-ubyte.gz\n",
      "Extracting /tmp/tensorflow/mnist/input_data\\t10k-images-idx3-ubyte.gz\n",
      "Extracting /tmp/tensorflow/mnist/input_data\\t10k-labels-idx1-ubyte.gz\n"
     ]
    }
   ],
   "source": [
    "data=Layer(type=\"MNIST\",batch=128)\n",
    "data_test=Layer(type=\"MNIST\",test=True)\n",
    "'''encoder=[]\n",
    "encoder.append(dict(type=\"Convolution\",pad=\"SAME\",window=5,stride=1,size=2,relu=True))\n",
    "encoder.append(dict(type=\"Pool\",pad=\"SAME\",window=2,stride=2,pool_type=\"max\"))\n",
    "encoder.append(dict(type=\"Convolution\",pad=\"SAME\",window=5,stride=1,size=4,relu=True))\n",
    "encoder.append(dict(type=\"Pool\",pad=\"SAME\",window=2,stride=2,pool_type=\"max\"))\n",
    "decoder=[]\n",
    "decoder.append(dict(type=\"Relu\",size=49*4))\n",
    "decoder.append(dict(type=\"Reshape\",shape=[-1,7,7,4]))\n",
    "decoder.append(dict(type=\"Convolution_Transpose\",pad=\"SAME\",window=5,stride=2,size=2,relu=True))\n",
    "decoder.append(dict(type=\"Convolution_Transpose\",pad=\"SAME\",window=5,stride=2,size=1,relu=False))'''\n",
    "#decoder.append(dict(type=\"Sigmoid_Feature\"))\n",
    "encoder=[]\n",
    "encoder.append(dict(type=\"Relu\",size=512))\n",
    "encoder.append(dict(type=\"Relu\",size=256))\n",
    "encoder=dict(type=\"Normal_Learned\",layers=encoder,mean=dict(type=\"Linear\",size=2))\n",
    "decoder=[]\n",
    "decoder.append(dict(type=\"Relu\",size=256))\n",
    "decoder.append(dict(type=\"Relu\",size=512))\n",
    "decoder.append(dict(type=\"Linear\",size=784))\n",
    "decoder.append(dict(type=\"Reshape\",shape=[-1,28,28,1]))\n",
    "decoder=dict(type=\"Binary_Learned\",layers=decoder)\n",
    "\n",
    "\n",
    "\n",
    "autoencoder=Layer(x=data,type=\"Autoencoder\",encoder=encoder,decoder=decoder,variational=True)\n",
    "autoencoder_eval=autoencoder.copy(x=data,test=True)\n",
    "autoencoder_test=autoencoder.copy(x=data_test,test=True)\n",
    "\n",
    "trainer=LabeledTrainer(network=autoencoder,optimizer=\"adam\",loss=\"network\")\n",
    "tester_eval=LabeledTrainer(network=autoencoder_eval,loss=\"network\",test=True)\n",
    "tester=LabeledTrainer(network=autoencoder_test,loss=\"network\",test=True)\n",
    "\n",
    "#trainer_start=LabeledTrainer(network=autoencoder,optimizer=\"adam\",loss=\"mean_squared_error\")\n",
    "\n",
    "sess=SessManager()"
   ]
  },
  {
   "cell_type": "code",
   "execution_count": 3,
   "metadata": {
    "collapsed": false,
    "scrolled": false
   },
   "outputs": [
    {
     "name": "stdout",
     "output_type": "stream",
     "text": [
      "789.882\n",
      "789.72\n"
     ]
    },
    {
     "data": {
      "application/javascript": [
       "/* Put everything inside the global mpl namespace */\n",
       "window.mpl = {};\n",
       "\n",
       "mpl.get_websocket_type = function() {\n",
       "    if (typeof(WebSocket) !== 'undefined') {\n",
       "        return WebSocket;\n",
       "    } else if (typeof(MozWebSocket) !== 'undefined') {\n",
       "        return MozWebSocket;\n",
       "    } else {\n",
       "        alert('Your browser does not have WebSocket support.' +\n",
       "              'Please try Chrome, Safari or Firefox ≥ 6. ' +\n",
       "              'Firefox 4 and 5 are also supported but you ' +\n",
       "              'have to enable WebSockets in about:config.');\n",
       "    };\n",
       "}\n",
       "\n",
       "mpl.figure = function(figure_id, websocket, ondownload, parent_element) {\n",
       "    this.id = figure_id;\n",
       "\n",
       "    this.ws = websocket;\n",
       "\n",
       "    this.supports_binary = (this.ws.binaryType != undefined);\n",
       "\n",
       "    if (!this.supports_binary) {\n",
       "        var warnings = document.getElementById(\"mpl-warnings\");\n",
       "        if (warnings) {\n",
       "            warnings.style.display = 'block';\n",
       "            warnings.textContent = (\n",
       "                \"This browser does not support binary websocket messages. \" +\n",
       "                    \"Performance may be slow.\");\n",
       "        }\n",
       "    }\n",
       "\n",
       "    this.imageObj = new Image();\n",
       "\n",
       "    this.context = undefined;\n",
       "    this.message = undefined;\n",
       "    this.canvas = undefined;\n",
       "    this.rubberband_canvas = undefined;\n",
       "    this.rubberband_context = undefined;\n",
       "    this.format_dropdown = undefined;\n",
       "\n",
       "    this.image_mode = 'full';\n",
       "\n",
       "    this.root = $('<div/>');\n",
       "    this._root_extra_style(this.root)\n",
       "    this.root.attr('style', 'display: inline-block');\n",
       "\n",
       "    $(parent_element).append(this.root);\n",
       "\n",
       "    this._init_header(this);\n",
       "    this._init_canvas(this);\n",
       "    this._init_toolbar(this);\n",
       "\n",
       "    var fig = this;\n",
       "\n",
       "    this.waiting = false;\n",
       "\n",
       "    this.ws.onopen =  function () {\n",
       "            fig.send_message(\"supports_binary\", {value: fig.supports_binary});\n",
       "            fig.send_message(\"send_image_mode\", {});\n",
       "            fig.send_message(\"refresh\", {});\n",
       "        }\n",
       "\n",
       "    this.imageObj.onload = function() {\n",
       "            if (fig.image_mode == 'full') {\n",
       "                // Full images could contain transparency (where diff images\n",
       "                // almost always do), so we need to clear the canvas so that\n",
       "                // there is no ghosting.\n",
       "                fig.context.clearRect(0, 0, fig.canvas.width, fig.canvas.height);\n",
       "            }\n",
       "            fig.context.drawImage(fig.imageObj, 0, 0);\n",
       "        };\n",
       "\n",
       "    this.imageObj.onunload = function() {\n",
       "        this.ws.close();\n",
       "    }\n",
       "\n",
       "    this.ws.onmessage = this._make_on_message_function(this);\n",
       "\n",
       "    this.ondownload = ondownload;\n",
       "}\n",
       "\n",
       "mpl.figure.prototype._init_header = function() {\n",
       "    var titlebar = $(\n",
       "        '<div class=\"ui-dialog-titlebar ui-widget-header ui-corner-all ' +\n",
       "        'ui-helper-clearfix\"/>');\n",
       "    var titletext = $(\n",
       "        '<div class=\"ui-dialog-title\" style=\"width: 100%; ' +\n",
       "        'text-align: center; padding: 3px;\"/>');\n",
       "    titlebar.append(titletext)\n",
       "    this.root.append(titlebar);\n",
       "    this.header = titletext[0];\n",
       "}\n",
       "\n",
       "\n",
       "\n",
       "mpl.figure.prototype._canvas_extra_style = function(canvas_div) {\n",
       "\n",
       "}\n",
       "\n",
       "\n",
       "mpl.figure.prototype._root_extra_style = function(canvas_div) {\n",
       "\n",
       "}\n",
       "\n",
       "mpl.figure.prototype._init_canvas = function() {\n",
       "    var fig = this;\n",
       "\n",
       "    var canvas_div = $('<div/>');\n",
       "\n",
       "    canvas_div.attr('style', 'position: relative; clear: both; outline: 0');\n",
       "\n",
       "    function canvas_keyboard_event(event) {\n",
       "        return fig.key_event(event, event['data']);\n",
       "    }\n",
       "\n",
       "    canvas_div.keydown('key_press', canvas_keyboard_event);\n",
       "    canvas_div.keyup('key_release', canvas_keyboard_event);\n",
       "    this.canvas_div = canvas_div\n",
       "    this._canvas_extra_style(canvas_div)\n",
       "    this.root.append(canvas_div);\n",
       "\n",
       "    var canvas = $('<canvas/>');\n",
       "    canvas.addClass('mpl-canvas');\n",
       "    canvas.attr('style', \"left: 0; top: 0; z-index: 0; outline: 0\")\n",
       "\n",
       "    this.canvas = canvas[0];\n",
       "    this.context = canvas[0].getContext(\"2d\");\n",
       "\n",
       "    var rubberband = $('<canvas/>');\n",
       "    rubberband.attr('style', \"position: absolute; left: 0; top: 0; z-index: 1;\")\n",
       "\n",
       "    var pass_mouse_events = true;\n",
       "\n",
       "    canvas_div.resizable({\n",
       "        start: function(event, ui) {\n",
       "            pass_mouse_events = false;\n",
       "        },\n",
       "        resize: function(event, ui) {\n",
       "            fig.request_resize(ui.size.width, ui.size.height);\n",
       "        },\n",
       "        stop: function(event, ui) {\n",
       "            pass_mouse_events = true;\n",
       "            fig.request_resize(ui.size.width, ui.size.height);\n",
       "        },\n",
       "    });\n",
       "\n",
       "    function mouse_event_fn(event) {\n",
       "        if (pass_mouse_events)\n",
       "            return fig.mouse_event(event, event['data']);\n",
       "    }\n",
       "\n",
       "    rubberband.mousedown('button_press', mouse_event_fn);\n",
       "    rubberband.mouseup('button_release', mouse_event_fn);\n",
       "    // Throttle sequential mouse events to 1 every 20ms.\n",
       "    rubberband.mousemove('motion_notify', mouse_event_fn);\n",
       "\n",
       "    rubberband.mouseenter('figure_enter', mouse_event_fn);\n",
       "    rubberband.mouseleave('figure_leave', mouse_event_fn);\n",
       "\n",
       "    canvas_div.on(\"wheel\", function (event) {\n",
       "        event = event.originalEvent;\n",
       "        event['data'] = 'scroll'\n",
       "        if (event.deltaY < 0) {\n",
       "            event.step = 1;\n",
       "        } else {\n",
       "            event.step = -1;\n",
       "        }\n",
       "        mouse_event_fn(event);\n",
       "    });\n",
       "\n",
       "    canvas_div.append(canvas);\n",
       "    canvas_div.append(rubberband);\n",
       "\n",
       "    this.rubberband = rubberband;\n",
       "    this.rubberband_canvas = rubberband[0];\n",
       "    this.rubberband_context = rubberband[0].getContext(\"2d\");\n",
       "    this.rubberband_context.strokeStyle = \"#000000\";\n",
       "\n",
       "    this._resize_canvas = function(width, height) {\n",
       "        // Keep the size of the canvas, canvas container, and rubber band\n",
       "        // canvas in synch.\n",
       "        canvas_div.css('width', width)\n",
       "        canvas_div.css('height', height)\n",
       "\n",
       "        canvas.attr('width', width);\n",
       "        canvas.attr('height', height);\n",
       "\n",
       "        rubberband.attr('width', width);\n",
       "        rubberband.attr('height', height);\n",
       "    }\n",
       "\n",
       "    // Set the figure to an initial 600x600px, this will subsequently be updated\n",
       "    // upon first draw.\n",
       "    this._resize_canvas(600, 600);\n",
       "\n",
       "    // Disable right mouse context menu.\n",
       "    $(this.rubberband_canvas).bind(\"contextmenu\",function(e){\n",
       "        return false;\n",
       "    });\n",
       "\n",
       "    function set_focus () {\n",
       "        canvas.focus();\n",
       "        canvas_div.focus();\n",
       "    }\n",
       "\n",
       "    window.setTimeout(set_focus, 100);\n",
       "}\n",
       "\n",
       "mpl.figure.prototype._init_toolbar = function() {\n",
       "    var fig = this;\n",
       "\n",
       "    var nav_element = $('<div/>')\n",
       "    nav_element.attr('style', 'width: 100%');\n",
       "    this.root.append(nav_element);\n",
       "\n",
       "    // Define a callback function for later on.\n",
       "    function toolbar_event(event) {\n",
       "        return fig.toolbar_button_onclick(event['data']);\n",
       "    }\n",
       "    function toolbar_mouse_event(event) {\n",
       "        return fig.toolbar_button_onmouseover(event['data']);\n",
       "    }\n",
       "\n",
       "    for(var toolbar_ind in mpl.toolbar_items) {\n",
       "        var name = mpl.toolbar_items[toolbar_ind][0];\n",
       "        var tooltip = mpl.toolbar_items[toolbar_ind][1];\n",
       "        var image = mpl.toolbar_items[toolbar_ind][2];\n",
       "        var method_name = mpl.toolbar_items[toolbar_ind][3];\n",
       "\n",
       "        if (!name) {\n",
       "            // put a spacer in here.\n",
       "            continue;\n",
       "        }\n",
       "        var button = $('<button/>');\n",
       "        button.addClass('ui-button ui-widget ui-state-default ui-corner-all ' +\n",
       "                        'ui-button-icon-only');\n",
       "        button.attr('role', 'button');\n",
       "        button.attr('aria-disabled', 'false');\n",
       "        button.click(method_name, toolbar_event);\n",
       "        button.mouseover(tooltip, toolbar_mouse_event);\n",
       "\n",
       "        var icon_img = $('<span/>');\n",
       "        icon_img.addClass('ui-button-icon-primary ui-icon');\n",
       "        icon_img.addClass(image);\n",
       "        icon_img.addClass('ui-corner-all');\n",
       "\n",
       "        var tooltip_span = $('<span/>');\n",
       "        tooltip_span.addClass('ui-button-text');\n",
       "        tooltip_span.html(tooltip);\n",
       "\n",
       "        button.append(icon_img);\n",
       "        button.append(tooltip_span);\n",
       "\n",
       "        nav_element.append(button);\n",
       "    }\n",
       "\n",
       "    var fmt_picker_span = $('<span/>');\n",
       "\n",
       "    var fmt_picker = $('<select/>');\n",
       "    fmt_picker.addClass('mpl-toolbar-option ui-widget ui-widget-content');\n",
       "    fmt_picker_span.append(fmt_picker);\n",
       "    nav_element.append(fmt_picker_span);\n",
       "    this.format_dropdown = fmt_picker[0];\n",
       "\n",
       "    for (var ind in mpl.extensions) {\n",
       "        var fmt = mpl.extensions[ind];\n",
       "        var option = $(\n",
       "            '<option/>', {selected: fmt === mpl.default_extension}).html(fmt);\n",
       "        fmt_picker.append(option)\n",
       "    }\n",
       "\n",
       "    // Add hover states to the ui-buttons\n",
       "    $( \".ui-button\" ).hover(\n",
       "        function() { $(this).addClass(\"ui-state-hover\");},\n",
       "        function() { $(this).removeClass(\"ui-state-hover\");}\n",
       "    );\n",
       "\n",
       "    var status_bar = $('<span class=\"mpl-message\"/>');\n",
       "    nav_element.append(status_bar);\n",
       "    this.message = status_bar[0];\n",
       "}\n",
       "\n",
       "mpl.figure.prototype.request_resize = function(x_pixels, y_pixels) {\n",
       "    // Request matplotlib to resize the figure. Matplotlib will then trigger a resize in the client,\n",
       "    // which will in turn request a refresh of the image.\n",
       "    this.send_message('resize', {'width': x_pixels, 'height': y_pixels});\n",
       "}\n",
       "\n",
       "mpl.figure.prototype.send_message = function(type, properties) {\n",
       "    properties['type'] = type;\n",
       "    properties['figure_id'] = this.id;\n",
       "    this.ws.send(JSON.stringify(properties));\n",
       "}\n",
       "\n",
       "mpl.figure.prototype.send_draw_message = function() {\n",
       "    if (!this.waiting) {\n",
       "        this.waiting = true;\n",
       "        this.ws.send(JSON.stringify({type: \"draw\", figure_id: this.id}));\n",
       "    }\n",
       "}\n",
       "\n",
       "\n",
       "mpl.figure.prototype.handle_save = function(fig, msg) {\n",
       "    var format_dropdown = fig.format_dropdown;\n",
       "    var format = format_dropdown.options[format_dropdown.selectedIndex].value;\n",
       "    fig.ondownload(fig, format);\n",
       "}\n",
       "\n",
       "\n",
       "mpl.figure.prototype.handle_resize = function(fig, msg) {\n",
       "    var size = msg['size'];\n",
       "    if (size[0] != fig.canvas.width || size[1] != fig.canvas.height) {\n",
       "        fig._resize_canvas(size[0], size[1]);\n",
       "        fig.send_message(\"refresh\", {});\n",
       "    };\n",
       "}\n",
       "\n",
       "mpl.figure.prototype.handle_rubberband = function(fig, msg) {\n",
       "    var x0 = msg['x0'];\n",
       "    var y0 = fig.canvas.height - msg['y0'];\n",
       "    var x1 = msg['x1'];\n",
       "    var y1 = fig.canvas.height - msg['y1'];\n",
       "    x0 = Math.floor(x0) + 0.5;\n",
       "    y0 = Math.floor(y0) + 0.5;\n",
       "    x1 = Math.floor(x1) + 0.5;\n",
       "    y1 = Math.floor(y1) + 0.5;\n",
       "    var min_x = Math.min(x0, x1);\n",
       "    var min_y = Math.min(y0, y1);\n",
       "    var width = Math.abs(x1 - x0);\n",
       "    var height = Math.abs(y1 - y0);\n",
       "\n",
       "    fig.rubberband_context.clearRect(\n",
       "        0, 0, fig.canvas.width, fig.canvas.height);\n",
       "\n",
       "    fig.rubberband_context.strokeRect(min_x, min_y, width, height);\n",
       "}\n",
       "\n",
       "mpl.figure.prototype.handle_figure_label = function(fig, msg) {\n",
       "    // Updates the figure title.\n",
       "    fig.header.textContent = msg['label'];\n",
       "}\n",
       "\n",
       "mpl.figure.prototype.handle_cursor = function(fig, msg) {\n",
       "    var cursor = msg['cursor'];\n",
       "    switch(cursor)\n",
       "    {\n",
       "    case 0:\n",
       "        cursor = 'pointer';\n",
       "        break;\n",
       "    case 1:\n",
       "        cursor = 'default';\n",
       "        break;\n",
       "    case 2:\n",
       "        cursor = 'crosshair';\n",
       "        break;\n",
       "    case 3:\n",
       "        cursor = 'move';\n",
       "        break;\n",
       "    }\n",
       "    fig.rubberband_canvas.style.cursor = cursor;\n",
       "}\n",
       "\n",
       "mpl.figure.prototype.handle_message = function(fig, msg) {\n",
       "    fig.message.textContent = msg['message'];\n",
       "}\n",
       "\n",
       "mpl.figure.prototype.handle_draw = function(fig, msg) {\n",
       "    // Request the server to send over a new figure.\n",
       "    fig.send_draw_message();\n",
       "}\n",
       "\n",
       "mpl.figure.prototype.handle_image_mode = function(fig, msg) {\n",
       "    fig.image_mode = msg['mode'];\n",
       "}\n",
       "\n",
       "mpl.figure.prototype.updated_canvas_event = function() {\n",
       "    // Called whenever the canvas gets updated.\n",
       "    this.send_message(\"ack\", {});\n",
       "}\n",
       "\n",
       "// A function to construct a web socket function for onmessage handling.\n",
       "// Called in the figure constructor.\n",
       "mpl.figure.prototype._make_on_message_function = function(fig) {\n",
       "    return function socket_on_message(evt) {\n",
       "        if (evt.data instanceof Blob) {\n",
       "            /* FIXME: We get \"Resource interpreted as Image but\n",
       "             * transferred with MIME type text/plain:\" errors on\n",
       "             * Chrome.  But how to set the MIME type?  It doesn't seem\n",
       "             * to be part of the websocket stream */\n",
       "            evt.data.type = \"image/png\";\n",
       "\n",
       "            /* Free the memory for the previous frames */\n",
       "            if (fig.imageObj.src) {\n",
       "                (window.URL || window.webkitURL).revokeObjectURL(\n",
       "                    fig.imageObj.src);\n",
       "            }\n",
       "\n",
       "            fig.imageObj.src = (window.URL || window.webkitURL).createObjectURL(\n",
       "                evt.data);\n",
       "            fig.updated_canvas_event();\n",
       "            fig.waiting = false;\n",
       "            return;\n",
       "        }\n",
       "        else if (typeof evt.data === 'string' && evt.data.slice(0, 21) == \"data:image/png;base64\") {\n",
       "            fig.imageObj.src = evt.data;\n",
       "            fig.updated_canvas_event();\n",
       "            fig.waiting = false;\n",
       "            return;\n",
       "        }\n",
       "\n",
       "        var msg = JSON.parse(evt.data);\n",
       "        var msg_type = msg['type'];\n",
       "\n",
       "        // Call the  \"handle_{type}\" callback, which takes\n",
       "        // the figure and JSON message as its only arguments.\n",
       "        try {\n",
       "            var callback = fig[\"handle_\" + msg_type];\n",
       "        } catch (e) {\n",
       "            console.log(\"No handler for the '\" + msg_type + \"' message type: \", msg);\n",
       "            return;\n",
       "        }\n",
       "\n",
       "        if (callback) {\n",
       "            try {\n",
       "                // console.log(\"Handling '\" + msg_type + \"' message: \", msg);\n",
       "                callback(fig, msg);\n",
       "            } catch (e) {\n",
       "                console.log(\"Exception inside the 'handler_\" + msg_type + \"' callback:\", e, e.stack, msg);\n",
       "            }\n",
       "        }\n",
       "    };\n",
       "}\n",
       "\n",
       "// from http://stackoverflow.com/questions/1114465/getting-mouse-location-in-canvas\n",
       "mpl.findpos = function(e) {\n",
       "    //this section is from http://www.quirksmode.org/js/events_properties.html\n",
       "    var targ;\n",
       "    if (!e)\n",
       "        e = window.event;\n",
       "    if (e.target)\n",
       "        targ = e.target;\n",
       "    else if (e.srcElement)\n",
       "        targ = e.srcElement;\n",
       "    if (targ.nodeType == 3) // defeat Safari bug\n",
       "        targ = targ.parentNode;\n",
       "\n",
       "    // jQuery normalizes the pageX and pageY\n",
       "    // pageX,Y are the mouse positions relative to the document\n",
       "    // offset() returns the position of the element relative to the document\n",
       "    var x = e.pageX - $(targ).offset().left;\n",
       "    var y = e.pageY - $(targ).offset().top;\n",
       "\n",
       "    return {\"x\": x, \"y\": y};\n",
       "};\n",
       "\n",
       "/*\n",
       " * return a copy of an object with only non-object keys\n",
       " * we need this to avoid circular references\n",
       " * http://stackoverflow.com/a/24161582/3208463\n",
       " */\n",
       "function simpleKeys (original) {\n",
       "  return Object.keys(original).reduce(function (obj, key) {\n",
       "    if (typeof original[key] !== 'object')\n",
       "        obj[key] = original[key]\n",
       "    return obj;\n",
       "  }, {});\n",
       "}\n",
       "\n",
       "mpl.figure.prototype.mouse_event = function(event, name) {\n",
       "    var canvas_pos = mpl.findpos(event)\n",
       "\n",
       "    if (name === 'button_press')\n",
       "    {\n",
       "        this.canvas.focus();\n",
       "        this.canvas_div.focus();\n",
       "    }\n",
       "\n",
       "    var x = canvas_pos.x;\n",
       "    var y = canvas_pos.y;\n",
       "\n",
       "    this.send_message(name, {x: x, y: y, button: event.button,\n",
       "                             step: event.step,\n",
       "                             guiEvent: simpleKeys(event)});\n",
       "\n",
       "    /* This prevents the web browser from automatically changing to\n",
       "     * the text insertion cursor when the button is pressed.  We want\n",
       "     * to control all of the cursor setting manually through the\n",
       "     * 'cursor' event from matplotlib */\n",
       "    event.preventDefault();\n",
       "    return false;\n",
       "}\n",
       "\n",
       "mpl.figure.prototype._key_event_extra = function(event, name) {\n",
       "    // Handle any extra behaviour associated with a key event\n",
       "}\n",
       "\n",
       "mpl.figure.prototype.key_event = function(event, name) {\n",
       "\n",
       "    // Prevent repeat events\n",
       "    if (name == 'key_press')\n",
       "    {\n",
       "        if (event.which === this._key)\n",
       "            return;\n",
       "        else\n",
       "            this._key = event.which;\n",
       "    }\n",
       "    if (name == 'key_release')\n",
       "        this._key = null;\n",
       "\n",
       "    var value = '';\n",
       "    if (event.ctrlKey && event.which != 17)\n",
       "        value += \"ctrl+\";\n",
       "    if (event.altKey && event.which != 18)\n",
       "        value += \"alt+\";\n",
       "    if (event.shiftKey && event.which != 16)\n",
       "        value += \"shift+\";\n",
       "\n",
       "    value += 'k';\n",
       "    value += event.which.toString();\n",
       "\n",
       "    this._key_event_extra(event, name);\n",
       "\n",
       "    this.send_message(name, {key: value,\n",
       "                             guiEvent: simpleKeys(event)});\n",
       "    return false;\n",
       "}\n",
       "\n",
       "mpl.figure.prototype.toolbar_button_onclick = function(name) {\n",
       "    if (name == 'download') {\n",
       "        this.handle_save(this, null);\n",
       "    } else {\n",
       "        this.send_message(\"toolbar_button\", {name: name});\n",
       "    }\n",
       "};\n",
       "\n",
       "mpl.figure.prototype.toolbar_button_onmouseover = function(tooltip) {\n",
       "    this.message.textContent = tooltip;\n",
       "};\n",
       "mpl.toolbar_items = [[\"Home\", \"Reset original view\", \"fa fa-home icon-home\", \"home\"], [\"Back\", \"Back to  previous view\", \"fa fa-arrow-left icon-arrow-left\", \"back\"], [\"Forward\", \"Forward to next view\", \"fa fa-arrow-right icon-arrow-right\", \"forward\"], [\"\", \"\", \"\", \"\"], [\"Pan\", \"Pan axes with left mouse, zoom with right\", \"fa fa-arrows icon-move\", \"pan\"], [\"Zoom\", \"Zoom to rectangle\", \"fa fa-square-o icon-check-empty\", \"zoom\"], [\"\", \"\", \"\", \"\"], [\"Download\", \"Download plot\", \"fa fa-floppy-o icon-save\", \"download\"]];\n",
       "\n",
       "mpl.extensions = [\"eps\", \"jpeg\", \"pdf\", \"png\", \"ps\", \"raw\", \"svg\", \"tif\"];\n",
       "\n",
       "mpl.default_extension = \"png\";var comm_websocket_adapter = function(comm) {\n",
       "    // Create a \"websocket\"-like object which calls the given IPython comm\n",
       "    // object with the appropriate methods. Currently this is a non binary\n",
       "    // socket, so there is still some room for performance tuning.\n",
       "    var ws = {};\n",
       "\n",
       "    ws.close = function() {\n",
       "        comm.close()\n",
       "    };\n",
       "    ws.send = function(m) {\n",
       "        //console.log('sending', m);\n",
       "        comm.send(m);\n",
       "    };\n",
       "    // Register the callback with on_msg.\n",
       "    comm.on_msg(function(msg) {\n",
       "        //console.log('receiving', msg['content']['data'], msg);\n",
       "        // Pass the mpl event to the overriden (by mpl) onmessage function.\n",
       "        ws.onmessage(msg['content']['data'])\n",
       "    });\n",
       "    return ws;\n",
       "}\n",
       "\n",
       "mpl.mpl_figure_comm = function(comm, msg) {\n",
       "    // This is the function which gets called when the mpl process\n",
       "    // starts-up an IPython Comm through the \"matplotlib\" channel.\n",
       "\n",
       "    var id = msg.content.data.id;\n",
       "    // Get hold of the div created by the display call when the Comm\n",
       "    // socket was opened in Python.\n",
       "    var element = $(\"#\" + id);\n",
       "    var ws_proxy = comm_websocket_adapter(comm)\n",
       "\n",
       "    function ondownload(figure, format) {\n",
       "        window.open(figure.imageObj.src);\n",
       "    }\n",
       "\n",
       "    var fig = new mpl.figure(id, ws_proxy,\n",
       "                           ondownload,\n",
       "                           element.get(0));\n",
       "\n",
       "    // Call onopen now - mpl needs it, as it is assuming we've passed it a real\n",
       "    // web socket which is closed, not our websocket->open comm proxy.\n",
       "    ws_proxy.onopen();\n",
       "\n",
       "    fig.parent_element = element.get(0);\n",
       "    fig.cell_info = mpl.find_output_cell(\"<div id='\" + id + \"'></div>\");\n",
       "    if (!fig.cell_info) {\n",
       "        console.error(\"Failed to find cell for figure\", id, fig);\n",
       "        return;\n",
       "    }\n",
       "\n",
       "    var output_index = fig.cell_info[2]\n",
       "    var cell = fig.cell_info[0];\n",
       "\n",
       "};\n",
       "\n",
       "mpl.figure.prototype.handle_close = function(fig, msg) {\n",
       "    fig.root.unbind('remove')\n",
       "\n",
       "    // Update the output cell to use the data from the current canvas.\n",
       "    fig.push_to_output();\n",
       "    var dataURL = fig.canvas.toDataURL();\n",
       "    // Re-enable the keyboard manager in IPython - without this line, in FF,\n",
       "    // the notebook keyboard shortcuts fail.\n",
       "    IPython.keyboard_manager.enable()\n",
       "    $(fig.parent_element).html('<img src=\"' + dataURL + '\">');\n",
       "    fig.close_ws(fig, msg);\n",
       "}\n",
       "\n",
       "mpl.figure.prototype.close_ws = function(fig, msg){\n",
       "    fig.send_message('closing', msg);\n",
       "    // fig.ws.close()\n",
       "}\n",
       "\n",
       "mpl.figure.prototype.push_to_output = function(remove_interactive) {\n",
       "    // Turn the data on the canvas into data in the output cell.\n",
       "    var dataURL = this.canvas.toDataURL();\n",
       "    this.cell_info[1]['text/html'] = '<img src=\"' + dataURL + '\">';\n",
       "}\n",
       "\n",
       "mpl.figure.prototype.updated_canvas_event = function() {\n",
       "    // Tell IPython that the notebook contents must change.\n",
       "    IPython.notebook.set_dirty(true);\n",
       "    this.send_message(\"ack\", {});\n",
       "    var fig = this;\n",
       "    // Wait a second, then push the new image to the DOM so\n",
       "    // that it is saved nicely (might be nice to debounce this).\n",
       "    setTimeout(function () { fig.push_to_output() }, 1000);\n",
       "}\n",
       "\n",
       "mpl.figure.prototype._init_toolbar = function() {\n",
       "    var fig = this;\n",
       "\n",
       "    var nav_element = $('<div/>')\n",
       "    nav_element.attr('style', 'width: 100%');\n",
       "    this.root.append(nav_element);\n",
       "\n",
       "    // Define a callback function for later on.\n",
       "    function toolbar_event(event) {\n",
       "        return fig.toolbar_button_onclick(event['data']);\n",
       "    }\n",
       "    function toolbar_mouse_event(event) {\n",
       "        return fig.toolbar_button_onmouseover(event['data']);\n",
       "    }\n",
       "\n",
       "    for(var toolbar_ind in mpl.toolbar_items){\n",
       "        var name = mpl.toolbar_items[toolbar_ind][0];\n",
       "        var tooltip = mpl.toolbar_items[toolbar_ind][1];\n",
       "        var image = mpl.toolbar_items[toolbar_ind][2];\n",
       "        var method_name = mpl.toolbar_items[toolbar_ind][3];\n",
       "\n",
       "        if (!name) { continue; };\n",
       "\n",
       "        var button = $('<button class=\"btn btn-default\" href=\"#\" title=\"' + name + '\"><i class=\"fa ' + image + ' fa-lg\"></i></button>');\n",
       "        button.click(method_name, toolbar_event);\n",
       "        button.mouseover(tooltip, toolbar_mouse_event);\n",
       "        nav_element.append(button);\n",
       "    }\n",
       "\n",
       "    // Add the status bar.\n",
       "    var status_bar = $('<span class=\"mpl-message\" style=\"text-align:right; float: right;\"/>');\n",
       "    nav_element.append(status_bar);\n",
       "    this.message = status_bar[0];\n",
       "\n",
       "    // Add the close button to the window.\n",
       "    var buttongrp = $('<div class=\"btn-group inline pull-right\"></div>');\n",
       "    var button = $('<button class=\"btn btn-mini btn-primary\" href=\"#\" title=\"Stop Interaction\"><i class=\"fa fa-power-off icon-remove icon-large\"></i></button>');\n",
       "    button.click(function (evt) { fig.handle_close(fig, {}); } );\n",
       "    button.mouseover('Stop Interaction', toolbar_mouse_event);\n",
       "    buttongrp.append(button);\n",
       "    var titlebar = this.root.find($('.ui-dialog-titlebar'));\n",
       "    titlebar.prepend(buttongrp);\n",
       "}\n",
       "\n",
       "mpl.figure.prototype._root_extra_style = function(el){\n",
       "    var fig = this\n",
       "    el.on(\"remove\", function(){\n",
       "\tfig.close_ws(fig, {});\n",
       "    });\n",
       "}\n",
       "\n",
       "mpl.figure.prototype._canvas_extra_style = function(el){\n",
       "    // this is important to make the div 'focusable\n",
       "    el.attr('tabindex', 0)\n",
       "    // reach out to IPython and tell the keyboard manager to turn it's self\n",
       "    // off when our div gets focus\n",
       "\n",
       "    // location in version 3\n",
       "    if (IPython.notebook.keyboard_manager) {\n",
       "        IPython.notebook.keyboard_manager.register_events(el);\n",
       "    }\n",
       "    else {\n",
       "        // location in version 2\n",
       "        IPython.keyboard_manager.register_events(el);\n",
       "    }\n",
       "\n",
       "}\n",
       "\n",
       "mpl.figure.prototype._key_event_extra = function(event, name) {\n",
       "    var manager = IPython.notebook.keyboard_manager;\n",
       "    if (!manager)\n",
       "        manager = IPython.keyboard_manager;\n",
       "\n",
       "    // Check for shift+enter\n",
       "    if (event.shiftKey && event.which == 13) {\n",
       "        this.canvas_div.blur();\n",
       "        // select the cell after this one\n",
       "        var index = IPython.notebook.find_cell_index(this.cell_info[0]);\n",
       "        IPython.notebook.select(index + 1);\n",
       "    }\n",
       "}\n",
       "\n",
       "mpl.figure.prototype.handle_save = function(fig, msg) {\n",
       "    fig.ondownload(fig, null);\n",
       "}\n",
       "\n",
       "\n",
       "mpl.find_output_cell = function(html_output) {\n",
       "    // Return the cell and output element which can be found *uniquely* in the notebook.\n",
       "    // Note - this is a bit hacky, but it is done because the \"notebook_saving.Notebook\"\n",
       "    // IPython event is triggered only after the cells have been serialised, which for\n",
       "    // our purposes (turning an active figure into a static one), is too late.\n",
       "    var cells = IPython.notebook.get_cells();\n",
       "    var ncells = cells.length;\n",
       "    for (var i=0; i<ncells; i++) {\n",
       "        var cell = cells[i];\n",
       "        if (cell.cell_type === 'code'){\n",
       "            for (var j=0; j<cell.output_area.outputs.length; j++) {\n",
       "                var data = cell.output_area.outputs[j];\n",
       "                if (data.data) {\n",
       "                    // IPython >= 3 moved mimebundle to data attribute of output\n",
       "                    data = data.data;\n",
       "                }\n",
       "                if (data['text/html'] == html_output) {\n",
       "                    return [cell, data, j];\n",
       "                }\n",
       "            }\n",
       "        }\n",
       "    }\n",
       "}\n",
       "\n",
       "// Register the function which deals with the matplotlib target/channel.\n",
       "// The kernel may be null if the page has been refreshed.\n",
       "if (IPython.notebook.kernel != null) {\n",
       "    IPython.notebook.kernel.comm_manager.register_target('matplotlib', mpl.mpl_figure_comm);\n",
       "}\n"
      ],
      "text/plain": [
       "<IPython.core.display.Javascript object>"
      ]
     },
     "metadata": {},
     "output_type": "display_data"
    },
    {
     "data": {
      "text/html": [
       "<img src=\"data:image/png;base64,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\">"
      ],
      "text/plain": [
       "<IPython.core.display.HTML object>"
      ]
     },
     "metadata": {},
     "output_type": "display_data"
    },
    {
     "name": "stdout",
     "output_type": "stream",
     "text": [
      "157.077\n",
      "156.859\n"
     ]
    },
    {
     "data": {
      "image/jpeg": "[encoded data removed]",
      "text/plain": [
       "<IPython.core.display.Image object>"
      ]
     },
     "metadata": {},
     "output_type": "display_data"
    },
    {
     "data": {
      "image/jpeg": "[encoded data removed]",
      "text/plain": [
       "<IPython.core.display.Image object>"
      ]
     },
     "metadata": {},
     "output_type": "display_data"
    },
    {
     "name": "stdout",
     "output_type": "stream",
     "text": [
      "149.404\n",
      "149.876\n"
     ]
    },
    {
     "data": {
      "image/jpeg": "[encoded data removed]",
      "text/plain": [
       "<IPython.core.display.Image object>"
      ]
     },
     "metadata": {},
     "output_type": "display_data"
    },
    {
     "data": {
      "image/jpeg": "[encoded data removed]",
      "text/plain": [
       "<IPython.core.display.Image object>"
      ]
     },
     "metadata": {},
     "output_type": "display_data"
    },
    {
     "name": "stdout",
     "output_type": "stream",
     "text": [
      "144.992\n",
      "146.173\n"
     ]
    },
    {
     "data": {
      "image/jpeg": "[encoded data removed]",
      "text/plain": [
       "<IPython.core.display.Image object>"
      ]
     },
     "metadata": {},
     "output_type": "display_data"
    },
    {
     "data": {
      "image/jpeg": "[encoded data removed]",
      "text/plain": [
       "<IPython.core.display.Image object>"
      ]
     },
     "metadata": {},
     "output_type": "display_data"
    },
    {
     "name": "stdout",
     "output_type": "stream",
     "text": [
      "142.422\n",
      "144.062\n"
     ]
    },
    {
     "data": {
      "image/jpeg": "[encoded data removed]",
      "text/plain": [
       "<IPython.core.display.Image object>"
      ]
     },
     "metadata": {},
     "output_type": "display_data"
    },
    {
     "data": {
      "image/jpeg": "[encoded data removed]",
      "text/plain": [
       "<IPython.core.display.Image object>"
      ]
     },
     "metadata": {},
     "output_type": "display_data"
    },
    {
     "name": "stdout",
     "output_type": "stream",
     "text": [
      "140.638\n",
      "142.42\n"
     ]
    },
    {
     "data": {
      "image/jpeg": "[encoded data removed]",
      "text/plain": [
       "<IPython.core.display.Image object>"
      ]
     },
     "metadata": {},
     "output_type": "display_data"
    },
    {
     "data": {
      "image/jpeg": "[encoded data removed]",
      "text/plain": [
       "<IPython.core.display.Image object>"
      ]
     },
     "metadata": {},
     "output_type": "display_data"
    },
    {
     "name": "stdout",
     "output_type": "stream",
     "text": [
      "139.351\n",
      "141.58\n"
     ]
    },
    {
     "data": {
      "image/jpeg": "[encoded data removed]",
      "text/plain": [
       "<IPython.core.display.Image object>"
      ]
     },
     "metadata": {},
     "output_type": "display_data"
    },
    {
     "data": {
      "image/jpeg": "[encoded data removed]",
      "text/plain": [
       "<IPython.core.display.Image object>"
      ]
     },
     "metadata": {},
     "output_type": "display_data"
    },
    {
     "name": "stdout",
     "output_type": "stream",
     "text": [
      "138.061\n",
      "140.43\n"
     ]
    },
    {
     "data": {
      "image/jpeg": "[encoded data removed]",
      "text/plain": [
       "<IPython.core.display.Image object>"
      ]
     },
     "metadata": {},
     "output_type": "display_data"
    },
    {
     "data": {
      "image/jpeg": "[encoded data removed]",
      "text/plain": [
       "<IPython.core.display.Image object>"
      ]
     },
     "metadata": {},
     "output_type": "display_data"
    },
    {
     "name": "stdout",
     "output_type": "stream",
     "text": [
      "137.675\n",
      "139.873\n"
     ]
    },
    {
     "data": {
      "image/jpeg": "[encoded data removed]",
      "text/plain": [
       "<IPython.core.display.Image object>"
      ]
     },
     "metadata": {},
     "output_type": "display_data"
    },
    {
     "data": {
      "image/jpeg": "[encoded data removed]",
      "text/plain": [
       "<IPython.core.display.Image object>"
      ]
     },
     "metadata": {},
     "output_type": "display_data"
    },
    {
     "name": "stdout",
     "output_type": "stream",
     "text": [
      "137.294\n",
      "140.168\n"
     ]
    },
    {
     "data": {
      "image/jpeg": "[encoded data removed]",
      "text/plain": [
       "<IPython.core.display.Image object>"
      ]
     },
     "metadata": {},
     "output_type": "display_data"
    },
    {
     "data": {
      "image/jpeg": "[encoded data removed]",
      "text/plain": [
       "<IPython.core.display.Image object>"
      ]
     },
     "metadata": {},
     "output_type": "display_data"
    },
    {
     "name": "stdout",
     "output_type": "stream",
     "text": [
      "136.649\n",
      "139.208\n"
     ]
    },
    {
     "data": {
      "image/jpeg": "[encoded data removed]",
      "text/plain": [
       "<IPython.core.display.Image object>"
      ]
     },
     "metadata": {},
     "output_type": "display_data"
    },
    {
     "data": {
      "image/jpeg": "[encoded data removed]",
      "text/plain": [
       "<IPython.core.display.Image object>"
      ]
     },
     "metadata": {},
     "output_type": "display_data"
    },
    {
     "name": "stdout",
     "output_type": "stream",
     "text": [
      "135.19\n",
      "139.133\n"
     ]
    },
    {
     "data": {
      "image/jpeg": "[encoded data removed]",
      "text/plain": [
       "<IPython.core.display.Image object>"
      ]
     },
     "metadata": {},
     "output_type": "display_data"
    },
    {
     "data": {
      "image/jpeg": "[encoded data removed]",
      "text/plain": [
       "<IPython.core.display.Image object>"
      ]
     },
     "metadata": {},
     "output_type": "display_data"
    },
    {
     "name": "stdout",
     "output_type": "stream",
     "text": [
      "135.043\n",
      "138.359\n"
     ]
    },
    {
     "data": {
      "image/jpeg": "[encoded data removed]",
      "text/plain": [
       "<IPython.core.display.Image object>"
      ]
     },
     "metadata": {},
     "output_type": "display_data"
    },
    {
     "data": {
      "image/jpeg": "[encoded data removed]",
      "text/plain": [
       "<IPython.core.display.Image object>"
      ]
     },
     "metadata": {},
     "output_type": "display_data"
    },
    {
     "name": "stdout",
     "output_type": "stream",
     "text": [
      "134.89\n",
      "137.879\n"
     ]
    },
    {
     "data": {
      "image/jpeg": "[encoded data removed]",
      "text/plain": [
       "<IPython.core.display.Image object>"
      ]
     },
     "metadata": {},
     "output_type": "display_data"
    },
    {
     "data": {
      "image/jpeg": "[encoded data removed]",
      "text/plain": [
       "<IPython.core.display.Image object>"
      ]
     },
     "metadata": {},
     "output_type": "display_data"
    },
    {
     "name": "stdout",
     "output_type": "stream",
     "text": [
      "133.436\n",
      "137.911\n"
     ]
    },
    {
     "data": {
      "image/jpeg": "[encoded data removed]",
      "text/plain": [
       "<IPython.core.display.Image object>"
      ]
     },
     "metadata": {},
     "output_type": "display_data"
    },
    {
     "data": {
      "image/jpeg": "[encoded data removed]",
      "text/plain": [
       "<IPython.core.display.Image object>"
      ]
     },
     "metadata": {},
     "output_type": "display_data"
    },
    {
     "name": "stdout",
     "output_type": "stream",
     "text": [
      "133.355\n",
      "137.442\n"
     ]
    },
    {
     "data": {
      "image/jpeg": "[encoded data removed]",
      "text/plain": [
       "<IPython.core.display.Image object>"
      ]
     },
     "metadata": {},
     "output_type": "display_data"
    },
    {
     "data": {
      "image/jpeg": "[encoded data removed]",
      "text/plain": [
       "<IPython.core.display.Image object>"
      ]
     },
     "metadata": {},
     "output_type": "display_data"
    },
    {
     "name": "stdout",
     "output_type": "stream",
     "text": [
      "133.562\n",
      "137.208\n"
     ]
    },
    {
     "data": {
      "image/jpeg": "[encoded data removed]",
      "text/plain": [
       "<IPython.core.display.Image object>"
      ]
     },
     "metadata": {},
     "output_type": "display_data"
    },
    {
     "data": {
      "image/jpeg": "[encoded data removed]",
      "text/plain": [
       "<IPython.core.display.Image object>"
      ]
     },
     "metadata": {},
     "output_type": "display_data"
    },
    {
     "name": "stdout",
     "output_type": "stream",
     "text": [
      "133.652\n",
      "137.924\n"
     ]
    },
    {
     "data": {
      "image/jpeg": "[encoded data removed]",
      "text/plain": [
       "<IPython.core.display.Image object>"
      ]
     },
     "metadata": {},
     "output_type": "display_data"
    },
    {
     "data": {
      "image/jpeg": "[encoded data removed]",
      "text/plain": [
       "<IPython.core.display.Image object>"
      ]
     },
     "metadata": {},
     "output_type": "display_data"
    },
    {
     "name": "stdout",
     "output_type": "stream",
     "text": [
      "132.957\n",
      "137.744\n"
     ]
    },
    {
     "data": {
      "image/jpeg": "[encoded data removed]",
      "text/plain": [
       "<IPython.core.display.Image object>"
      ]
     },
     "metadata": {},
     "output_type": "display_data"
    },
    {
     "data": {
      "image/jpeg": "[encoded data removed]",
      "text/plain": [
       "<IPython.core.display.Image object>"
      ]
     },
     "metadata": {},
     "output_type": "display_data"
    },
    {
     "name": "stdout",
     "output_type": "stream",
     "text": [
      "133.029\n",
      "137.252\n"
     ]
    },
    {
     "data": {
      "image/jpeg": "[encoded data removed]",
      "text/plain": [
       "<IPython.core.display.Image object>"
      ]
     },
     "metadata": {},
     "output_type": "display_data"
    },
    {
     "data": {
      "image/jpeg": "[encoded data removed]",
      "text/plain": [
       "<IPython.core.display.Image object>"
      ]
     },
     "metadata": {},
     "output_type": "display_data"
    },
    {
     "name": "stdout",
     "output_type": "stream",
     "text": [
      "131.326\n",
      "136.908\n"
     ]
    },
    {
     "data": {
      "image/jpeg": "[encoded data removed]",
      "text/plain": [
       "<IPython.core.display.Image object>"
      ]
     },
     "metadata": {},
     "output_type": "display_data"
    },
    {
     "data": {
      "image/jpeg": "[encoded data removed]",
      "text/plain": [
       "<IPython.core.display.Image object>"
      ]
     },
     "metadata": {},
     "output_type": "display_data"
    },
    {
     "name": "stdout",
     "output_type": "stream",
     "text": [
      "131.777\n",
      "137.094\n"
     ]
    },
    {
     "data": {
      "image/jpeg": "[encoded data removed]",
      "text/plain": [
       "<IPython.core.display.Image object>"
      ]
     },
     "metadata": {},
     "output_type": "display_data"
    },
    {
     "data": {
      "image/jpeg": "[encoded data removed]",
      "text/plain": [
       "<IPython.core.display.Image object>"
      ]
     },
     "metadata": {},
     "output_type": "display_data"
    },
    {
     "name": "stdout",
     "output_type": "stream",
     "text": [
      "131.492\n",
      "136.83\n"
     ]
    },
    {
     "data": {
      "image/jpeg": "[encoded data removed]",
      "text/plain": [
       "<IPython.core.display.Image object>"
      ]
     },
     "metadata": {},
     "output_type": "display_data"
    },
    {
     "data": {
      "image/jpeg": "[encoded data removed]",
      "text/plain": [
       "<IPython.core.display.Image object>"
      ]
     },
     "metadata": {},
     "output_type": "display_data"
    },
    {
     "name": "stdout",
     "output_type": "stream",
     "text": [
      "131.512\n",
      "136.789\n"
     ]
    },
    {
     "data": {
      "image/jpeg": "[encoded data removed]",
      "text/plain": [
       "<IPython.core.display.Image object>"
      ]
     },
     "metadata": {},
     "output_type": "display_data"
    },
    {
     "data": {
      "image/jpeg": "[encoded data removed]",
      "text/plain": [
       "<IPython.core.display.Image object>"
      ]
     },
     "metadata": {},
     "output_type": "display_data"
    },
    {
     "name": "stdout",
     "output_type": "stream",
     "text": [
      "131.877\n",
      "137.012\n"
     ]
    },
    {
     "data": {
      "image/jpeg": "[encoded data removed]",
      "text/plain": [
       "<IPython.core.display.Image object>"
      ]
     },
     "metadata": {},
     "output_type": "display_data"
    },
    {
     "data": {
      "image/jpeg": "[encoded data removed]",
      "text/plain": [
       "<IPython.core.display.Image object>"
      ]
     },
     "metadata": {},
     "output_type": "display_data"
    },
    {
     "name": "stdout",
     "output_type": "stream",
     "text": [
      "131.115\n",
      "136.932\n"
     ]
    },
    {
     "data": {
      "image/jpeg": "[encoded data removed]",
      "text/plain": [
       "<IPython.core.display.Image object>"
      ]
     },
     "metadata": {},
     "output_type": "display_data"
    },
    {
     "data": {
      "image/jpeg": "[encoded data removed]",
      "text/plain": [
       "<IPython.core.display.Image object>"
      ]
     },
     "metadata": {},
     "output_type": "display_data"
    },
    {
     "name": "stdout",
     "output_type": "stream",
     "text": [
      "131.58\n",
      "136.875\n"
     ]
    },
    {
     "data": {
      "image/jpeg": "[encoded data removed]",
      "text/plain": [
       "<IPython.core.display.Image object>"
      ]
     },
     "metadata": {},
     "output_type": "display_data"
    },
    {
     "data": {
      "image/jpeg": "[encoded data removed]",
      "text/plain": [
       "<IPython.core.display.Image object>"
      ]
     },
     "metadata": {},
     "output_type": "display_data"
    },
    {
     "name": "stdout",
     "output_type": "stream",
     "text": [
      "131.207\n",
      "136.569\n"
     ]
    },
    {
     "data": {
      "image/jpeg": "[encoded data removed]",
      "text/plain": [
       "<IPython.core.display.Image object>"
      ]
     },
     "metadata": {},
     "output_type": "display_data"
    },
    {
     "data": {
      "image/jpeg": "[encoded data removed]",
      "text/plain": [
       "<IPython.core.display.Image object>"
      ]
     },
     "metadata": {},
     "output_type": "display_data"
    },
    {
     "name": "stdout",
     "output_type": "stream",
     "text": [
      "131.015\n",
      "136.864\n"
     ]
    },
    {
     "data": {
      "image/jpeg": "[encoded data removed]",
      "text/plain": [
       "<IPython.core.display.Image object>"
      ]
     },
     "metadata": {},
     "output_type": "display_data"
    },
    {
     "data": {
      "image/jpeg": "[encoded data removed]",
      "text/plain": [
       "<IPython.core.display.Image object>"
      ]
     },
     "metadata": {},
     "output_type": "display_data"
    },
    {
     "name": "stdout",
     "output_type": "stream",
     "text": [
      "130.524\n",
      "136.584\n"
     ]
    },
    {
     "data": {
      "image/jpeg": "[encoded data removed]",
      "text/plain": [
       "<IPython.core.display.Image object>"
      ]
     },
     "metadata": {},
     "output_type": "display_data"
    },
    {
     "data": {
      "image/jpeg": "[encoded data removed]",
      "text/plain": [
       "<IPython.core.display.Image object>"
      ]
     },
     "metadata": {},
     "output_type": "display_data"
    },
    {
     "name": "stdout",
     "output_type": "stream",
     "text": [
      "130.11\n",
      "136.438\n"
     ]
    },
    {
     "data": {
      "image/jpeg": "[encoded data removed]",
      "text/plain": [
       "<IPython.core.display.Image object>"
      ]
     },
     "metadata": {},
     "output_type": "display_data"
    },
    {
     "data": {
      "image/jpeg": "[encoded data removed]",
      "text/plain": [
       "<IPython.core.display.Image object>"
      ]
     },
     "metadata": {},
     "output_type": "display_data"
    },
    {
     "name": "stdout",
     "output_type": "stream",
     "text": [
      "130.338\n",
      "136.808\n"
     ]
    },
    {
     "data": {
      "image/jpeg": "[encoded data removed]",
      "text/plain": [
       "<IPython.core.display.Image object>"
      ]
     },
     "metadata": {},
     "output_type": "display_data"
    },
    {
     "data": {
      "image/jpeg": "[encoded data removed]",
      "text/plain": [
       "<IPython.core.display.Image object>"
      ]
     },
     "metadata": {},
     "output_type": "display_data"
    },
    {
     "name": "stdout",
     "output_type": "stream",
     "text": [
      "130.437\n",
      "136.653\n"
     ]
    },
    {
     "data": {
      "image/jpeg": "[encoded data removed]",
      "text/plain": [
       "<IPython.core.display.Image object>"
      ]
     },
     "metadata": {},
     "output_type": "display_data"
    },
    {
     "data": {
      "image/jpeg": "[encoded data removed]",
      "text/plain": [
       "<IPython.core.display.Image object>"
      ]
     },
     "metadata": {},
     "output_type": "display_data"
    },
    {
     "name": "stdout",
     "output_type": "stream",
     "text": [
      "130.283\n",
      "136.478\n"
     ]
    },
    {
     "data": {
      "image/jpeg": "[encoded data removed]",
      "text/plain": [
       "<IPython.core.display.Image object>"
      ]
     },
     "metadata": {},
     "output_type": "display_data"
    },
    {
     "data": {
      "image/jpeg": "[encoded data removed]",
      "text/plain": [
       "<IPython.core.display.Image object>"
      ]
     },
     "metadata": {},
     "output_type": "display_data"
    },
    {
     "name": "stdout",
     "output_type": "stream",
     "text": [
      "129.307\n",
      "136.659\n"
     ]
    },
    {
     "data": {
      "image/jpeg": "[encoded data removed]",
      "text/plain": [
       "<IPython.core.display.Image object>"
      ]
     },
     "metadata": {},
     "output_type": "display_data"
    },
    {
     "data": {
      "image/jpeg": "[encoded data removed]",
      "text/plain": [
       "<IPython.core.display.Image object>"
      ]
     },
     "metadata": {},
     "output_type": "display_data"
    },
    {
     "name": "stdout",
     "output_type": "stream",
     "text": [
      "129.954\n",
      "136.41\n"
     ]
    },
    {
     "data": {
      "image/jpeg": "[encoded data removed]",
      "text/plain": [
       "<IPython.core.display.Image object>"
      ]
     },
     "metadata": {},
     "output_type": "display_data"
    },
    {
     "data": {
      "image/jpeg": "[encoded data removed]",
      "text/plain": [
       "<IPython.core.display.Image object>"
      ]
     },
     "metadata": {},
     "output_type": "display_data"
    },
    {
     "name": "stdout",
     "output_type": "stream",
     "text": [
      "130.055\n",
      "136.792\n"
     ]
    },
    {
     "data": {
      "image/jpeg": "[encoded data removed]",
      "text/plain": [
       "<IPython.core.display.Image object>"
      ]
     },
     "metadata": {},
     "output_type": "display_data"
    },
    {
     "data": {
      "image/jpeg": "[encoded data removed]",
      "text/plain": [
       "<IPython.core.display.Image object>"
      ]
     },
     "metadata": {},
     "output_type": "display_data"
    },
    {
     "name": "stdout",
     "output_type": "stream",
     "text": [
      "129.243\n",
      "136.978\n"
     ]
    },
    {
     "data": {
      "image/jpeg": "[encoded data removed]",
      "text/plain": [
       "<IPython.core.display.Image object>"
      ]
     },
     "metadata": {},
     "output_type": "display_data"
    },
    {
     "data": {
      "image/jpeg": "[encoded data removed]",
      "text/plain": [
       "<IPython.core.display.Image object>"
      ]
     },
     "metadata": {},
     "output_type": "display_data"
    },
    {
     "name": "stdout",
     "output_type": "stream",
     "text": [
      "129.187\n",
      "136.571\n"
     ]
    },
    {
     "data": {
      "image/jpeg": "[encoded data removed]",
      "text/plain": [
       "<IPython.core.display.Image object>"
      ]
     },
     "metadata": {},
     "output_type": "display_data"
    },
    {
     "data": {
      "image/jpeg": "[encoded data removed]",
      "text/plain": [
       "<IPython.core.display.Image object>"
      ]
     },
     "metadata": {},
     "output_type": "display_data"
    },
    {
     "name": "stdout",
     "output_type": "stream",
     "text": [
      "128.845\n",
      "136.95\n"
     ]
    },
    {
     "data": {
      "image/jpeg": "[encoded data removed]",
      "text/plain": [
       "<IPython.core.display.Image object>"
      ]
     },
     "metadata": {},
     "output_type": "display_data"
    },
    {
     "data": {
      "image/jpeg": "[encoded data removed]",
      "text/plain": [
       "<IPython.core.display.Image object>"
      ]
     },
     "metadata": {},
     "output_type": "display_data"
    },
    {
     "name": "stdout",
     "output_type": "stream",
     "text": [
      "129.028\n",
      "136.951\n"
     ]
    },
    {
     "data": {
      "image/jpeg": "[encoded data removed]",
      "text/plain": [
       "<IPython.core.display.Image object>"
      ]
     },
     "metadata": {},
     "output_type": "display_data"
    },
    {
     "data": {
      "image/jpeg": "[encoded data removed]",
      "text/plain": [
       "<IPython.core.display.Image object>"
      ]
     },
     "metadata": {},
     "output_type": "display_data"
    },
    {
     "name": "stdout",
     "output_type": "stream",
     "text": [
      "128.716\n",
      "136.763\n"
     ]
    },
    {
     "data": {
      "image/jpeg": "[encoded data removed]",
      "text/plain": [
       "<IPython.core.display.Image object>"
      ]
     },
     "metadata": {},
     "output_type": "display_data"
    },
    {
     "data": {
      "image/jpeg": "[encoded data removed]",
      "text/plain": [
       "<IPython.core.display.Image object>"
      ]
     },
     "metadata": {},
     "output_type": "display_data"
    },
    {
     "name": "stdout",
     "output_type": "stream",
     "text": [
      "128.733\n",
      "136.906\n"
     ]
    },
    {
     "data": {
      "image/jpeg": "[encoded data removed]",
      "text/plain": [
       "<IPython.core.display.Image object>"
      ]
     },
     "metadata": {},
     "output_type": "display_data"
    },
    {
     "data": {
      "image/jpeg": "[encoded data removed]",
      "text/plain": [
       "<IPython.core.display.Image object>"
      ]
     },
     "metadata": {},
     "output_type": "display_data"
    },
    {
     "name": "stdout",
     "output_type": "stream",
     "text": [
      "128.63\n",
      "137.048\n"
     ]
    },
    {
     "data": {
      "image/jpeg": "[encoded data removed]",
      "text/plain": [
       "<IPython.core.display.Image object>"
      ]
     },
     "metadata": {},
     "output_type": "display_data"
    },
    {
     "data": {
      "image/jpeg": "[encoded data removed]",
      "text/plain": [
       "<IPython.core.display.Image object>"
      ]
     },
     "metadata": {},
     "output_type": "display_data"
    },
    {
     "name": "stdout",
     "output_type": "stream",
     "text": [
      "129.032\n",
      "136.973\n"
     ]
    },
    {
     "data": {
      "image/jpeg": "[encoded data removed]",
      "text/plain": [
       "<IPython.core.display.Image object>"
      ]
     },
     "metadata": {},
     "output_type": "display_data"
    },
    {
     "data": {
      "image/jpeg": "[encoded data removed]",
      "text/plain": [
       "<IPython.core.display.Image object>"
      ]
     },
     "metadata": {},
     "output_type": "display_data"
    },
    {
     "name": "stdout",
     "output_type": "stream",
     "text": [
      "128.993\n",
      "137.145\n"
     ]
    },
    {
     "data": {
      "image/jpeg": "[encoded data removed]",
      "text/plain": [
       "<IPython.core.display.Image object>"
      ]
     },
     "metadata": {},
     "output_type": "display_data"
    },
    {
     "data": {
      "image/jpeg": "[encoded data removed]",
      "text/plain": [
       "<IPython.core.display.Image object>"
      ]
     },
     "metadata": {},
     "output_type": "display_data"
    },
    {
     "name": "stdout",
     "output_type": "stream",
     "text": [
      "128.223\n",
      "136.756\n"
     ]
    },
    {
     "data": {
      "image/jpeg": "[encoded data removed]",
      "text/plain": [
       "<IPython.core.display.Image object>"
      ]
     },
     "metadata": {},
     "output_type": "display_data"
    },
    {
     "data": {
      "image/jpeg": "[encoded data removed]",
      "text/plain": [
       "<IPython.core.display.Image object>"
      ]
     },
     "metadata": {},
     "output_type": "display_data"
    },
    {
     "name": "stdout",
     "output_type": "stream",
     "text": [
      "128.17\n",
      "136.936\n"
     ]
    },
    {
     "data": {
      "image/jpeg": "[encoded data removed]",
      "text/plain": [
       "<IPython.core.display.Image object>"
      ]
     },
     "metadata": {},
     "output_type": "display_data"
    },
    {
     "data": {
      "image/jpeg": "[encoded data removed]",
      "text/plain": [
       "<IPython.core.display.Image object>"
      ]
     },
     "metadata": {},
     "output_type": "display_data"
    },
    {
     "name": "stdout",
     "output_type": "stream",
     "text": [
      "128.24\n",
      "137.253\n"
     ]
    },
    {
     "data": {
      "image/jpeg": "[encoded data removed]",
      "text/plain": [
       "<IPython.core.display.Image object>"
      ]
     },
     "metadata": {},
     "output_type": "display_data"
    },
    {
     "data": {
      "image/jpeg": "[encoded data removed]",
      "text/plain": [
       "<IPython.core.display.Image object>"
      ]
     },
     "metadata": {},
     "output_type": "display_data"
    },
    {
     "name": "stdout",
     "output_type": "stream",
     "text": [
      "128.626\n",
      "137.236\n"
     ]
    },
    {
     "data": {
      "image/jpeg": "[encoded data removed]",
      "text/plain": [
       "<IPython.core.display.Image object>"
      ]
     },
     "metadata": {},
     "output_type": "display_data"
    },
    {
     "data": {
      "image/jpeg": "[encoded data removed]",
      "text/plain": [
       "<IPython.core.display.Image object>"
      ]
     },
     "metadata": {},
     "output_type": "display_data"
    },
    {
     "name": "stdout",
     "output_type": "stream",
     "text": [
      "128.554\n",
      "137.082\n"
     ]
    },
    {
     "data": {
      "image/jpeg": "[encoded data removed]",
      "text/plain": [
       "<IPython.core.display.Image object>"
      ]
     },
     "metadata": {},
     "output_type": "display_data"
    },
    {
     "data": {
      "image/jpeg": "[encoded data removed]",
      "text/plain": [
       "<IPython.core.display.Image object>"
      ]
     },
     "metadata": {},
     "output_type": "display_data"
    }
   ],
   "source": [
    "batches_per_step=1000#60000//128 #About 1 epoch\n",
    "batches_per_eval=100\n",
    "n_steps=50\n",
    "#trainer_start.train(1000,learn_rate=1e-3)\n",
    "def make_plt():\n",
    "    %matplotlib notebook\n",
    "    global fig,ax,train_plot,test_plot#,eval_plot\n",
    "    fig,ax = plt.subplots(1,1)\n",
    "    train_plot=ax.plot([],[], label=\"training\")[0]\n",
    "    #eval_plot=ax.plot([],[], label=\"eval\")[0]\n",
    "    test_plot=ax.plot([],[], label=\"test\")[0]\n",
    "    ax.set_ylim(0,1)\n",
    "    plt.legend()\n",
    "    fig.canvas.draw()\n",
    "    time.sleep(.01)\n",
    "def update_plt():\n",
    "    x=[batches_per_step*i for i in range(len(trains))]\n",
    "    train_plot.set_xdata(x)\n",
    "    train_plot.set_ydata(trains)\n",
    "    test_plot.set_xdata(x)\n",
    "    test_plot.set_ydata(tests)\n",
    "    #eval_plot.set_xdata(x)\n",
    "    #eval_plot.set_ydata(evals)\n",
    "    ax.set_xlim(0,x[-1])\n",
    "    ax.set_ylim(0,tests[1]*1.1)\n",
    "    fig.canvas.draw()\n",
    "    #time.sleep(.01)\n",
    "if \"trains\" not in globals():\n",
    "    trains=[trainer.eval_loss(n=batches_per_eval)]\n",
    "    #evals=[trainer_eval.eval_loss(n=batches_per_eval)]\n",
    "    tests=[tester.eval_loss()]\n",
    "make_plt()\n",
    "for i in range(n_steps):\n",
    "    trainer.train(batches_per_step,learn_rate=1e-3)\n",
    "    trains.append(trainer.eval_loss(n=batches_per_eval)) \n",
    "    #evals.append(trainer_eval.eval_loss(n=batches_per_eval)) \n",
    "    tests.append(tester.eval_loss())\n",
    "    show(-sess.run(autoencoder.decoder)[0,:,:,0])\n",
    "    show(-autoencoder.generate()[0,:,:,0])\n",
    "    update_plt()"
   ]
  },
  {
   "cell_type": "code",
   "execution_count": 4,
   "metadata": {
    "collapsed": false
   },
   "outputs": [
    {
     "data": {
      "image/jpeg": "[encoded data removed]",
      "text/plain": [
       "<IPython.core.display.Image object>"
      ]
     },
     "metadata": {},
     "output_type": "display_data"
    }
   ],
   "source": [
    "p=15\n",
    "step=0.1\n",
    "x=[[step*n,step*m] for n in range(-p,p+1) for m in range(-p,p+1)]\n",
    "y=autoencoder.decode(x).reshape(2*p+1,2*p+1,28,28)\n",
    "show(-composite(y))"
   ]
  },
  {
   "cell_type": "code",
   "execution_count": 5,
   "metadata": {
    "collapsed": false
   },
   "outputs": [
    {
     "ename": "AttributeError",
     "evalue": "'Autoencoder' object has no attribute 'loss_kl'",
     "output_type": "error",
     "traceback": [
      "\u001b[0;31m---------------------------------------------------------------------------\u001b[0m",
      "\u001b[0;31mAttributeError\u001b[0m                            Traceback (most recent call last)",
      "\u001b[0;32m<ipython-input-5-2e677967241e>\u001b[0m in \u001b[0;36m<module>\u001b[0;34m()\u001b[0m\n\u001b[0;32m----> 1\u001b[0;31m \u001b[0msess\u001b[0m\u001b[1;33m.\u001b[0m\u001b[0mrun\u001b[0m\u001b[1;33m(\u001b[0m\u001b[0mautoencoder\u001b[0m\u001b[1;33m.\u001b[0m\u001b[0mloss_kl\u001b[0m\u001b[1;33m(\u001b[0m\u001b[1;33m)\u001b[0m\u001b[1;33m)\u001b[0m\u001b[1;33m\u001b[0m\u001b[0m\n\u001b[0m",
      "\u001b[0;31mAttributeError\u001b[0m: 'Autoencoder' object has no attribute 'loss_kl'"
     ]
    }
   ],
   "source": [
    "sess.run(autoencoder.loss_kl())"
   ]
  },
  {
   "cell_type": "code",
   "execution_count": null,
   "metadata": {
    "collapsed": false
   },
   "outputs": [],
   "source": [
    "sess.run(autoencoder.loss_reconstruction())"
   ]
  },
  {
   "cell_type": "code",
   "execution_count": null,
   "metadata": {
    "collapsed": false
   },
   "outputs": [],
   "source": [
    "sess.run(autoencoder.norm_x)"
   ]
  },
  {
   "cell_type": "code",
   "execution_count": null,
   "metadata": {
    "collapsed": false
   },
   "outputs": [],
   "source": [
    "sess.run(autoencoder.log_det)"
   ]
  },
  {
   "cell_type": "code",
   "execution_count": null,
   "metadata": {
    "collapsed": false
   },
   "outputs": [],
   "source": [
    "sess.run(tf.reduce_mean(autoencoder.loss_reconstruction(reduce=False)))"
   ]
  },
  {
   "cell_type": "code",
   "execution_count": null,
   "metadata": {
    "collapsed": false
   },
   "outputs": [],
   "source": [
    "sess.run(autoencoder.zd.mean)"
   ]
  },
  {
   "cell_type": "code",
   "execution_count": null,
   "metadata": {
    "collapsed": false
   },
   "outputs": [],
   "source": [
    "sess.run(autoencoder.ze.log_std)"
   ]
  },
  {
   "cell_type": "code",
   "execution_count": null,
   "metadata": {
    "collapsed": false
   },
   "outputs": [],
   "source": [
    "show(sess.run(autoencoder.zd)[0,:,:,0])"
   ]
  },
  {
   "cell_type": "code",
   "execution_count": null,
   "metadata": {
    "collapsed": true
   },
   "outputs": [],
   "source": []
  }
 ],
 "metadata": {
  "anaconda-cloud": {},
  "kernelspec": {
   "display_name": "Python [default]",
   "language": "python",
   "name": "python3"
  },
  "language_info": {
   "codemirror_mode": {
    "name": "ipython",
    "version": 3
   },
   "file_extension": ".py",
   "mimetype": "text/x-python",
   "name": "python",
   "nbconvert_exporter": "python",
   "pygments_lexer": "ipython3",
   "version": "3.5.2"
  }
 },
 "nbformat": 4,
 "nbformat_minor": 1
}
