{
 "cells": [
  {
   "cell_type": "markdown",
   "metadata": {},
   "source": [
    "# MNIST autoencoder from nnBuilder"
   ]
  },
  {
   "cell_type": "markdown",
   "metadata": {},
   "source": [
    "A basic convolutional autoencoder for MNIST"
   ]
  },
  {
   "cell_type": "code",
   "execution_count": 1,
   "metadata": {
    "collapsed": false
   },
   "outputs": [],
   "source": [
    "import numpy as np\n",
    "import tensorflow as tf\n",
    "import sys, os, seaborn, time\n",
    "import matplotlib.pyplot as plt\n",
    "sys.path.append('../nnBuilder')\n",
    "from nnLayer import *\n",
    "from nnInput import *\n",
    "from nnTrainer import *\n",
    "from nnHandler import *\n",
    "from nnAuto import *"
   ]
  },
  {
   "cell_type": "code",
   "execution_count": 2,
   "metadata": {
    "collapsed": false
   },
   "outputs": [
    {
     "name": "stdout",
     "output_type": "stream",
     "text": [
      "Extracting /tmp/tensorflow/mnist/input_data\\train-images-idx3-ubyte.gz\n",
      "Extracting /tmp/tensorflow/mnist/input_data\\train-labels-idx1-ubyte.gz\n",
      "Extracting /tmp/tensorflow/mnist/input_data\\t10k-images-idx3-ubyte.gz\n",
      "Extracting /tmp/tensorflow/mnist/input_data\\t10k-labels-idx1-ubyte.gz\n",
      "Extracting /tmp/tensorflow/mnist/input_data\\train-images-idx3-ubyte.gz\n",
      "Extracting /tmp/tensorflow/mnist/input_data\\train-labels-idx1-ubyte.gz\n",
      "Extracting /tmp/tensorflow/mnist/input_data\\t10k-images-idx3-ubyte.gz\n",
      "Extracting /tmp/tensorflow/mnist/input_data\\t10k-labels-idx1-ubyte.gz\n"
     ]
    }
   ],
   "source": [
    "data=Layer(type=\"MNIST\",batch=128)\n",
    "data_test=Layer(type=\"MNIST\",test=True)\n",
    "'''encoder=[]\n",
    "encoder.append(dict(type=\"Convolution\",pad=\"SAME\",window=5,stride=1,size=2,relu=True))\n",
    "encoder.append(dict(type=\"Pool\",pad=\"SAME\",window=2,stride=2,pool_type=\"max\"))\n",
    "encoder.append(dict(type=\"Convolution\",pad=\"SAME\",window=5,stride=1,size=4,relu=True))\n",
    "encoder.append(dict(type=\"Pool\",pad=\"SAME\",window=2,stride=2,pool_type=\"max\"))\n",
    "decoder=[]\n",
    "decoder.append(dict(type=\"Relu\",size=49*4))\n",
    "decoder.append(dict(type=\"Reshape\",shape=[-1,7,7,4]))\n",
    "decoder.append(dict(type=\"Convolution_Transpose\",pad=\"SAME\",window=5,stride=2,size=2,relu=True))\n",
    "decoder.append(dict(type=\"Convolution_Transpose\",pad=\"SAME\",window=5,stride=2,size=1,relu=False))'''\n",
    "#decoder.append(dict(type=\"Sigmoid_Feature\"))\n",
    "encoder=[]\n",
    "encoder.append(dict(type=\"Relu\",size=512))\n",
    "encoder.append(dict(type=\"Relu\",size=256))\n",
    "decoder=[]\n",
    "decoder.append(dict(type=\"Relu\",size=256))\n",
    "decoder.append(dict(type=\"Relu\",size=512))\n",
    "decoder.append(dict(type=\"Linear\",size=784))\n",
    "decoder.append(dict(type=\"Reshape\",shape=[-1,28,28,1]))\n",
    "\n",
    "\n",
    "\n",
    "autoencoder=Layer(x=data,type=\"Variational_Autoencoder\",encoder=encoder,decoder=decoder,binary_decoder=True,\n",
    "                  encoder_mean=dict(type=\"Linear\",size=2))\n",
    "autoencoder_eval=autoencoder.copy(x=data,test=True)\n",
    "autoencoder_test=autoencoder.copy(x=data_test,test=True)\n",
    "\n",
    "trainer=LabeledTrainer(network=autoencoder,optimizer=\"adam\",loss=\"network\")\n",
    "tester_eval=LabeledTrainer(network=autoencoder_eval,loss=\"network\",test=True)\n",
    "tester=LabeledTrainer(network=autoencoder_test,loss=\"network\",test=True)\n",
    "\n",
    "#trainer_start=LabeledTrainer(network=autoencoder,optimizer=\"adam\",loss=\"mean_squared_error\")\n",
    "\n",
    "sess=SessManager()"
   ]
  },
  {
   "cell_type": "code",
   "execution_count": 3,
   "metadata": {
    "collapsed": false,
    "scrolled": false
   },
   "outputs": [
    {
     "name": "stdout",
     "output_type": "stream",
     "text": [
      "1.09836\n",
      "1.07842\n"
     ]
    },
    {
     "data": {
      "application/javascript": [
       "/* Put everything inside the global mpl namespace */\n",
       "window.mpl = {};\n",
       "\n",
       "mpl.get_websocket_type = function() {\n",
       "    if (typeof(WebSocket) !== 'undefined') {\n",
       "        return WebSocket;\n",
       "    } else if (typeof(MozWebSocket) !== 'undefined') {\n",
       "        return MozWebSocket;\n",
       "    } else {\n",
       "        alert('Your browser does not have WebSocket support.' +\n",
       "              'Please try Chrome, Safari or Firefox ≥ 6. ' +\n",
       "              'Firefox 4 and 5 are also supported but you ' +\n",
       "              'have to enable WebSockets in about:config.');\n",
       "    };\n",
       "}\n",
       "\n",
       "mpl.figure = function(figure_id, websocket, ondownload, parent_element) {\n",
       "    this.id = figure_id;\n",
       "\n",
       "    this.ws = websocket;\n",
       "\n",
       "    this.supports_binary = (this.ws.binaryType != undefined);\n",
       "\n",
       "    if (!this.supports_binary) {\n",
       "        var warnings = document.getElementById(\"mpl-warnings\");\n",
       "        if (warnings) {\n",
       "            warnings.style.display = 'block';\n",
       "            warnings.textContent = (\n",
       "                \"This browser does not support binary websocket messages. \" +\n",
       "                    \"Performance may be slow.\");\n",
       "        }\n",
       "    }\n",
       "\n",
       "    this.imageObj = new Image();\n",
       "\n",
       "    this.context = undefined;\n",
       "    this.message = undefined;\n",
       "    this.canvas = undefined;\n",
       "    this.rubberband_canvas = undefined;\n",
       "    this.rubberband_context = undefined;\n",
       "    this.format_dropdown = undefined;\n",
       "\n",
       "    this.image_mode = 'full';\n",
       "\n",
       "    this.root = $('<div/>');\n",
       "    this._root_extra_style(this.root)\n",
       "    this.root.attr('style', 'display: inline-block');\n",
       "\n",
       "    $(parent_element).append(this.root);\n",
       "\n",
       "    this._init_header(this);\n",
       "    this._init_canvas(this);\n",
       "    this._init_toolbar(this);\n",
       "\n",
       "    var fig = this;\n",
       "\n",
       "    this.waiting = false;\n",
       "\n",
       "    this.ws.onopen =  function () {\n",
       "            fig.send_message(\"supports_binary\", {value: fig.supports_binary});\n",
       "            fig.send_message(\"send_image_mode\", {});\n",
       "            fig.send_message(\"refresh\", {});\n",
       "        }\n",
       "\n",
       "    this.imageObj.onload = function() {\n",
       "            if (fig.image_mode == 'full') {\n",
       "                // Full images could contain transparency (where diff images\n",
       "                // almost always do), so we need to clear the canvas so that\n",
       "                // there is no ghosting.\n",
       "                fig.context.clearRect(0, 0, fig.canvas.width, fig.canvas.height);\n",
       "            }\n",
       "            fig.context.drawImage(fig.imageObj, 0, 0);\n",
       "        };\n",
       "\n",
       "    this.imageObj.onunload = function() {\n",
       "        this.ws.close();\n",
       "    }\n",
       "\n",
       "    this.ws.onmessage = this._make_on_message_function(this);\n",
       "\n",
       "    this.ondownload = ondownload;\n",
       "}\n",
       "\n",
       "mpl.figure.prototype._init_header = function() {\n",
       "    var titlebar = $(\n",
       "        '<div class=\"ui-dialog-titlebar ui-widget-header ui-corner-all ' +\n",
       "        'ui-helper-clearfix\"/>');\n",
       "    var titletext = $(\n",
       "        '<div class=\"ui-dialog-title\" style=\"width: 100%; ' +\n",
       "        'text-align: center; padding: 3px;\"/>');\n",
       "    titlebar.append(titletext)\n",
       "    this.root.append(titlebar);\n",
       "    this.header = titletext[0];\n",
       "}\n",
       "\n",
       "\n",
       "\n",
       "mpl.figure.prototype._canvas_extra_style = function(canvas_div) {\n",
       "\n",
       "}\n",
       "\n",
       "\n",
       "mpl.figure.prototype._root_extra_style = function(canvas_div) {\n",
       "\n",
       "}\n",
       "\n",
       "mpl.figure.prototype._init_canvas = function() {\n",
       "    var fig = this;\n",
       "\n",
       "    var canvas_div = $('<div/>');\n",
       "\n",
       "    canvas_div.attr('style', 'position: relative; clear: both; outline: 0');\n",
       "\n",
       "    function canvas_keyboard_event(event) {\n",
       "        return fig.key_event(event, event['data']);\n",
       "    }\n",
       "\n",
       "    canvas_div.keydown('key_press', canvas_keyboard_event);\n",
       "    canvas_div.keyup('key_release', canvas_keyboard_event);\n",
       "    this.canvas_div = canvas_div\n",
       "    this._canvas_extra_style(canvas_div)\n",
       "    this.root.append(canvas_div);\n",
       "\n",
       "    var canvas = $('<canvas/>');\n",
       "    canvas.addClass('mpl-canvas');\n",
       "    canvas.attr('style', \"left: 0; top: 0; z-index: 0; outline: 0\")\n",
       "\n",
       "    this.canvas = canvas[0];\n",
       "    this.context = canvas[0].getContext(\"2d\");\n",
       "\n",
       "    var rubberband = $('<canvas/>');\n",
       "    rubberband.attr('style', \"position: absolute; left: 0; top: 0; z-index: 1;\")\n",
       "\n",
       "    var pass_mouse_events = true;\n",
       "\n",
       "    canvas_div.resizable({\n",
       "        start: function(event, ui) {\n",
       "            pass_mouse_events = false;\n",
       "        },\n",
       "        resize: function(event, ui) {\n",
       "            fig.request_resize(ui.size.width, ui.size.height);\n",
       "        },\n",
       "        stop: function(event, ui) {\n",
       "            pass_mouse_events = true;\n",
       "            fig.request_resize(ui.size.width, ui.size.height);\n",
       "        },\n",
       "    });\n",
       "\n",
       "    function mouse_event_fn(event) {\n",
       "        if (pass_mouse_events)\n",
       "            return fig.mouse_event(event, event['data']);\n",
       "    }\n",
       "\n",
       "    rubberband.mousedown('button_press', mouse_event_fn);\n",
       "    rubberband.mouseup('button_release', mouse_event_fn);\n",
       "    // Throttle sequential mouse events to 1 every 20ms.\n",
       "    rubberband.mousemove('motion_notify', mouse_event_fn);\n",
       "\n",
       "    rubberband.mouseenter('figure_enter', mouse_event_fn);\n",
       "    rubberband.mouseleave('figure_leave', mouse_event_fn);\n",
       "\n",
       "    canvas_div.on(\"wheel\", function (event) {\n",
       "        event = event.originalEvent;\n",
       "        event['data'] = 'scroll'\n",
       "        if (event.deltaY < 0) {\n",
       "            event.step = 1;\n",
       "        } else {\n",
       "            event.step = -1;\n",
       "        }\n",
       "        mouse_event_fn(event);\n",
       "    });\n",
       "\n",
       "    canvas_div.append(canvas);\n",
       "    canvas_div.append(rubberband);\n",
       "\n",
       "    this.rubberband = rubberband;\n",
       "    this.rubberband_canvas = rubberband[0];\n",
       "    this.rubberband_context = rubberband[0].getContext(\"2d\");\n",
       "    this.rubberband_context.strokeStyle = \"#000000\";\n",
       "\n",
       "    this._resize_canvas = function(width, height) {\n",
       "        // Keep the size of the canvas, canvas container, and rubber band\n",
       "        // canvas in synch.\n",
       "        canvas_div.css('width', width)\n",
       "        canvas_div.css('height', height)\n",
       "\n",
       "        canvas.attr('width', width);\n",
       "        canvas.attr('height', height);\n",
       "\n",
       "        rubberband.attr('width', width);\n",
       "        rubberband.attr('height', height);\n",
       "    }\n",
       "\n",
       "    // Set the figure to an initial 600x600px, this will subsequently be updated\n",
       "    // upon first draw.\n",
       "    this._resize_canvas(600, 600);\n",
       "\n",
       "    // Disable right mouse context menu.\n",
       "    $(this.rubberband_canvas).bind(\"contextmenu\",function(e){\n",
       "        return false;\n",
       "    });\n",
       "\n",
       "    function set_focus () {\n",
       "        canvas.focus();\n",
       "        canvas_div.focus();\n",
       "    }\n",
       "\n",
       "    window.setTimeout(set_focus, 100);\n",
       "}\n",
       "\n",
       "mpl.figure.prototype._init_toolbar = function() {\n",
       "    var fig = this;\n",
       "\n",
       "    var nav_element = $('<div/>')\n",
       "    nav_element.attr('style', 'width: 100%');\n",
       "    this.root.append(nav_element);\n",
       "\n",
       "    // Define a callback function for later on.\n",
       "    function toolbar_event(event) {\n",
       "        return fig.toolbar_button_onclick(event['data']);\n",
       "    }\n",
       "    function toolbar_mouse_event(event) {\n",
       "        return fig.toolbar_button_onmouseover(event['data']);\n",
       "    }\n",
       "\n",
       "    for(var toolbar_ind in mpl.toolbar_items) {\n",
       "        var name = mpl.toolbar_items[toolbar_ind][0];\n",
       "        var tooltip = mpl.toolbar_items[toolbar_ind][1];\n",
       "        var image = mpl.toolbar_items[toolbar_ind][2];\n",
       "        var method_name = mpl.toolbar_items[toolbar_ind][3];\n",
       "\n",
       "        if (!name) {\n",
       "            // put a spacer in here.\n",
       "            continue;\n",
       "        }\n",
       "        var button = $('<button/>');\n",
       "        button.addClass('ui-button ui-widget ui-state-default ui-corner-all ' +\n",
       "                        'ui-button-icon-only');\n",
       "        button.attr('role', 'button');\n",
       "        button.attr('aria-disabled', 'false');\n",
       "        button.click(method_name, toolbar_event);\n",
       "        button.mouseover(tooltip, toolbar_mouse_event);\n",
       "\n",
       "        var icon_img = $('<span/>');\n",
       "        icon_img.addClass('ui-button-icon-primary ui-icon');\n",
       "        icon_img.addClass(image);\n",
       "        icon_img.addClass('ui-corner-all');\n",
       "\n",
       "        var tooltip_span = $('<span/>');\n",
       "        tooltip_span.addClass('ui-button-text');\n",
       "        tooltip_span.html(tooltip);\n",
       "\n",
       "        button.append(icon_img);\n",
       "        button.append(tooltip_span);\n",
       "\n",
       "        nav_element.append(button);\n",
       "    }\n",
       "\n",
       "    var fmt_picker_span = $('<span/>');\n",
       "\n",
       "    var fmt_picker = $('<select/>');\n",
       "    fmt_picker.addClass('mpl-toolbar-option ui-widget ui-widget-content');\n",
       "    fmt_picker_span.append(fmt_picker);\n",
       "    nav_element.append(fmt_picker_span);\n",
       "    this.format_dropdown = fmt_picker[0];\n",
       "\n",
       "    for (var ind in mpl.extensions) {\n",
       "        var fmt = mpl.extensions[ind];\n",
       "        var option = $(\n",
       "            '<option/>', {selected: fmt === mpl.default_extension}).html(fmt);\n",
       "        fmt_picker.append(option)\n",
       "    }\n",
       "\n",
       "    // Add hover states to the ui-buttons\n",
       "    $( \".ui-button\" ).hover(\n",
       "        function() { $(this).addClass(\"ui-state-hover\");},\n",
       "        function() { $(this).removeClass(\"ui-state-hover\");}\n",
       "    );\n",
       "\n",
       "    var status_bar = $('<span class=\"mpl-message\"/>');\n",
       "    nav_element.append(status_bar);\n",
       "    this.message = status_bar[0];\n",
       "}\n",
       "\n",
       "mpl.figure.prototype.request_resize = function(x_pixels, y_pixels) {\n",
       "    // Request matplotlib to resize the figure. Matplotlib will then trigger a resize in the client,\n",
       "    // which will in turn request a refresh of the image.\n",
       "    this.send_message('resize', {'width': x_pixels, 'height': y_pixels});\n",
       "}\n",
       "\n",
       "mpl.figure.prototype.send_message = function(type, properties) {\n",
       "    properties['type'] = type;\n",
       "    properties['figure_id'] = this.id;\n",
       "    this.ws.send(JSON.stringify(properties));\n",
       "}\n",
       "\n",
       "mpl.figure.prototype.send_draw_message = function() {\n",
       "    if (!this.waiting) {\n",
       "        this.waiting = true;\n",
       "        this.ws.send(JSON.stringify({type: \"draw\", figure_id: this.id}));\n",
       "    }\n",
       "}\n",
       "\n",
       "\n",
       "mpl.figure.prototype.handle_save = function(fig, msg) {\n",
       "    var format_dropdown = fig.format_dropdown;\n",
       "    var format = format_dropdown.options[format_dropdown.selectedIndex].value;\n",
       "    fig.ondownload(fig, format);\n",
       "}\n",
       "\n",
       "\n",
       "mpl.figure.prototype.handle_resize = function(fig, msg) {\n",
       "    var size = msg['size'];\n",
       "    if (size[0] != fig.canvas.width || size[1] != fig.canvas.height) {\n",
       "        fig._resize_canvas(size[0], size[1]);\n",
       "        fig.send_message(\"refresh\", {});\n",
       "    };\n",
       "}\n",
       "\n",
       "mpl.figure.prototype.handle_rubberband = function(fig, msg) {\n",
       "    var x0 = msg['x0'];\n",
       "    var y0 = fig.canvas.height - msg['y0'];\n",
       "    var x1 = msg['x1'];\n",
       "    var y1 = fig.canvas.height - msg['y1'];\n",
       "    x0 = Math.floor(x0) + 0.5;\n",
       "    y0 = Math.floor(y0) + 0.5;\n",
       "    x1 = Math.floor(x1) + 0.5;\n",
       "    y1 = Math.floor(y1) + 0.5;\n",
       "    var min_x = Math.min(x0, x1);\n",
       "    var min_y = Math.min(y0, y1);\n",
       "    var width = Math.abs(x1 - x0);\n",
       "    var height = Math.abs(y1 - y0);\n",
       "\n",
       "    fig.rubberband_context.clearRect(\n",
       "        0, 0, fig.canvas.width, fig.canvas.height);\n",
       "\n",
       "    fig.rubberband_context.strokeRect(min_x, min_y, width, height);\n",
       "}\n",
       "\n",
       "mpl.figure.prototype.handle_figure_label = function(fig, msg) {\n",
       "    // Updates the figure title.\n",
       "    fig.header.textContent = msg['label'];\n",
       "}\n",
       "\n",
       "mpl.figure.prototype.handle_cursor = function(fig, msg) {\n",
       "    var cursor = msg['cursor'];\n",
       "    switch(cursor)\n",
       "    {\n",
       "    case 0:\n",
       "        cursor = 'pointer';\n",
       "        break;\n",
       "    case 1:\n",
       "        cursor = 'default';\n",
       "        break;\n",
       "    case 2:\n",
       "        cursor = 'crosshair';\n",
       "        break;\n",
       "    case 3:\n",
       "        cursor = 'move';\n",
       "        break;\n",
       "    }\n",
       "    fig.rubberband_canvas.style.cursor = cursor;\n",
       "}\n",
       "\n",
       "mpl.figure.prototype.handle_message = function(fig, msg) {\n",
       "    fig.message.textContent = msg['message'];\n",
       "}\n",
       "\n",
       "mpl.figure.prototype.handle_draw = function(fig, msg) {\n",
       "    // Request the server to send over a new figure.\n",
       "    fig.send_draw_message();\n",
       "}\n",
       "\n",
       "mpl.figure.prototype.handle_image_mode = function(fig, msg) {\n",
       "    fig.image_mode = msg['mode'];\n",
       "}\n",
       "\n",
       "mpl.figure.prototype.updated_canvas_event = function() {\n",
       "    // Called whenever the canvas gets updated.\n",
       "    this.send_message(\"ack\", {});\n",
       "}\n",
       "\n",
       "// A function to construct a web socket function for onmessage handling.\n",
       "// Called in the figure constructor.\n",
       "mpl.figure.prototype._make_on_message_function = function(fig) {\n",
       "    return function socket_on_message(evt) {\n",
       "        if (evt.data instanceof Blob) {\n",
       "            /* FIXME: We get \"Resource interpreted as Image but\n",
       "             * transferred with MIME type text/plain:\" errors on\n",
       "             * Chrome.  But how to set the MIME type?  It doesn't seem\n",
       "             * to be part of the websocket stream */\n",
       "            evt.data.type = \"image/png\";\n",
       "\n",
       "            /* Free the memory for the previous frames */\n",
       "            if (fig.imageObj.src) {\n",
       "                (window.URL || window.webkitURL).revokeObjectURL(\n",
       "                    fig.imageObj.src);\n",
       "            }\n",
       "\n",
       "            fig.imageObj.src = (window.URL || window.webkitURL).createObjectURL(\n",
       "                evt.data);\n",
       "            fig.updated_canvas_event();\n",
       "            fig.waiting = false;\n",
       "            return;\n",
       "        }\n",
       "        else if (typeof evt.data === 'string' && evt.data.slice(0, 21) == \"data:image/png;base64\") {\n",
       "            fig.imageObj.src = evt.data;\n",
       "            fig.updated_canvas_event();\n",
       "            fig.waiting = false;\n",
       "            return;\n",
       "        }\n",
       "\n",
       "        var msg = JSON.parse(evt.data);\n",
       "        var msg_type = msg['type'];\n",
       "\n",
       "        // Call the  \"handle_{type}\" callback, which takes\n",
       "        // the figure and JSON message as its only arguments.\n",
       "        try {\n",
       "            var callback = fig[\"handle_\" + msg_type];\n",
       "        } catch (e) {\n",
       "            console.log(\"No handler for the '\" + msg_type + \"' message type: \", msg);\n",
       "            return;\n",
       "        }\n",
       "\n",
       "        if (callback) {\n",
       "            try {\n",
       "                // console.log(\"Handling '\" + msg_type + \"' message: \", msg);\n",
       "                callback(fig, msg);\n",
       "            } catch (e) {\n",
       "                console.log(\"Exception inside the 'handler_\" + msg_type + \"' callback:\", e, e.stack, msg);\n",
       "            }\n",
       "        }\n",
       "    };\n",
       "}\n",
       "\n",
       "// from http://stackoverflow.com/questions/1114465/getting-mouse-location-in-canvas\n",
       "mpl.findpos = function(e) {\n",
       "    //this section is from http://www.quirksmode.org/js/events_properties.html\n",
       "    var targ;\n",
       "    if (!e)\n",
       "        e = window.event;\n",
       "    if (e.target)\n",
       "        targ = e.target;\n",
       "    else if (e.srcElement)\n",
       "        targ = e.srcElement;\n",
       "    if (targ.nodeType == 3) // defeat Safari bug\n",
       "        targ = targ.parentNode;\n",
       "\n",
       "    // jQuery normalizes the pageX and pageY\n",
       "    // pageX,Y are the mouse positions relative to the document\n",
       "    // offset() returns the position of the element relative to the document\n",
       "    var x = e.pageX - $(targ).offset().left;\n",
       "    var y = e.pageY - $(targ).offset().top;\n",
       "\n",
       "    return {\"x\": x, \"y\": y};\n",
       "};\n",
       "\n",
       "/*\n",
       " * return a copy of an object with only non-object keys\n",
       " * we need this to avoid circular references\n",
       " * http://stackoverflow.com/a/24161582/3208463\n",
       " */\n",
       "function simpleKeys (original) {\n",
       "  return Object.keys(original).reduce(function (obj, key) {\n",
       "    if (typeof original[key] !== 'object')\n",
       "        obj[key] = original[key]\n",
       "    return obj;\n",
       "  }, {});\n",
       "}\n",
       "\n",
       "mpl.figure.prototype.mouse_event = function(event, name) {\n",
       "    var canvas_pos = mpl.findpos(event)\n",
       "\n",
       "    if (name === 'button_press')\n",
       "    {\n",
       "        this.canvas.focus();\n",
       "        this.canvas_div.focus();\n",
       "    }\n",
       "\n",
       "    var x = canvas_pos.x;\n",
       "    var y = canvas_pos.y;\n",
       "\n",
       "    this.send_message(name, {x: x, y: y, button: event.button,\n",
       "                             step: event.step,\n",
       "                             guiEvent: simpleKeys(event)});\n",
       "\n",
       "    /* This prevents the web browser from automatically changing to\n",
       "     * the text insertion cursor when the button is pressed.  We want\n",
       "     * to control all of the cursor setting manually through the\n",
       "     * 'cursor' event from matplotlib */\n",
       "    event.preventDefault();\n",
       "    return false;\n",
       "}\n",
       "\n",
       "mpl.figure.prototype._key_event_extra = function(event, name) {\n",
       "    // Handle any extra behaviour associated with a key event\n",
       "}\n",
       "\n",
       "mpl.figure.prototype.key_event = function(event, name) {\n",
       "\n",
       "    // Prevent repeat events\n",
       "    if (name == 'key_press')\n",
       "    {\n",
       "        if (event.which === this._key)\n",
       "            return;\n",
       "        else\n",
       "            this._key = event.which;\n",
       "    }\n",
       "    if (name == 'key_release')\n",
       "        this._key = null;\n",
       "\n",
       "    var value = '';\n",
       "    if (event.ctrlKey && event.which != 17)\n",
       "        value += \"ctrl+\";\n",
       "    if (event.altKey && event.which != 18)\n",
       "        value += \"alt+\";\n",
       "    if (event.shiftKey && event.which != 16)\n",
       "        value += \"shift+\";\n",
       "\n",
       "    value += 'k';\n",
       "    value += event.which.toString();\n",
       "\n",
       "    this._key_event_extra(event, name);\n",
       "\n",
       "    this.send_message(name, {key: value,\n",
       "                             guiEvent: simpleKeys(event)});\n",
       "    return false;\n",
       "}\n",
       "\n",
       "mpl.figure.prototype.toolbar_button_onclick = function(name) {\n",
       "    if (name == 'download') {\n",
       "        this.handle_save(this, null);\n",
       "    } else {\n",
       "        this.send_message(\"toolbar_button\", {name: name});\n",
       "    }\n",
       "};\n",
       "\n",
       "mpl.figure.prototype.toolbar_button_onmouseover = function(tooltip) {\n",
       "    this.message.textContent = tooltip;\n",
       "};\n",
       "mpl.toolbar_items = [[\"Home\", \"Reset original view\", \"fa fa-home icon-home\", \"home\"], [\"Back\", \"Back to  previous view\", \"fa fa-arrow-left icon-arrow-left\", \"back\"], [\"Forward\", \"Forward to next view\", \"fa fa-arrow-right icon-arrow-right\", \"forward\"], [\"\", \"\", \"\", \"\"], [\"Pan\", \"Pan axes with left mouse, zoom with right\", \"fa fa-arrows icon-move\", \"pan\"], [\"Zoom\", \"Zoom to rectangle\", \"fa fa-square-o icon-check-empty\", \"zoom\"], [\"\", \"\", \"\", \"\"], [\"Download\", \"Download plot\", \"fa fa-floppy-o icon-save\", \"download\"]];\n",
       "\n",
       "mpl.extensions = [\"eps\", \"jpeg\", \"pdf\", \"png\", \"ps\", \"raw\", \"svg\", \"tif\"];\n",
       "\n",
       "mpl.default_extension = \"png\";var comm_websocket_adapter = function(comm) {\n",
       "    // Create a \"websocket\"-like object which calls the given IPython comm\n",
       "    // object with the appropriate methods. Currently this is a non binary\n",
       "    // socket, so there is still some room for performance tuning.\n",
       "    var ws = {};\n",
       "\n",
       "    ws.close = function() {\n",
       "        comm.close()\n",
       "    };\n",
       "    ws.send = function(m) {\n",
       "        //console.log('sending', m);\n",
       "        comm.send(m);\n",
       "    };\n",
       "    // Register the callback with on_msg.\n",
       "    comm.on_msg(function(msg) {\n",
       "        //console.log('receiving', msg['content']['data'], msg);\n",
       "        // Pass the mpl event to the overriden (by mpl) onmessage function.\n",
       "        ws.onmessage(msg['content']['data'])\n",
       "    });\n",
       "    return ws;\n",
       "}\n",
       "\n",
       "mpl.mpl_figure_comm = function(comm, msg) {\n",
       "    // This is the function which gets called when the mpl process\n",
       "    // starts-up an IPython Comm through the \"matplotlib\" channel.\n",
       "\n",
       "    var id = msg.content.data.id;\n",
       "    // Get hold of the div created by the display call when the Comm\n",
       "    // socket was opened in Python.\n",
       "    var element = $(\"#\" + id);\n",
       "    var ws_proxy = comm_websocket_adapter(comm)\n",
       "\n",
       "    function ondownload(figure, format) {\n",
       "        window.open(figure.imageObj.src);\n",
       "    }\n",
       "\n",
       "    var fig = new mpl.figure(id, ws_proxy,\n",
       "                           ondownload,\n",
       "                           element.get(0));\n",
       "\n",
       "    // Call onopen now - mpl needs it, as it is assuming we've passed it a real\n",
       "    // web socket which is closed, not our websocket->open comm proxy.\n",
       "    ws_proxy.onopen();\n",
       "\n",
       "    fig.parent_element = element.get(0);\n",
       "    fig.cell_info = mpl.find_output_cell(\"<div id='\" + id + \"'></div>\");\n",
       "    if (!fig.cell_info) {\n",
       "        console.error(\"Failed to find cell for figure\", id, fig);\n",
       "        return;\n",
       "    }\n",
       "\n",
       "    var output_index = fig.cell_info[2]\n",
       "    var cell = fig.cell_info[0];\n",
       "\n",
       "};\n",
       "\n",
       "mpl.figure.prototype.handle_close = function(fig, msg) {\n",
       "    fig.root.unbind('remove')\n",
       "\n",
       "    // Update the output cell to use the data from the current canvas.\n",
       "    fig.push_to_output();\n",
       "    var dataURL = fig.canvas.toDataURL();\n",
       "    // Re-enable the keyboard manager in IPython - without this line, in FF,\n",
       "    // the notebook keyboard shortcuts fail.\n",
       "    IPython.keyboard_manager.enable()\n",
       "    $(fig.parent_element).html('<img src=\"' + dataURL + '\">');\n",
       "    fig.close_ws(fig, msg);\n",
       "}\n",
       "\n",
       "mpl.figure.prototype.close_ws = function(fig, msg){\n",
       "    fig.send_message('closing', msg);\n",
       "    // fig.ws.close()\n",
       "}\n",
       "\n",
       "mpl.figure.prototype.push_to_output = function(remove_interactive) {\n",
       "    // Turn the data on the canvas into data in the output cell.\n",
       "    var dataURL = this.canvas.toDataURL();\n",
       "    this.cell_info[1]['text/html'] = '<img src=\"' + dataURL + '\">';\n",
       "}\n",
       "\n",
       "mpl.figure.prototype.updated_canvas_event = function() {\n",
       "    // Tell IPython that the notebook contents must change.\n",
       "    IPython.notebook.set_dirty(true);\n",
       "    this.send_message(\"ack\", {});\n",
       "    var fig = this;\n",
       "    // Wait a second, then push the new image to the DOM so\n",
       "    // that it is saved nicely (might be nice to debounce this).\n",
       "    setTimeout(function () { fig.push_to_output() }, 1000);\n",
       "}\n",
       "\n",
       "mpl.figure.prototype._init_toolbar = function() {\n",
       "    var fig = this;\n",
       "\n",
       "    var nav_element = $('<div/>')\n",
       "    nav_element.attr('style', 'width: 100%');\n",
       "    this.root.append(nav_element);\n",
       "\n",
       "    // Define a callback function for later on.\n",
       "    function toolbar_event(event) {\n",
       "        return fig.toolbar_button_onclick(event['data']);\n",
       "    }\n",
       "    function toolbar_mouse_event(event) {\n",
       "        return fig.toolbar_button_onmouseover(event['data']);\n",
       "    }\n",
       "\n",
       "    for(var toolbar_ind in mpl.toolbar_items){\n",
       "        var name = mpl.toolbar_items[toolbar_ind][0];\n",
       "        var tooltip = mpl.toolbar_items[toolbar_ind][1];\n",
       "        var image = mpl.toolbar_items[toolbar_ind][2];\n",
       "        var method_name = mpl.toolbar_items[toolbar_ind][3];\n",
       "\n",
       "        if (!name) { continue; };\n",
       "\n",
       "        var button = $('<button class=\"btn btn-default\" href=\"#\" title=\"' + name + '\"><i class=\"fa ' + image + ' fa-lg\"></i></button>');\n",
       "        button.click(method_name, toolbar_event);\n",
       "        button.mouseover(tooltip, toolbar_mouse_event);\n",
       "        nav_element.append(button);\n",
       "    }\n",
       "\n",
       "    // Add the status bar.\n",
       "    var status_bar = $('<span class=\"mpl-message\" style=\"text-align:right; float: right;\"/>');\n",
       "    nav_element.append(status_bar);\n",
       "    this.message = status_bar[0];\n",
       "\n",
       "    // Add the close button to the window.\n",
       "    var buttongrp = $('<div class=\"btn-group inline pull-right\"></div>');\n",
       "    var button = $('<button class=\"btn btn-mini btn-primary\" href=\"#\" title=\"Stop Interaction\"><i class=\"fa fa-power-off icon-remove icon-large\"></i></button>');\n",
       "    button.click(function (evt) { fig.handle_close(fig, {}); } );\n",
       "    button.mouseover('Stop Interaction', toolbar_mouse_event);\n",
       "    buttongrp.append(button);\n",
       "    var titlebar = this.root.find($('.ui-dialog-titlebar'));\n",
       "    titlebar.prepend(buttongrp);\n",
       "}\n",
       "\n",
       "mpl.figure.prototype._root_extra_style = function(el){\n",
       "    var fig = this\n",
       "    el.on(\"remove\", function(){\n",
       "\tfig.close_ws(fig, {});\n",
       "    });\n",
       "}\n",
       "\n",
       "mpl.figure.prototype._canvas_extra_style = function(el){\n",
       "    // this is important to make the div 'focusable\n",
       "    el.attr('tabindex', 0)\n",
       "    // reach out to IPython and tell the keyboard manager to turn it's self\n",
       "    // off when our div gets focus\n",
       "\n",
       "    // location in version 3\n",
       "    if (IPython.notebook.keyboard_manager) {\n",
       "        IPython.notebook.keyboard_manager.register_events(el);\n",
       "    }\n",
       "    else {\n",
       "        // location in version 2\n",
       "        IPython.keyboard_manager.register_events(el);\n",
       "    }\n",
       "\n",
       "}\n",
       "\n",
       "mpl.figure.prototype._key_event_extra = function(event, name) {\n",
       "    var manager = IPython.notebook.keyboard_manager;\n",
       "    if (!manager)\n",
       "        manager = IPython.keyboard_manager;\n",
       "\n",
       "    // Check for shift+enter\n",
       "    if (event.shiftKey && event.which == 13) {\n",
       "        this.canvas_div.blur();\n",
       "        // select the cell after this one\n",
       "        var index = IPython.notebook.find_cell_index(this.cell_info[0]);\n",
       "        IPython.notebook.select(index + 1);\n",
       "    }\n",
       "}\n",
       "\n",
       "mpl.figure.prototype.handle_save = function(fig, msg) {\n",
       "    fig.ondownload(fig, null);\n",
       "}\n",
       "\n",
       "\n",
       "mpl.find_output_cell = function(html_output) {\n",
       "    // Return the cell and output element which can be found *uniquely* in the notebook.\n",
       "    // Note - this is a bit hacky, but it is done because the \"notebook_saving.Notebook\"\n",
       "    // IPython event is triggered only after the cells have been serialised, which for\n",
       "    // our purposes (turning an active figure into a static one), is too late.\n",
       "    var cells = IPython.notebook.get_cells();\n",
       "    var ncells = cells.length;\n",
       "    for (var i=0; i<ncells; i++) {\n",
       "        var cell = cells[i];\n",
       "        if (cell.cell_type === 'code'){\n",
       "            for (var j=0; j<cell.output_area.outputs.length; j++) {\n",
       "                var data = cell.output_area.outputs[j];\n",
       "                if (data.data) {\n",
       "                    // IPython >= 3 moved mimebundle to data attribute of output\n",
       "                    data = data.data;\n",
       "                }\n",
       "                if (data['text/html'] == html_output) {\n",
       "                    return [cell, data, j];\n",
       "                }\n",
       "            }\n",
       "        }\n",
       "    }\n",
       "}\n",
       "\n",
       "// Register the function which deals with the matplotlib target/channel.\n",
       "// The kernel may be null if the page has been refreshed.\n",
       "if (IPython.notebook.kernel != null) {\n",
       "    IPython.notebook.kernel.comm_manager.register_target('matplotlib', mpl.mpl_figure_comm);\n",
       "}\n"
      ],
      "text/plain": [
       "<IPython.core.display.Javascript object>"
      ]
     },
     "metadata": {},
     "output_type": "display_data"
    },
    {
     "data": {
      "text/html": [
       "<img src=\"data:image/png;base64,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\">"
      ],
      "text/plain": [
       "<IPython.core.display.HTML object>"
      ]
     },
     "metadata": {},
     "output_type": "display_data"
    },
    {
     "name": "stdout",
     "output_type": "stream",
     "text": [
      "0.201971\n",
      "0.2012\n"
     ]
    },
    {
     "data": {
      "image/jpeg": "[encoded data removed]",
      "text/plain": [
       "<IPython.core.display.Image object>"
      ]
     },
     "metadata": {},
     "output_type": "display_data"
    },
    {
     "data": {
      "image/jpeg": "[encoded data removed]",
      "text/plain": [
       "<IPython.core.display.Image object>"
      ]
     },
     "metadata": {},
     "output_type": "display_data"
    },
    {
     "name": "stdout",
     "output_type": "stream",
     "text": [
      "0.19102\n",
      "0.191397\n"
     ]
    },
    {
     "data": {
      "image/jpeg": "[encoded data removed]",
      "text/plain": [
       "<IPython.core.display.Image object>"
      ]
     },
     "metadata": {},
     "output_type": "display_data"
    },
    {
     "data": {
      "image/jpeg": "[encoded data removed]",
      "text/plain": [
       "<IPython.core.display.Image object>"
      ]
     },
     "metadata": {},
     "output_type": "display_data"
    },
    {
     "name": "stdout",
     "output_type": "stream",
     "text": [
      "0.186206\n",
      "0.186113\n"
     ]
    },
    {
     "data": {
      "image/jpeg": "[encoded data removed]",
      "text/plain": [
       "<IPython.core.display.Image object>"
      ]
     },
     "metadata": {},
     "output_type": "display_data"
    },
    {
     "data": {
      "image/jpeg": "[encoded data removed]",
      "text/plain": [
       "<IPython.core.display.Image object>"
      ]
     },
     "metadata": {},
     "output_type": "display_data"
    },
    {
     "name": "stdout",
     "output_type": "stream",
     "text": [
      "0.183343\n",
      "0.183929\n"
     ]
    },
    {
     "data": {
      "image/jpeg": "[encoded data removed]",
      "text/plain": [
       "<IPython.core.display.Image object>"
      ]
     },
     "metadata": {},
     "output_type": "display_data"
    },
    {
     "data": {
      "image/jpeg": "[encoded data removed]",
      "text/plain": [
       "<IPython.core.display.Image object>"
      ]
     },
     "metadata": {},
     "output_type": "display_data"
    },
    {
     "name": "stdout",
     "output_type": "stream",
     "text": [
      "0.180986\n",
      "0.18235\n"
     ]
    },
    {
     "data": {
      "image/jpeg": "[encoded data removed]",
      "text/plain": [
       "<IPython.core.display.Image object>"
      ]
     },
     "metadata": {},
     "output_type": "display_data"
    },
    {
     "data": {
      "image/jpeg": "[encoded data removed]",
      "text/plain": [
       "<IPython.core.display.Image object>"
      ]
     },
     "metadata": {},
     "output_type": "display_data"
    },
    {
     "name": "stdout",
     "output_type": "stream",
     "text": [
      "0.179058\n",
      "0.180876\n"
     ]
    },
    {
     "data": {
      "image/jpeg": "[encoded data removed]",
      "text/plain": [
       "<IPython.core.display.Image object>"
      ]
     },
     "metadata": {},
     "output_type": "display_data"
    },
    {
     "data": {
      "image/jpeg": "[encoded data removed]",
      "text/plain": [
       "<IPython.core.display.Image object>"
      ]
     },
     "metadata": {},
     "output_type": "display_data"
    },
    {
     "name": "stdout",
     "output_type": "stream",
     "text": [
      "0.17782\n",
      "0.179775\n"
     ]
    },
    {
     "data": {
      "image/jpeg": "[encoded data removed]",
      "text/plain": [
       "<IPython.core.display.Image object>"
      ]
     },
     "metadata": {},
     "output_type": "display_data"
    },
    {
     "data": {
      "image/jpeg": "[encoded data removed]",
      "text/plain": [
       "<IPython.core.display.Image object>"
      ]
     },
     "metadata": {},
     "output_type": "display_data"
    },
    {
     "name": "stdout",
     "output_type": "stream",
     "text": [
      "0.176736\n",
      "0.178346\n"
     ]
    },
    {
     "data": {
      "image/jpeg": "[encoded data removed]",
      "text/plain": [
       "<IPython.core.display.Image object>"
      ]
     },
     "metadata": {},
     "output_type": "display_data"
    },
    {
     "data": {
      "image/jpeg": "[encoded data removed]",
      "text/plain": [
       "<IPython.core.display.Image object>"
      ]
     },
     "metadata": {},
     "output_type": "display_data"
    },
    {
     "name": "stdout",
     "output_type": "stream",
     "text": [
      "0.174818\n",
      "0.17792\n"
     ]
    },
    {
     "data": {
      "image/jpeg": "[encoded data removed]",
      "text/plain": [
       "<IPython.core.display.Image object>"
      ]
     },
     "metadata": {},
     "output_type": "display_data"
    },
    {
     "data": {
      "image/jpeg": "[encoded data removed]",
      "text/plain": [
       "<IPython.core.display.Image object>"
      ]
     },
     "metadata": {},
     "output_type": "display_data"
    },
    {
     "name": "stdout",
     "output_type": "stream",
     "text": [
      "0.173802\n",
      "0.177033\n"
     ]
    },
    {
     "data": {
      "image/jpeg": "[encoded data removed]",
      "text/plain": [
       "<IPython.core.display.Image object>"
      ]
     },
     "metadata": {},
     "output_type": "display_data"
    },
    {
     "data": {
      "image/jpeg": "[encoded data removed]",
      "text/plain": [
       "<IPython.core.display.Image object>"
      ]
     },
     "metadata": {},
     "output_type": "display_data"
    },
    {
     "name": "stdout",
     "output_type": "stream",
     "text": [
      "0.17231\n",
      "0.176748\n"
     ]
    },
    {
     "data": {
      "image/jpeg": "[encoded data removed]",
      "text/plain": [
       "<IPython.core.display.Image object>"
      ]
     },
     "metadata": {},
     "output_type": "display_data"
    },
    {
     "data": {
      "image/jpeg": "[encoded data removed]",
      "text/plain": [
       "<IPython.core.display.Image object>"
      ]
     },
     "metadata": {},
     "output_type": "display_data"
    },
    {
     "name": "stdout",
     "output_type": "stream",
     "text": [
      "0.17259\n",
      "0.176164\n"
     ]
    },
    {
     "data": {
      "image/jpeg": "[encoded data removed]",
      "text/plain": [
       "<IPython.core.display.Image object>"
      ]
     },
     "metadata": {},
     "output_type": "display_data"
    },
    {
     "data": {
      "image/jpeg": "[encoded data removed]",
      "text/plain": [
       "<IPython.core.display.Image object>"
      ]
     },
     "metadata": {},
     "output_type": "display_data"
    },
    {
     "name": "stdout",
     "output_type": "stream",
     "text": [
      "0.172463\n",
      "0.176125\n"
     ]
    },
    {
     "data": {
      "image/jpeg": "[encoded data removed]",
      "text/plain": [
       "<IPython.core.display.Image object>"
      ]
     },
     "metadata": {},
     "output_type": "display_data"
    },
    {
     "data": {
      "image/jpeg": "[encoded data removed]",
      "text/plain": [
       "<IPython.core.display.Image object>"
      ]
     },
     "metadata": {},
     "output_type": "display_data"
    },
    {
     "name": "stdout",
     "output_type": "stream",
     "text": [
      "0.170991\n",
      "0.175829\n"
     ]
    },
    {
     "data": {
      "image/jpeg": "[encoded data removed]",
      "text/plain": [
       "<IPython.core.display.Image object>"
      ]
     },
     "metadata": {},
     "output_type": "display_data"
    },
    {
     "data": {
      "image/jpeg": "[encoded data removed]",
      "text/plain": [
       "<IPython.core.display.Image object>"
      ]
     },
     "metadata": {},
     "output_type": "display_data"
    },
    {
     "name": "stdout",
     "output_type": "stream",
     "text": [
      "0.171079\n",
      "0.175667\n"
     ]
    },
    {
     "data": {
      "image/jpeg": "[encoded data removed]",
      "text/plain": [
       "<IPython.core.display.Image object>"
      ]
     },
     "metadata": {},
     "output_type": "display_data"
    },
    {
     "data": {
      "image/jpeg": "[encoded data removed]",
      "text/plain": [
       "<IPython.core.display.Image object>"
      ]
     },
     "metadata": {},
     "output_type": "display_data"
    },
    {
     "name": "stdout",
     "output_type": "stream",
     "text": [
      "0.169579\n",
      "0.17519\n"
     ]
    },
    {
     "data": {
      "image/jpeg": "[encoded data removed]",
      "text/plain": [
       "<IPython.core.display.Image object>"
      ]
     },
     "metadata": {},
     "output_type": "display_data"
    },
    {
     "data": {
      "image/jpeg": "[encoded data removed]",
      "text/plain": [
       "<IPython.core.display.Image object>"
      ]
     },
     "metadata": {},
     "output_type": "display_data"
    },
    {
     "name": "stdout",
     "output_type": "stream",
     "text": [
      "0.168591\n",
      "0.174803\n"
     ]
    },
    {
     "data": {
      "image/jpeg": "[encoded data removed]",
      "text/plain": [
       "<IPython.core.display.Image object>"
      ]
     },
     "metadata": {},
     "output_type": "display_data"
    },
    {
     "data": {
      "image/jpeg": "[encoded data removed]",
      "text/plain": [
       "<IPython.core.display.Image object>"
      ]
     },
     "metadata": {},
     "output_type": "display_data"
    },
    {
     "name": "stdout",
     "output_type": "stream",
     "text": [
      "0.169292\n",
      "0.175003\n"
     ]
    },
    {
     "data": {
      "image/jpeg": "[encoded data removed]",
      "text/plain": [
       "<IPython.core.display.Image object>"
      ]
     },
     "metadata": {},
     "output_type": "display_data"
    },
    {
     "data": {
      "image/jpeg": "[encoded data removed]",
      "text/plain": [
       "<IPython.core.display.Image object>"
      ]
     },
     "metadata": {},
     "output_type": "display_data"
    },
    {
     "name": "stdout",
     "output_type": "stream",
     "text": [
      "0.16814\n",
      "0.174661\n"
     ]
    },
    {
     "data": {
      "image/jpeg": "[encoded data removed]",
      "text/plain": [
       "<IPython.core.display.Image object>"
      ]
     },
     "metadata": {},
     "output_type": "display_data"
    },
    {
     "data": {
      "image/jpeg": "[encoded data removed]",
      "text/plain": [
       "<IPython.core.display.Image object>"
      ]
     },
     "metadata": {},
     "output_type": "display_data"
    },
    {
     "name": "stdout",
     "output_type": "stream",
     "text": [
      "0.168517\n",
      "0.174736\n"
     ]
    },
    {
     "data": {
      "image/jpeg": "[encoded data removed]",
      "text/plain": [
       "<IPython.core.display.Image object>"
      ]
     },
     "metadata": {},
     "output_type": "display_data"
    },
    {
     "data": {
      "image/jpeg": "[encoded data removed]",
      "text/plain": [
       "<IPython.core.display.Image object>"
      ]
     },
     "metadata": {},
     "output_type": "display_data"
    },
    {
     "name": "stdout",
     "output_type": "stream",
     "text": [
      "0.168542\n",
      "0.174638\n"
     ]
    },
    {
     "data": {
      "image/jpeg": "[encoded data removed]",
      "text/plain": [
       "<IPython.core.display.Image object>"
      ]
     },
     "metadata": {},
     "output_type": "display_data"
    },
    {
     "data": {
      "image/jpeg": "[encoded data removed]",
      "text/plain": [
       "<IPython.core.display.Image object>"
      ]
     },
     "metadata": {},
     "output_type": "display_data"
    },
    {
     "name": "stdout",
     "output_type": "stream",
     "text": [
      "0.168382\n",
      "0.174296\n"
     ]
    },
    {
     "data": {
      "image/jpeg": "[encoded data removed]",
      "text/plain": [
       "<IPython.core.display.Image object>"
      ]
     },
     "metadata": {},
     "output_type": "display_data"
    },
    {
     "data": {
      "image/jpeg": "[encoded data removed]",
      "text/plain": [
       "<IPython.core.display.Image object>"
      ]
     },
     "metadata": {},
     "output_type": "display_data"
    },
    {
     "name": "stdout",
     "output_type": "stream",
     "text": [
      "0.167759\n",
      "0.17398\n"
     ]
    },
    {
     "data": {
      "image/jpeg": "[encoded data removed]",
      "text/plain": [
       "<IPython.core.display.Image object>"
      ]
     },
     "metadata": {},
     "output_type": "display_data"
    },
    {
     "data": {
      "image/jpeg": "[encoded data removed]",
      "text/plain": [
       "<IPython.core.display.Image object>"
      ]
     },
     "metadata": {},
     "output_type": "display_data"
    },
    {
     "name": "stdout",
     "output_type": "stream",
     "text": [
      "0.168314\n",
      "0.174208\n"
     ]
    },
    {
     "data": {
      "image/jpeg": "[encoded data removed]",
      "text/plain": [
       "<IPython.core.display.Image object>"
      ]
     },
     "metadata": {},
     "output_type": "display_data"
    },
    {
     "data": {
      "image/jpeg": "[encoded data removed]",
      "text/plain": [
       "<IPython.core.display.Image object>"
      ]
     },
     "metadata": {},
     "output_type": "display_data"
    },
    {
     "name": "stdout",
     "output_type": "stream",
     "text": [
      "0.166922\n",
      "0.174048\n"
     ]
    },
    {
     "data": {
      "image/jpeg": "[encoded data removed]",
      "text/plain": [
       "<IPython.core.display.Image object>"
      ]
     },
     "metadata": {},
     "output_type": "display_data"
    },
    {
     "data": {
      "image/jpeg": "[encoded data removed]",
      "text/plain": [
       "<IPython.core.display.Image object>"
      ]
     },
     "metadata": {},
     "output_type": "display_data"
    },
    {
     "name": "stdout",
     "output_type": "stream",
     "text": [
      "0.167055\n",
      "0.173975\n"
     ]
    },
    {
     "data": {
      "image/jpeg": "[encoded data removed]",
      "text/plain": [
       "<IPython.core.display.Image object>"
      ]
     },
     "metadata": {},
     "output_type": "display_data"
    },
    {
     "data": {
      "image/jpeg": "[encoded data removed]",
      "text/plain": [
       "<IPython.core.display.Image object>"
      ]
     },
     "metadata": {},
     "output_type": "display_data"
    },
    {
     "name": "stdout",
     "output_type": "stream",
     "text": [
      "0.166374\n",
      "0.173656\n"
     ]
    },
    {
     "data": {
      "image/jpeg": "[encoded data removed]",
      "text/plain": [
       "<IPython.core.display.Image object>"
      ]
     },
     "metadata": {},
     "output_type": "display_data"
    },
    {
     "data": {
      "image/jpeg": "[encoded data removed]",
      "text/plain": [
       "<IPython.core.display.Image object>"
      ]
     },
     "metadata": {},
     "output_type": "display_data"
    },
    {
     "name": "stdout",
     "output_type": "stream",
     "text": [
      "0.166484\n",
      "0.173843\n"
     ]
    },
    {
     "data": {
      "image/jpeg": "[encoded data removed]",
      "text/plain": [
       "<IPython.core.display.Image object>"
      ]
     },
     "metadata": {},
     "output_type": "display_data"
    },
    {
     "data": {
      "image/jpeg": "[encoded data removed]",
      "text/plain": [
       "<IPython.core.display.Image object>"
      ]
     },
     "metadata": {},
     "output_type": "display_data"
    },
    {
     "name": "stdout",
     "output_type": "stream",
     "text": [
      "0.166315\n",
      "0.173855\n"
     ]
    },
    {
     "data": {
      "image/jpeg": "[encoded data removed]",
      "text/plain": [
       "<IPython.core.display.Image object>"
      ]
     },
     "metadata": {},
     "output_type": "display_data"
    },
    {
     "data": {
      "image/jpeg": "[encoded data removed]",
      "text/plain": [
       "<IPython.core.display.Image object>"
      ]
     },
     "metadata": {},
     "output_type": "display_data"
    },
    {
     "name": "stdout",
     "output_type": "stream",
     "text": [
      "0.16731\n",
      "0.174088\n"
     ]
    },
    {
     "data": {
      "image/jpeg": "[encoded data removed]",
      "text/plain": [
       "<IPython.core.display.Image object>"
      ]
     },
     "metadata": {},
     "output_type": "display_data"
    },
    {
     "data": {
      "image/jpeg": "[encoded data removed]",
      "text/plain": [
       "<IPython.core.display.Image object>"
      ]
     },
     "metadata": {},
     "output_type": "display_data"
    },
    {
     "name": "stdout",
     "output_type": "stream",
     "text": [
      "0.166785\n",
      "0.174154\n"
     ]
    },
    {
     "data": {
      "image/jpeg": "[encoded data removed]",
      "text/plain": [
       "<IPython.core.display.Image object>"
      ]
     },
     "metadata": {},
     "output_type": "display_data"
    },
    {
     "data": {
      "image/jpeg": "[encoded data removed]",
      "text/plain": [
       "<IPython.core.display.Image object>"
      ]
     },
     "metadata": {},
     "output_type": "display_data"
    },
    {
     "name": "stdout",
     "output_type": "stream",
     "text": [
      "0.165744\n",
      "0.174263\n"
     ]
    },
    {
     "data": {
      "image/jpeg": "[encoded data removed]",
      "text/plain": [
       "<IPython.core.display.Image object>"
      ]
     },
     "metadata": {},
     "output_type": "display_data"
    },
    {
     "data": {
      "image/jpeg": "[encoded data removed]",
      "text/plain": [
       "<IPython.core.display.Image object>"
      ]
     },
     "metadata": {},
     "output_type": "display_data"
    },
    {
     "name": "stdout",
     "output_type": "stream",
     "text": [
      "0.165054\n",
      "0.174049\n"
     ]
    },
    {
     "data": {
      "image/jpeg": "[encoded data removed]",
      "text/plain": [
       "<IPython.core.display.Image object>"
      ]
     },
     "metadata": {},
     "output_type": "display_data"
    },
    {
     "data": {
      "image/jpeg": "[encoded data removed]",
      "text/plain": [
       "<IPython.core.display.Image object>"
      ]
     },
     "metadata": {},
     "output_type": "display_data"
    },
    {
     "name": "stdout",
     "output_type": "stream",
     "text": [
      "0.163914\n",
      "0.173464\n"
     ]
    },
    {
     "data": {
      "image/jpeg": "[encoded data removed]",
      "text/plain": [
       "<IPython.core.display.Image object>"
      ]
     },
     "metadata": {},
     "output_type": "display_data"
    },
    {
     "data": {
      "image/jpeg": "[encoded data removed]",
      "text/plain": [
       "<IPython.core.display.Image object>"
      ]
     },
     "metadata": {},
     "output_type": "display_data"
    },
    {
     "name": "stdout",
     "output_type": "stream",
     "text": [
      "0.166386\n",
      "0.173743\n"
     ]
    },
    {
     "data": {
      "image/jpeg": "[encoded data removed]",
      "text/plain": [
       "<IPython.core.display.Image object>"
      ]
     },
     "metadata": {},
     "output_type": "display_data"
    },
    {
     "data": {
      "image/jpeg": "[encoded data removed]",
      "text/plain": [
       "<IPython.core.display.Image object>"
      ]
     },
     "metadata": {},
     "output_type": "display_data"
    },
    {
     "name": "stdout",
     "output_type": "stream",
     "text": [
      "0.166362\n",
      "0.174194\n"
     ]
    },
    {
     "data": {
      "image/jpeg": "[encoded data removed]",
      "text/plain": [
       "<IPython.core.display.Image object>"
      ]
     },
     "metadata": {},
     "output_type": "display_data"
    },
    {
     "data": {
      "image/jpeg": "[encoded data removed]",
      "text/plain": [
       "<IPython.core.display.Image object>"
      ]
     },
     "metadata": {},
     "output_type": "display_data"
    },
    {
     "name": "stdout",
     "output_type": "stream",
     "text": [
      "0.165403\n",
      "0.173769\n"
     ]
    },
    {
     "data": {
      "image/jpeg": "[encoded data removed]",
      "text/plain": [
       "<IPython.core.display.Image object>"
      ]
     },
     "metadata": {},
     "output_type": "display_data"
    },
    {
     "data": {
      "image/jpeg": "[encoded data removed]",
      "text/plain": [
       "<IPython.core.display.Image object>"
      ]
     },
     "metadata": {},
     "output_type": "display_data"
    },
    {
     "name": "stdout",
     "output_type": "stream",
     "text": [
      "0.165566\n",
      "0.17349\n"
     ]
    },
    {
     "data": {
      "image/jpeg": "[encoded data removed]",
      "text/plain": [
       "<IPython.core.display.Image object>"
      ]
     },
     "metadata": {},
     "output_type": "display_data"
    },
    {
     "data": {
      "image/jpeg": "[encoded data removed]",
      "text/plain": [
       "<IPython.core.display.Image object>"
      ]
     },
     "metadata": {},
     "output_type": "display_data"
    },
    {
     "name": "stdout",
     "output_type": "stream",
     "text": [
      "0.164505\n",
      "0.173315\n"
     ]
    },
    {
     "data": {
      "image/jpeg": "[encoded data removed]",
      "text/plain": [
       "<IPython.core.display.Image object>"
      ]
     },
     "metadata": {},
     "output_type": "display_data"
    },
    {
     "data": {
      "image/jpeg": "[encoded data removed]",
      "text/plain": [
       "<IPython.core.display.Image object>"
      ]
     },
     "metadata": {},
     "output_type": "display_data"
    },
    {
     "name": "stdout",
     "output_type": "stream",
     "text": [
      "0.164685\n",
      "0.173185\n"
     ]
    },
    {
     "data": {
      "image/jpeg": "[encoded data removed]",
      "text/plain": [
       "<IPython.core.display.Image object>"
      ]
     },
     "metadata": {},
     "output_type": "display_data"
    },
    {
     "data": {
      "image/jpeg": "[encoded data removed]",
      "text/plain": [
       "<IPython.core.display.Image object>"
      ]
     },
     "metadata": {},
     "output_type": "display_data"
    },
    {
     "name": "stdout",
     "output_type": "stream",
     "text": [
      "0.164969\n",
      "0.173459\n"
     ]
    },
    {
     "data": {
      "image/jpeg": "[encoded data removed]",
      "text/plain": [
       "<IPython.core.display.Image object>"
      ]
     },
     "metadata": {},
     "output_type": "display_data"
    },
    {
     "data": {
      "image/jpeg": "[encoded data removed]",
      "text/plain": [
       "<IPython.core.display.Image object>"
      ]
     },
     "metadata": {},
     "output_type": "display_data"
    },
    {
     "name": "stdout",
     "output_type": "stream",
     "text": [
      "0.164662\n",
      "0.173555\n"
     ]
    },
    {
     "data": {
      "image/jpeg": "[encoded data removed]",
      "text/plain": [
       "<IPython.core.display.Image object>"
      ]
     },
     "metadata": {},
     "output_type": "display_data"
    },
    {
     "data": {
      "image/jpeg": "[encoded data removed]",
      "text/plain": [
       "<IPython.core.display.Image object>"
      ]
     },
     "metadata": {},
     "output_type": "display_data"
    },
    {
     "name": "stdout",
     "output_type": "stream",
     "text": [
      "0.164239\n",
      "0.173434\n"
     ]
    },
    {
     "data": {
      "image/jpeg": "[encoded data removed]",
      "text/plain": [
       "<IPython.core.display.Image object>"
      ]
     },
     "metadata": {},
     "output_type": "display_data"
    },
    {
     "data": {
      "image/jpeg": "[encoded data removed]",
      "text/plain": [
       "<IPython.core.display.Image object>"
      ]
     },
     "metadata": {},
     "output_type": "display_data"
    },
    {
     "name": "stdout",
     "output_type": "stream",
     "text": [
      "0.164309\n",
      "0.173359\n"
     ]
    },
    {
     "data": {
      "image/jpeg": "[encoded data removed]",
      "text/plain": [
       "<IPython.core.display.Image object>"
      ]
     },
     "metadata": {},
     "output_type": "display_data"
    },
    {
     "data": {
      "image/jpeg": "[encoded data removed]",
      "text/plain": [
       "<IPython.core.display.Image object>"
      ]
     },
     "metadata": {},
     "output_type": "display_data"
    },
    {
     "name": "stdout",
     "output_type": "stream",
     "text": [
      "0.164329\n",
      "0.173483\n"
     ]
    },
    {
     "data": {
      "image/jpeg": "[encoded data removed]",
      "text/plain": [
       "<IPython.core.display.Image object>"
      ]
     },
     "metadata": {},
     "output_type": "display_data"
    },
    {
     "data": {
      "image/jpeg": "[encoded data removed]",
      "text/plain": [
       "<IPython.core.display.Image object>"
      ]
     },
     "metadata": {},
     "output_type": "display_data"
    },
    {
     "name": "stdout",
     "output_type": "stream",
     "text": [
      "0.164149\n",
      "0.173711\n"
     ]
    },
    {
     "data": {
      "image/jpeg": "[encoded data removed]",
      "text/plain": [
       "<IPython.core.display.Image object>"
      ]
     },
     "metadata": {},
     "output_type": "display_data"
    },
    {
     "data": {
      "image/jpeg": "[encoded data removed]",
      "text/plain": [
       "<IPython.core.display.Image object>"
      ]
     },
     "metadata": {},
     "output_type": "display_data"
    },
    {
     "name": "stdout",
     "output_type": "stream",
     "text": [
      "0.164086\n",
      "0.173858\n"
     ]
    },
    {
     "data": {
      "image/jpeg": "[encoded data removed]",
      "text/plain": [
       "<IPython.core.display.Image object>"
      ]
     },
     "metadata": {},
     "output_type": "display_data"
    },
    {
     "data": {
      "image/jpeg": "[encoded data removed]",
      "text/plain": [
       "<IPython.core.display.Image object>"
      ]
     },
     "metadata": {},
     "output_type": "display_data"
    },
    {
     "name": "stdout",
     "output_type": "stream",
     "text": [
      "0.164988\n",
      "0.173479\n"
     ]
    },
    {
     "data": {
      "image/jpeg": "[encoded data removed]",
      "text/plain": [
       "<IPython.core.display.Image object>"
      ]
     },
     "metadata": {},
     "output_type": "display_data"
    },
    {
     "data": {
      "image/jpeg": "[encoded data removed]",
      "text/plain": [
       "<IPython.core.display.Image object>"
      ]
     },
     "metadata": {},
     "output_type": "display_data"
    },
    {
     "name": "stdout",
     "output_type": "stream",
     "text": [
      "0.163201\n",
      "0.173533\n"
     ]
    },
    {
     "data": {
      "image/jpeg": "[encoded data removed]",
      "text/plain": [
       "<IPython.core.display.Image object>"
      ]
     },
     "metadata": {},
     "output_type": "display_data"
    },
    {
     "data": {
      "image/jpeg": "[encoded data removed]",
      "text/plain": [
       "<IPython.core.display.Image object>"
      ]
     },
     "metadata": {},
     "output_type": "display_data"
    },
    {
     "name": "stdout",
     "output_type": "stream",
     "text": [
      "0.163869\n",
      "0.173521\n"
     ]
    },
    {
     "data": {
      "image/jpeg": "[encoded data removed]",
      "text/plain": [
       "<IPython.core.display.Image object>"
      ]
     },
     "metadata": {},
     "output_type": "display_data"
    },
    {
     "data": {
      "image/jpeg": "[encoded data removed]",
      "text/plain": [
       "<IPython.core.display.Image object>"
      ]
     },
     "metadata": {},
     "output_type": "display_data"
    }
   ],
   "source": [
    "batches_per_step=1000#60000//128 #About 1 epoch\n",
    "batches_per_eval=100\n",
    "n_steps=50\n",
    "#trainer_start.train(1000,learn_rate=1e-3)\n",
    "def make_plt():\n",
    "    %matplotlib notebook\n",
    "    global fig,ax,train_plot,test_plot#,eval_plot\n",
    "    fig,ax = plt.subplots(1,1)\n",
    "    train_plot=ax.plot([],[], label=\"training\")[0]\n",
    "    #eval_plot=ax.plot([],[], label=\"eval\")[0]\n",
    "    test_plot=ax.plot([],[], label=\"test\")[0]\n",
    "    ax.set_ylim(0,1)\n",
    "    plt.legend()\n",
    "    fig.canvas.draw()\n",
    "    time.sleep(.01)\n",
    "def update_plt():\n",
    "    x=[batches_per_step*i for i in range(len(trains))]\n",
    "    train_plot.set_xdata(x)\n",
    "    train_plot.set_ydata(trains)\n",
    "    test_plot.set_xdata(x)\n",
    "    test_plot.set_ydata(tests)\n",
    "    #eval_plot.set_xdata(x)\n",
    "    #eval_plot.set_ydata(evals)\n",
    "    ax.set_xlim(0,x[-1])\n",
    "    ax.set_ylim(0,tests[1]*1.1)\n",
    "    fig.canvas.draw()\n",
    "    #time.sleep(.01)\n",
    "if \"trains\" not in globals():\n",
    "    trains=[trainer.eval_loss(n=batches_per_eval)]\n",
    "    #evals=[trainer_eval.eval_loss(n=batches_per_eval)]\n",
    "    tests=[tester.eval_loss()]\n",
    "make_plt()\n",
    "for i in range(n_steps):\n",
    "    trainer.train(batches_per_step,learn_rate=1e-3)\n",
    "    trains.append(trainer.eval_loss(n=batches_per_eval)) \n",
    "    #evals.append(trainer_eval.eval_loss(n=batches_per_eval)) \n",
    "    tests.append(tester.eval_loss())\n",
    "    show(-sess.run(autoencoder.zd)[0,:,:,0])\n",
    "    show(-autoencoder.generate()[0,:,:,0])\n",
    "    update_plt()"
   ]
  },
  {
   "cell_type": "code",
   "execution_count": 4,
   "metadata": {
    "collapsed": false
   },
   "outputs": [
    {
     "data": {
      "image/jpeg": "[encoded data removed]",
      "text/plain": [
       "<IPython.core.display.Image object>"
      ]
     },
     "metadata": {},
     "output_type": "display_data"
    }
   ],
   "source": [
    "p=10\n",
    "step=0.1\n",
    "x=[[step*n,step*m] for n in range(-p,p+1) for m in range(-p,p+1)]\n",
    "y=autoencoder.decode(x).reshape(2*p+1,2*p+1,28,28)\n",
    "show(-composite(y))"
   ]
  }
 ],
 "metadata": {
  "anaconda-cloud": {},
  "kernelspec": {
   "display_name": "Python [default]",
   "language": "python",
   "name": "python3"
  },
  "language_info": {
   "codemirror_mode": {
    "name": "ipython",
    "version": 3
   },
   "file_extension": ".py",
   "mimetype": "text/x-python",
   "name": "python",
   "nbconvert_exporter": "python",
   "pygments_lexer": "ipython3",
   "version": "3.5.2"
  }
 },
 "nbformat": 4,
 "nbformat_minor": 1
}
