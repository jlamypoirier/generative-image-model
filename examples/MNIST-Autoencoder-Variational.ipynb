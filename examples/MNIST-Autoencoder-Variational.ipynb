{
 "cells": [
  {
   "cell_type": "markdown",
   "metadata": {},
   "source": [
    "# MNIST autoencoder from nnBuilder"
   ]
  },
  {
   "cell_type": "markdown",
   "metadata": {},
   "source": [
    "A basic convolutional autoencoder for MNIST"
   ]
  },
  {
   "cell_type": "code",
   "execution_count": 1,
   "metadata": {
    "collapsed": false
   },
   "outputs": [],
   "source": [
    "import numpy as np\n",
    "import tensorflow as tf\n",
    "import sys, os, seaborn, time\n",
    "import matplotlib.pyplot as plt\n",
    "sys.path.append('../nnBuilder')\n",
    "from nnLayer import *\n",
    "from nnInput import *\n",
    "from nnTrainer import *\n",
    "from nnHandler import *\n",
    "from nnAuto import *"
   ]
  },
  {
   "cell_type": "code",
   "execution_count": 2,
   "metadata": {
    "collapsed": false
   },
   "outputs": [
    {
     "name": "stdout",
     "output_type": "stream",
     "text": [
      "Extracting /tmp/tensorflow/mnist/input_data\\train-images-idx3-ubyte.gz\n",
      "Extracting /tmp/tensorflow/mnist/input_data\\train-labels-idx1-ubyte.gz\n",
      "Extracting /tmp/tensorflow/mnist/input_data\\t10k-images-idx3-ubyte.gz\n",
      "Extracting /tmp/tensorflow/mnist/input_data\\t10k-labels-idx1-ubyte.gz\n",
      "Extracting /tmp/tensorflow/mnist/input_data\\train-images-idx3-ubyte.gz\n",
      "Extracting /tmp/tensorflow/mnist/input_data\\train-labels-idx1-ubyte.gz\n",
      "Extracting /tmp/tensorflow/mnist/input_data\\t10k-images-idx3-ubyte.gz\n",
      "Extracting /tmp/tensorflow/mnist/input_data\\t10k-labels-idx1-ubyte.gz\n"
     ]
    }
   ],
   "source": [
    "data=Layer(type=\"MNIST\",batch=128)\n",
    "data_test=Layer(type=\"MNIST\",test=True)\n",
    "'''encoder=[]\n",
    "encoder.append(dict(type=\"Convolution\",pad=\"SAME\",window=5,stride=1,size=2,relu=True))\n",
    "encoder.append(dict(type=\"Pool\",pad=\"SAME\",window=2,stride=2,pool_type=\"max\"))\n",
    "encoder.append(dict(type=\"Convolution\",pad=\"SAME\",window=5,stride=1,size=4,relu=True))\n",
    "encoder.append(dict(type=\"Pool\",pad=\"SAME\",window=2,stride=2,pool_type=\"max\"))\n",
    "decoder=[]\n",
    "decoder.append(dict(type=\"Relu\",size=49*4))\n",
    "decoder.append(dict(type=\"Reshape\",shape=[-1,7,7,4]))\n",
    "decoder.append(dict(type=\"Convolution_Transpose\",pad=\"SAME\",window=5,stride=2,size=2,relu=True))\n",
    "decoder.append(dict(type=\"Convolution_Transpose\",pad=\"SAME\",window=5,stride=2,size=1,relu=False))'''\n",
    "#decoder.append(dict(type=\"Sigmoid_Feature\"))\n",
    "encoder=[]\n",
    "encoder.append(dict(type=\"Relu\",size=512))\n",
    "encoder.append(dict(type=\"Relu\",size=256))\n",
    "decoder=[]\n",
    "decoder.append(dict(type=\"Relu\",size=256))\n",
    "decoder.append(dict(type=\"Relu\",size=512))\n",
    "decoder.append(dict(type=\"Linear\",size=784))\n",
    "decoder.append(dict(type=\"Reshape\",shape=[-1,28,28,1]))\n",
    "\n",
    "\n",
    "\n",
    "autoencoder=Layer(x=data,type=\"Variational_Autoencoder\",encoder=encoder,decoder=decoder,\n",
    "                  mean=dict(type=\"Linear\",size=2))\n",
    "autoencoder_eval=autoencoder.copy(x=data,test=True)\n",
    "autoencoder_test=autoencoder.copy(x=data_test,test=True)\n",
    "\n",
    "trainer=LabeledTrainer(network=autoencoder,optimizer=\"adam\",loss=\"network\")\n",
    "tester_eval=LabeledTrainer(network=autoencoder_eval,loss=\"network\",test=True)\n",
    "tester=LabeledTrainer(network=autoencoder_test,loss=\"network\",test=True)\n",
    "\n",
    "#trainer_start=LabeledTrainer(network=autoencoder,optimizer=\"adam\",loss=\"mean_squared_error\")\n",
    "\n",
    "sess=SessManager()"
   ]
  },
  {
   "cell_type": "code",
   "execution_count": 3,
   "metadata": {
    "collapsed": false,
    "scrolled": false
   },
   "outputs": [
    {
     "name": "stdout",
     "output_type": "stream",
     "text": [
      "1.03811\n",
      "1.02829\n"
     ]
    },
    {
     "data": {
      "application/javascript": [
       "/* Put everything inside the global mpl namespace */\n",
       "window.mpl = {};\n",
       "\n",
       "mpl.get_websocket_type = function() {\n",
       "    if (typeof(WebSocket) !== 'undefined') {\n",
       "        return WebSocket;\n",
       "    } else if (typeof(MozWebSocket) !== 'undefined') {\n",
       "        return MozWebSocket;\n",
       "    } else {\n",
       "        alert('Your browser does not have WebSocket support.' +\n",
       "              'Please try Chrome, Safari or Firefox ≥ 6. ' +\n",
       "              'Firefox 4 and 5 are also supported but you ' +\n",
       "              'have to enable WebSockets in about:config.');\n",
       "    };\n",
       "}\n",
       "\n",
       "mpl.figure = function(figure_id, websocket, ondownload, parent_element) {\n",
       "    this.id = figure_id;\n",
       "\n",
       "    this.ws = websocket;\n",
       "\n",
       "    this.supports_binary = (this.ws.binaryType != undefined);\n",
       "\n",
       "    if (!this.supports_binary) {\n",
       "        var warnings = document.getElementById(\"mpl-warnings\");\n",
       "        if (warnings) {\n",
       "            warnings.style.display = 'block';\n",
       "            warnings.textContent = (\n",
       "                \"This browser does not support binary websocket messages. \" +\n",
       "                    \"Performance may be slow.\");\n",
       "        }\n",
       "    }\n",
       "\n",
       "    this.imageObj = new Image();\n",
       "\n",
       "    this.context = undefined;\n",
       "    this.message = undefined;\n",
       "    this.canvas = undefined;\n",
       "    this.rubberband_canvas = undefined;\n",
       "    this.rubberband_context = undefined;\n",
       "    this.format_dropdown = undefined;\n",
       "\n",
       "    this.image_mode = 'full';\n",
       "\n",
       "    this.root = $('<div/>');\n",
       "    this._root_extra_style(this.root)\n",
       "    this.root.attr('style', 'display: inline-block');\n",
       "\n",
       "    $(parent_element).append(this.root);\n",
       "\n",
       "    this._init_header(this);\n",
       "    this._init_canvas(this);\n",
       "    this._init_toolbar(this);\n",
       "\n",
       "    var fig = this;\n",
       "\n",
       "    this.waiting = false;\n",
       "\n",
       "    this.ws.onopen =  function () {\n",
       "            fig.send_message(\"supports_binary\", {value: fig.supports_binary});\n",
       "            fig.send_message(\"send_image_mode\", {});\n",
       "            fig.send_message(\"refresh\", {});\n",
       "        }\n",
       "\n",
       "    this.imageObj.onload = function() {\n",
       "            if (fig.image_mode == 'full') {\n",
       "                // Full images could contain transparency (where diff images\n",
       "                // almost always do), so we need to clear the canvas so that\n",
       "                // there is no ghosting.\n",
       "                fig.context.clearRect(0, 0, fig.canvas.width, fig.canvas.height);\n",
       "            }\n",
       "            fig.context.drawImage(fig.imageObj, 0, 0);\n",
       "        };\n",
       "\n",
       "    this.imageObj.onunload = function() {\n",
       "        this.ws.close();\n",
       "    }\n",
       "\n",
       "    this.ws.onmessage = this._make_on_message_function(this);\n",
       "\n",
       "    this.ondownload = ondownload;\n",
       "}\n",
       "\n",
       "mpl.figure.prototype._init_header = function() {\n",
       "    var titlebar = $(\n",
       "        '<div class=\"ui-dialog-titlebar ui-widget-header ui-corner-all ' +\n",
       "        'ui-helper-clearfix\"/>');\n",
       "    var titletext = $(\n",
       "        '<div class=\"ui-dialog-title\" style=\"width: 100%; ' +\n",
       "        'text-align: center; padding: 3px;\"/>');\n",
       "    titlebar.append(titletext)\n",
       "    this.root.append(titlebar);\n",
       "    this.header = titletext[0];\n",
       "}\n",
       "\n",
       "\n",
       "\n",
       "mpl.figure.prototype._canvas_extra_style = function(canvas_div) {\n",
       "\n",
       "}\n",
       "\n",
       "\n",
       "mpl.figure.prototype._root_extra_style = function(canvas_div) {\n",
       "\n",
       "}\n",
       "\n",
       "mpl.figure.prototype._init_canvas = function() {\n",
       "    var fig = this;\n",
       "\n",
       "    var canvas_div = $('<div/>');\n",
       "\n",
       "    canvas_div.attr('style', 'position: relative; clear: both; outline: 0');\n",
       "\n",
       "    function canvas_keyboard_event(event) {\n",
       "        return fig.key_event(event, event['data']);\n",
       "    }\n",
       "\n",
       "    canvas_div.keydown('key_press', canvas_keyboard_event);\n",
       "    canvas_div.keyup('key_release', canvas_keyboard_event);\n",
       "    this.canvas_div = canvas_div\n",
       "    this._canvas_extra_style(canvas_div)\n",
       "    this.root.append(canvas_div);\n",
       "\n",
       "    var canvas = $('<canvas/>');\n",
       "    canvas.addClass('mpl-canvas');\n",
       "    canvas.attr('style', \"left: 0; top: 0; z-index: 0; outline: 0\")\n",
       "\n",
       "    this.canvas = canvas[0];\n",
       "    this.context = canvas[0].getContext(\"2d\");\n",
       "\n",
       "    var rubberband = $('<canvas/>');\n",
       "    rubberband.attr('style', \"position: absolute; left: 0; top: 0; z-index: 1;\")\n",
       "\n",
       "    var pass_mouse_events = true;\n",
       "\n",
       "    canvas_div.resizable({\n",
       "        start: function(event, ui) {\n",
       "            pass_mouse_events = false;\n",
       "        },\n",
       "        resize: function(event, ui) {\n",
       "            fig.request_resize(ui.size.width, ui.size.height);\n",
       "        },\n",
       "        stop: function(event, ui) {\n",
       "            pass_mouse_events = true;\n",
       "            fig.request_resize(ui.size.width, ui.size.height);\n",
       "        },\n",
       "    });\n",
       "\n",
       "    function mouse_event_fn(event) {\n",
       "        if (pass_mouse_events)\n",
       "            return fig.mouse_event(event, event['data']);\n",
       "    }\n",
       "\n",
       "    rubberband.mousedown('button_press', mouse_event_fn);\n",
       "    rubberband.mouseup('button_release', mouse_event_fn);\n",
       "    // Throttle sequential mouse events to 1 every 20ms.\n",
       "    rubberband.mousemove('motion_notify', mouse_event_fn);\n",
       "\n",
       "    rubberband.mouseenter('figure_enter', mouse_event_fn);\n",
       "    rubberband.mouseleave('figure_leave', mouse_event_fn);\n",
       "\n",
       "    canvas_div.on(\"wheel\", function (event) {\n",
       "        event = event.originalEvent;\n",
       "        event['data'] = 'scroll'\n",
       "        if (event.deltaY < 0) {\n",
       "            event.step = 1;\n",
       "        } else {\n",
       "            event.step = -1;\n",
       "        }\n",
       "        mouse_event_fn(event);\n",
       "    });\n",
       "\n",
       "    canvas_div.append(canvas);\n",
       "    canvas_div.append(rubberband);\n",
       "\n",
       "    this.rubberband = rubberband;\n",
       "    this.rubberband_canvas = rubberband[0];\n",
       "    this.rubberband_context = rubberband[0].getContext(\"2d\");\n",
       "    this.rubberband_context.strokeStyle = \"#000000\";\n",
       "\n",
       "    this._resize_canvas = function(width, height) {\n",
       "        // Keep the size of the canvas, canvas container, and rubber band\n",
       "        // canvas in synch.\n",
       "        canvas_div.css('width', width)\n",
       "        canvas_div.css('height', height)\n",
       "\n",
       "        canvas.attr('width', width);\n",
       "        canvas.attr('height', height);\n",
       "\n",
       "        rubberband.attr('width', width);\n",
       "        rubberband.attr('height', height);\n",
       "    }\n",
       "\n",
       "    // Set the figure to an initial 600x600px, this will subsequently be updated\n",
       "    // upon first draw.\n",
       "    this._resize_canvas(600, 600);\n",
       "\n",
       "    // Disable right mouse context menu.\n",
       "    $(this.rubberband_canvas).bind(\"contextmenu\",function(e){\n",
       "        return false;\n",
       "    });\n",
       "\n",
       "    function set_focus () {\n",
       "        canvas.focus();\n",
       "        canvas_div.focus();\n",
       "    }\n",
       "\n",
       "    window.setTimeout(set_focus, 100);\n",
       "}\n",
       "\n",
       "mpl.figure.prototype._init_toolbar = function() {\n",
       "    var fig = this;\n",
       "\n",
       "    var nav_element = $('<div/>')\n",
       "    nav_element.attr('style', 'width: 100%');\n",
       "    this.root.append(nav_element);\n",
       "\n",
       "    // Define a callback function for later on.\n",
       "    function toolbar_event(event) {\n",
       "        return fig.toolbar_button_onclick(event['data']);\n",
       "    }\n",
       "    function toolbar_mouse_event(event) {\n",
       "        return fig.toolbar_button_onmouseover(event['data']);\n",
       "    }\n",
       "\n",
       "    for(var toolbar_ind in mpl.toolbar_items) {\n",
       "        var name = mpl.toolbar_items[toolbar_ind][0];\n",
       "        var tooltip = mpl.toolbar_items[toolbar_ind][1];\n",
       "        var image = mpl.toolbar_items[toolbar_ind][2];\n",
       "        var method_name = mpl.toolbar_items[toolbar_ind][3];\n",
       "\n",
       "        if (!name) {\n",
       "            // put a spacer in here.\n",
       "            continue;\n",
       "        }\n",
       "        var button = $('<button/>');\n",
       "        button.addClass('ui-button ui-widget ui-state-default ui-corner-all ' +\n",
       "                        'ui-button-icon-only');\n",
       "        button.attr('role', 'button');\n",
       "        button.attr('aria-disabled', 'false');\n",
       "        button.click(method_name, toolbar_event);\n",
       "        button.mouseover(tooltip, toolbar_mouse_event);\n",
       "\n",
       "        var icon_img = $('<span/>');\n",
       "        icon_img.addClass('ui-button-icon-primary ui-icon');\n",
       "        icon_img.addClass(image);\n",
       "        icon_img.addClass('ui-corner-all');\n",
       "\n",
       "        var tooltip_span = $('<span/>');\n",
       "        tooltip_span.addClass('ui-button-text');\n",
       "        tooltip_span.html(tooltip);\n",
       "\n",
       "        button.append(icon_img);\n",
       "        button.append(tooltip_span);\n",
       "\n",
       "        nav_element.append(button);\n",
       "    }\n",
       "\n",
       "    var fmt_picker_span = $('<span/>');\n",
       "\n",
       "    var fmt_picker = $('<select/>');\n",
       "    fmt_picker.addClass('mpl-toolbar-option ui-widget ui-widget-content');\n",
       "    fmt_picker_span.append(fmt_picker);\n",
       "    nav_element.append(fmt_picker_span);\n",
       "    this.format_dropdown = fmt_picker[0];\n",
       "\n",
       "    for (var ind in mpl.extensions) {\n",
       "        var fmt = mpl.extensions[ind];\n",
       "        var option = $(\n",
       "            '<option/>', {selected: fmt === mpl.default_extension}).html(fmt);\n",
       "        fmt_picker.append(option)\n",
       "    }\n",
       "\n",
       "    // Add hover states to the ui-buttons\n",
       "    $( \".ui-button\" ).hover(\n",
       "        function() { $(this).addClass(\"ui-state-hover\");},\n",
       "        function() { $(this).removeClass(\"ui-state-hover\");}\n",
       "    );\n",
       "\n",
       "    var status_bar = $('<span class=\"mpl-message\"/>');\n",
       "    nav_element.append(status_bar);\n",
       "    this.message = status_bar[0];\n",
       "}\n",
       "\n",
       "mpl.figure.prototype.request_resize = function(x_pixels, y_pixels) {\n",
       "    // Request matplotlib to resize the figure. Matplotlib will then trigger a resize in the client,\n",
       "    // which will in turn request a refresh of the image.\n",
       "    this.send_message('resize', {'width': x_pixels, 'height': y_pixels});\n",
       "}\n",
       "\n",
       "mpl.figure.prototype.send_message = function(type, properties) {\n",
       "    properties['type'] = type;\n",
       "    properties['figure_id'] = this.id;\n",
       "    this.ws.send(JSON.stringify(properties));\n",
       "}\n",
       "\n",
       "mpl.figure.prototype.send_draw_message = function() {\n",
       "    if (!this.waiting) {\n",
       "        this.waiting = true;\n",
       "        this.ws.send(JSON.stringify({type: \"draw\", figure_id: this.id}));\n",
       "    }\n",
       "}\n",
       "\n",
       "\n",
       "mpl.figure.prototype.handle_save = function(fig, msg) {\n",
       "    var format_dropdown = fig.format_dropdown;\n",
       "    var format = format_dropdown.options[format_dropdown.selectedIndex].value;\n",
       "    fig.ondownload(fig, format);\n",
       "}\n",
       "\n",
       "\n",
       "mpl.figure.prototype.handle_resize = function(fig, msg) {\n",
       "    var size = msg['size'];\n",
       "    if (size[0] != fig.canvas.width || size[1] != fig.canvas.height) {\n",
       "        fig._resize_canvas(size[0], size[1]);\n",
       "        fig.send_message(\"refresh\", {});\n",
       "    };\n",
       "}\n",
       "\n",
       "mpl.figure.prototype.handle_rubberband = function(fig, msg) {\n",
       "    var x0 = msg['x0'];\n",
       "    var y0 = fig.canvas.height - msg['y0'];\n",
       "    var x1 = msg['x1'];\n",
       "    var y1 = fig.canvas.height - msg['y1'];\n",
       "    x0 = Math.floor(x0) + 0.5;\n",
       "    y0 = Math.floor(y0) + 0.5;\n",
       "    x1 = Math.floor(x1) + 0.5;\n",
       "    y1 = Math.floor(y1) + 0.5;\n",
       "    var min_x = Math.min(x0, x1);\n",
       "    var min_y = Math.min(y0, y1);\n",
       "    var width = Math.abs(x1 - x0);\n",
       "    var height = Math.abs(y1 - y0);\n",
       "\n",
       "    fig.rubberband_context.clearRect(\n",
       "        0, 0, fig.canvas.width, fig.canvas.height);\n",
       "\n",
       "    fig.rubberband_context.strokeRect(min_x, min_y, width, height);\n",
       "}\n",
       "\n",
       "mpl.figure.prototype.handle_figure_label = function(fig, msg) {\n",
       "    // Updates the figure title.\n",
       "    fig.header.textContent = msg['label'];\n",
       "}\n",
       "\n",
       "mpl.figure.prototype.handle_cursor = function(fig, msg) {\n",
       "    var cursor = msg['cursor'];\n",
       "    switch(cursor)\n",
       "    {\n",
       "    case 0:\n",
       "        cursor = 'pointer';\n",
       "        break;\n",
       "    case 1:\n",
       "        cursor = 'default';\n",
       "        break;\n",
       "    case 2:\n",
       "        cursor = 'crosshair';\n",
       "        break;\n",
       "    case 3:\n",
       "        cursor = 'move';\n",
       "        break;\n",
       "    }\n",
       "    fig.rubberband_canvas.style.cursor = cursor;\n",
       "}\n",
       "\n",
       "mpl.figure.prototype.handle_message = function(fig, msg) {\n",
       "    fig.message.textContent = msg['message'];\n",
       "}\n",
       "\n",
       "mpl.figure.prototype.handle_draw = function(fig, msg) {\n",
       "    // Request the server to send over a new figure.\n",
       "    fig.send_draw_message();\n",
       "}\n",
       "\n",
       "mpl.figure.prototype.handle_image_mode = function(fig, msg) {\n",
       "    fig.image_mode = msg['mode'];\n",
       "}\n",
       "\n",
       "mpl.figure.prototype.updated_canvas_event = function() {\n",
       "    // Called whenever the canvas gets updated.\n",
       "    this.send_message(\"ack\", {});\n",
       "}\n",
       "\n",
       "// A function to construct a web socket function for onmessage handling.\n",
       "// Called in the figure constructor.\n",
       "mpl.figure.prototype._make_on_message_function = function(fig) {\n",
       "    return function socket_on_message(evt) {\n",
       "        if (evt.data instanceof Blob) {\n",
       "            /* FIXME: We get \"Resource interpreted as Image but\n",
       "             * transferred with MIME type text/plain:\" errors on\n",
       "             * Chrome.  But how to set the MIME type?  It doesn't seem\n",
       "             * to be part of the websocket stream */\n",
       "            evt.data.type = \"image/png\";\n",
       "\n",
       "            /* Free the memory for the previous frames */\n",
       "            if (fig.imageObj.src) {\n",
       "                (window.URL || window.webkitURL).revokeObjectURL(\n",
       "                    fig.imageObj.src);\n",
       "            }\n",
       "\n",
       "            fig.imageObj.src = (window.URL || window.webkitURL).createObjectURL(\n",
       "                evt.data);\n",
       "            fig.updated_canvas_event();\n",
       "            fig.waiting = false;\n",
       "            return;\n",
       "        }\n",
       "        else if (typeof evt.data === 'string' && evt.data.slice(0, 21) == \"data:image/png;base64\") {\n",
       "            fig.imageObj.src = evt.data;\n",
       "            fig.updated_canvas_event();\n",
       "            fig.waiting = false;\n",
       "            return;\n",
       "        }\n",
       "\n",
       "        var msg = JSON.parse(evt.data);\n",
       "        var msg_type = msg['type'];\n",
       "\n",
       "        // Call the  \"handle_{type}\" callback, which takes\n",
       "        // the figure and JSON message as its only arguments.\n",
       "        try {\n",
       "            var callback = fig[\"handle_\" + msg_type];\n",
       "        } catch (e) {\n",
       "            console.log(\"No handler for the '\" + msg_type + \"' message type: \", msg);\n",
       "            return;\n",
       "        }\n",
       "\n",
       "        if (callback) {\n",
       "            try {\n",
       "                // console.log(\"Handling '\" + msg_type + \"' message: \", msg);\n",
       "                callback(fig, msg);\n",
       "            } catch (e) {\n",
       "                console.log(\"Exception inside the 'handler_\" + msg_type + \"' callback:\", e, e.stack, msg);\n",
       "            }\n",
       "        }\n",
       "    };\n",
       "}\n",
       "\n",
       "// from http://stackoverflow.com/questions/1114465/getting-mouse-location-in-canvas\n",
       "mpl.findpos = function(e) {\n",
       "    //this section is from http://www.quirksmode.org/js/events_properties.html\n",
       "    var targ;\n",
       "    if (!e)\n",
       "        e = window.event;\n",
       "    if (e.target)\n",
       "        targ = e.target;\n",
       "    else if (e.srcElement)\n",
       "        targ = e.srcElement;\n",
       "    if (targ.nodeType == 3) // defeat Safari bug\n",
       "        targ = targ.parentNode;\n",
       "\n",
       "    // jQuery normalizes the pageX and pageY\n",
       "    // pageX,Y are the mouse positions relative to the document\n",
       "    // offset() returns the position of the element relative to the document\n",
       "    var x = e.pageX - $(targ).offset().left;\n",
       "    var y = e.pageY - $(targ).offset().top;\n",
       "\n",
       "    return {\"x\": x, \"y\": y};\n",
       "};\n",
       "\n",
       "/*\n",
       " * return a copy of an object with only non-object keys\n",
       " * we need this to avoid circular references\n",
       " * http://stackoverflow.com/a/24161582/3208463\n",
       " */\n",
       "function simpleKeys (original) {\n",
       "  return Object.keys(original).reduce(function (obj, key) {\n",
       "    if (typeof original[key] !== 'object')\n",
       "        obj[key] = original[key]\n",
       "    return obj;\n",
       "  }, {});\n",
       "}\n",
       "\n",
       "mpl.figure.prototype.mouse_event = function(event, name) {\n",
       "    var canvas_pos = mpl.findpos(event)\n",
       "\n",
       "    if (name === 'button_press')\n",
       "    {\n",
       "        this.canvas.focus();\n",
       "        this.canvas_div.focus();\n",
       "    }\n",
       "\n",
       "    var x = canvas_pos.x;\n",
       "    var y = canvas_pos.y;\n",
       "\n",
       "    this.send_message(name, {x: x, y: y, button: event.button,\n",
       "                             step: event.step,\n",
       "                             guiEvent: simpleKeys(event)});\n",
       "\n",
       "    /* This prevents the web browser from automatically changing to\n",
       "     * the text insertion cursor when the button is pressed.  We want\n",
       "     * to control all of the cursor setting manually through the\n",
       "     * 'cursor' event from matplotlib */\n",
       "    event.preventDefault();\n",
       "    return false;\n",
       "}\n",
       "\n",
       "mpl.figure.prototype._key_event_extra = function(event, name) {\n",
       "    // Handle any extra behaviour associated with a key event\n",
       "}\n",
       "\n",
       "mpl.figure.prototype.key_event = function(event, name) {\n",
       "\n",
       "    // Prevent repeat events\n",
       "    if (name == 'key_press')\n",
       "    {\n",
       "        if (event.which === this._key)\n",
       "            return;\n",
       "        else\n",
       "            this._key = event.which;\n",
       "    }\n",
       "    if (name == 'key_release')\n",
       "        this._key = null;\n",
       "\n",
       "    var value = '';\n",
       "    if (event.ctrlKey && event.which != 17)\n",
       "        value += \"ctrl+\";\n",
       "    if (event.altKey && event.which != 18)\n",
       "        value += \"alt+\";\n",
       "    if (event.shiftKey && event.which != 16)\n",
       "        value += \"shift+\";\n",
       "\n",
       "    value += 'k';\n",
       "    value += event.which.toString();\n",
       "\n",
       "    this._key_event_extra(event, name);\n",
       "\n",
       "    this.send_message(name, {key: value,\n",
       "                             guiEvent: simpleKeys(event)});\n",
       "    return false;\n",
       "}\n",
       "\n",
       "mpl.figure.prototype.toolbar_button_onclick = function(name) {\n",
       "    if (name == 'download') {\n",
       "        this.handle_save(this, null);\n",
       "    } else {\n",
       "        this.send_message(\"toolbar_button\", {name: name});\n",
       "    }\n",
       "};\n",
       "\n",
       "mpl.figure.prototype.toolbar_button_onmouseover = function(tooltip) {\n",
       "    this.message.textContent = tooltip;\n",
       "};\n",
       "mpl.toolbar_items = [[\"Home\", \"Reset original view\", \"fa fa-home icon-home\", \"home\"], [\"Back\", \"Back to  previous view\", \"fa fa-arrow-left icon-arrow-left\", \"back\"], [\"Forward\", \"Forward to next view\", \"fa fa-arrow-right icon-arrow-right\", \"forward\"], [\"\", \"\", \"\", \"\"], [\"Pan\", \"Pan axes with left mouse, zoom with right\", \"fa fa-arrows icon-move\", \"pan\"], [\"Zoom\", \"Zoom to rectangle\", \"fa fa-square-o icon-check-empty\", \"zoom\"], [\"\", \"\", \"\", \"\"], [\"Download\", \"Download plot\", \"fa fa-floppy-o icon-save\", \"download\"]];\n",
       "\n",
       "mpl.extensions = [\"eps\", \"jpeg\", \"pdf\", \"png\", \"ps\", \"raw\", \"svg\", \"tif\"];\n",
       "\n",
       "mpl.default_extension = \"png\";var comm_websocket_adapter = function(comm) {\n",
       "    // Create a \"websocket\"-like object which calls the given IPython comm\n",
       "    // object with the appropriate methods. Currently this is a non binary\n",
       "    // socket, so there is still some room for performance tuning.\n",
       "    var ws = {};\n",
       "\n",
       "    ws.close = function() {\n",
       "        comm.close()\n",
       "    };\n",
       "    ws.send = function(m) {\n",
       "        //console.log('sending', m);\n",
       "        comm.send(m);\n",
       "    };\n",
       "    // Register the callback with on_msg.\n",
       "    comm.on_msg(function(msg) {\n",
       "        //console.log('receiving', msg['content']['data'], msg);\n",
       "        // Pass the mpl event to the overriden (by mpl) onmessage function.\n",
       "        ws.onmessage(msg['content']['data'])\n",
       "    });\n",
       "    return ws;\n",
       "}\n",
       "\n",
       "mpl.mpl_figure_comm = function(comm, msg) {\n",
       "    // This is the function which gets called when the mpl process\n",
       "    // starts-up an IPython Comm through the \"matplotlib\" channel.\n",
       "\n",
       "    var id = msg.content.data.id;\n",
       "    // Get hold of the div created by the display call when the Comm\n",
       "    // socket was opened in Python.\n",
       "    var element = $(\"#\" + id);\n",
       "    var ws_proxy = comm_websocket_adapter(comm)\n",
       "\n",
       "    function ondownload(figure, format) {\n",
       "        window.open(figure.imageObj.src);\n",
       "    }\n",
       "\n",
       "    var fig = new mpl.figure(id, ws_proxy,\n",
       "                           ondownload,\n",
       "                           element.get(0));\n",
       "\n",
       "    // Call onopen now - mpl needs it, as it is assuming we've passed it a real\n",
       "    // web socket which is closed, not our websocket->open comm proxy.\n",
       "    ws_proxy.onopen();\n",
       "\n",
       "    fig.parent_element = element.get(0);\n",
       "    fig.cell_info = mpl.find_output_cell(\"<div id='\" + id + \"'></div>\");\n",
       "    if (!fig.cell_info) {\n",
       "        console.error(\"Failed to find cell for figure\", id, fig);\n",
       "        return;\n",
       "    }\n",
       "\n",
       "    var output_index = fig.cell_info[2]\n",
       "    var cell = fig.cell_info[0];\n",
       "\n",
       "};\n",
       "\n",
       "mpl.figure.prototype.handle_close = function(fig, msg) {\n",
       "    fig.root.unbind('remove')\n",
       "\n",
       "    // Update the output cell to use the data from the current canvas.\n",
       "    fig.push_to_output();\n",
       "    var dataURL = fig.canvas.toDataURL();\n",
       "    // Re-enable the keyboard manager in IPython - without this line, in FF,\n",
       "    // the notebook keyboard shortcuts fail.\n",
       "    IPython.keyboard_manager.enable()\n",
       "    $(fig.parent_element).html('<img src=\"' + dataURL + '\">');\n",
       "    fig.close_ws(fig, msg);\n",
       "}\n",
       "\n",
       "mpl.figure.prototype.close_ws = function(fig, msg){\n",
       "    fig.send_message('closing', msg);\n",
       "    // fig.ws.close()\n",
       "}\n",
       "\n",
       "mpl.figure.prototype.push_to_output = function(remove_interactive) {\n",
       "    // Turn the data on the canvas into data in the output cell.\n",
       "    var dataURL = this.canvas.toDataURL();\n",
       "    this.cell_info[1]['text/html'] = '<img src=\"' + dataURL + '\">';\n",
       "}\n",
       "\n",
       "mpl.figure.prototype.updated_canvas_event = function() {\n",
       "    // Tell IPython that the notebook contents must change.\n",
       "    IPython.notebook.set_dirty(true);\n",
       "    this.send_message(\"ack\", {});\n",
       "    var fig = this;\n",
       "    // Wait a second, then push the new image to the DOM so\n",
       "    // that it is saved nicely (might be nice to debounce this).\n",
       "    setTimeout(function () { fig.push_to_output() }, 1000);\n",
       "}\n",
       "\n",
       "mpl.figure.prototype._init_toolbar = function() {\n",
       "    var fig = this;\n",
       "\n",
       "    var nav_element = $('<div/>')\n",
       "    nav_element.attr('style', 'width: 100%');\n",
       "    this.root.append(nav_element);\n",
       "\n",
       "    // Define a callback function for later on.\n",
       "    function toolbar_event(event) {\n",
       "        return fig.toolbar_button_onclick(event['data']);\n",
       "    }\n",
       "    function toolbar_mouse_event(event) {\n",
       "        return fig.toolbar_button_onmouseover(event['data']);\n",
       "    }\n",
       "\n",
       "    for(var toolbar_ind in mpl.toolbar_items){\n",
       "        var name = mpl.toolbar_items[toolbar_ind][0];\n",
       "        var tooltip = mpl.toolbar_items[toolbar_ind][1];\n",
       "        var image = mpl.toolbar_items[toolbar_ind][2];\n",
       "        var method_name = mpl.toolbar_items[toolbar_ind][3];\n",
       "\n",
       "        if (!name) { continue; };\n",
       "\n",
       "        var button = $('<button class=\"btn btn-default\" href=\"#\" title=\"' + name + '\"><i class=\"fa ' + image + ' fa-lg\"></i></button>');\n",
       "        button.click(method_name, toolbar_event);\n",
       "        button.mouseover(tooltip, toolbar_mouse_event);\n",
       "        nav_element.append(button);\n",
       "    }\n",
       "\n",
       "    // Add the status bar.\n",
       "    var status_bar = $('<span class=\"mpl-message\" style=\"text-align:right; float: right;\"/>');\n",
       "    nav_element.append(status_bar);\n",
       "    this.message = status_bar[0];\n",
       "\n",
       "    // Add the close button to the window.\n",
       "    var buttongrp = $('<div class=\"btn-group inline pull-right\"></div>');\n",
       "    var button = $('<button class=\"btn btn-mini btn-primary\" href=\"#\" title=\"Stop Interaction\"><i class=\"fa fa-power-off icon-remove icon-large\"></i></button>');\n",
       "    button.click(function (evt) { fig.handle_close(fig, {}); } );\n",
       "    button.mouseover('Stop Interaction', toolbar_mouse_event);\n",
       "    buttongrp.append(button);\n",
       "    var titlebar = this.root.find($('.ui-dialog-titlebar'));\n",
       "    titlebar.prepend(buttongrp);\n",
       "}\n",
       "\n",
       "mpl.figure.prototype._root_extra_style = function(el){\n",
       "    var fig = this\n",
       "    el.on(\"remove\", function(){\n",
       "\tfig.close_ws(fig, {});\n",
       "    });\n",
       "}\n",
       "\n",
       "mpl.figure.prototype._canvas_extra_style = function(el){\n",
       "    // this is important to make the div 'focusable\n",
       "    el.attr('tabindex', 0)\n",
       "    // reach out to IPython and tell the keyboard manager to turn it's self\n",
       "    // off when our div gets focus\n",
       "\n",
       "    // location in version 3\n",
       "    if (IPython.notebook.keyboard_manager) {\n",
       "        IPython.notebook.keyboard_manager.register_events(el);\n",
       "    }\n",
       "    else {\n",
       "        // location in version 2\n",
       "        IPython.keyboard_manager.register_events(el);\n",
       "    }\n",
       "\n",
       "}\n",
       "\n",
       "mpl.figure.prototype._key_event_extra = function(event, name) {\n",
       "    var manager = IPython.notebook.keyboard_manager;\n",
       "    if (!manager)\n",
       "        manager = IPython.keyboard_manager;\n",
       "\n",
       "    // Check for shift+enter\n",
       "    if (event.shiftKey && event.which == 13) {\n",
       "        this.canvas_div.blur();\n",
       "        // select the cell after this one\n",
       "        var index = IPython.notebook.find_cell_index(this.cell_info[0]);\n",
       "        IPython.notebook.select(index + 1);\n",
       "    }\n",
       "}\n",
       "\n",
       "mpl.figure.prototype.handle_save = function(fig, msg) {\n",
       "    fig.ondownload(fig, null);\n",
       "}\n",
       "\n",
       "\n",
       "mpl.find_output_cell = function(html_output) {\n",
       "    // Return the cell and output element which can be found *uniquely* in the notebook.\n",
       "    // Note - this is a bit hacky, but it is done because the \"notebook_saving.Notebook\"\n",
       "    // IPython event is triggered only after the cells have been serialised, which for\n",
       "    // our purposes (turning an active figure into a static one), is too late.\n",
       "    var cells = IPython.notebook.get_cells();\n",
       "    var ncells = cells.length;\n",
       "    for (var i=0; i<ncells; i++) {\n",
       "        var cell = cells[i];\n",
       "        if (cell.cell_type === 'code'){\n",
       "            for (var j=0; j<cell.output_area.outputs.length; j++) {\n",
       "                var data = cell.output_area.outputs[j];\n",
       "                if (data.data) {\n",
       "                    // IPython >= 3 moved mimebundle to data attribute of output\n",
       "                    data = data.data;\n",
       "                }\n",
       "                if (data['text/html'] == html_output) {\n",
       "                    return [cell, data, j];\n",
       "                }\n",
       "            }\n",
       "        }\n",
       "    }\n",
       "}\n",
       "\n",
       "// Register the function which deals with the matplotlib target/channel.\n",
       "// The kernel may be null if the page has been refreshed.\n",
       "if (IPython.notebook.kernel != null) {\n",
       "    IPython.notebook.kernel.comm_manager.register_target('matplotlib', mpl.mpl_figure_comm);\n",
       "}\n"
      ],
      "text/plain": [
       "<IPython.core.display.Javascript object>"
      ]
     },
     "metadata": {},
     "output_type": "display_data"
    },
    {
     "data": {
      "text/html": [
       "<img src=\"data:image/png;base64,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\">"
      ],
      "text/plain": [
       "<IPython.core.display.HTML object>"
      ]
     },
     "metadata": {},
     "output_type": "display_data"
    },
    {
     "name": "stdout",
     "output_type": "stream",
     "text": [
      "0.202366\n",
      "0.201278\n"
     ]
    },
    {
     "data": {
      "image/jpeg": "[encoded data removed]",
      "text/plain": [
       "<IPython.core.display.Image object>"
      ]
     },
     "metadata": {},
     "output_type": "display_data"
    },
    {
     "data": {
      "image/jpeg": "[encoded data removed]",
      "text/plain": [
       "<IPython.core.display.Image object>"
      ]
     },
     "metadata": {},
     "output_type": "display_data"
    },
    {
     "name": "stdout",
     "output_type": "stream",
     "text": [
      "0.190631\n",
      "0.191047\n"
     ]
    },
    {
     "data": {
      "image/jpeg": "[encoded data removed]",
      "text/plain": [
       "<IPython.core.display.Image object>"
      ]
     },
     "metadata": {},
     "output_type": "display_data"
    },
    {
     "data": {
      "image/jpeg": "[encoded data removed]",
      "text/plain": [
       "<IPython.core.display.Image object>"
      ]
     },
     "metadata": {},
     "output_type": "display_data"
    },
    {
     "name": "stdout",
     "output_type": "stream",
     "text": [
      "0.185619\n",
      "0.186617\n"
     ]
    },
    {
     "data": {
      "image/jpeg": "[encoded data removed]",
      "text/plain": [
       "<IPython.core.display.Image object>"
      ]
     },
     "metadata": {},
     "output_type": "display_data"
    },
    {
     "data": {
      "image/jpeg": "[encoded data removed]",
      "text/plain": [
       "<IPython.core.display.Image object>"
      ]
     },
     "metadata": {},
     "output_type": "display_data"
    },
    {
     "name": "stdout",
     "output_type": "stream",
     "text": [
      "0.183017\n",
      "0.184279\n"
     ]
    },
    {
     "data": {
      "image/jpeg": "[encoded data removed]",
      "text/plain": [
       "<IPython.core.display.Image object>"
      ]
     },
     "metadata": {},
     "output_type": "display_data"
    },
    {
     "data": {
      "image/jpeg": "[encoded data removed]",
      "text/plain": [
       "<IPython.core.display.Image object>"
      ]
     },
     "metadata": {},
     "output_type": "display_data"
    },
    {
     "name": "stdout",
     "output_type": "stream",
     "text": [
      "0.181815\n",
      "0.182548\n"
     ]
    },
    {
     "data": {
      "image/jpeg": "[encoded data removed]",
      "text/plain": [
       "<IPython.core.display.Image object>"
      ]
     },
     "metadata": {},
     "output_type": "display_data"
    },
    {
     "data": {
      "image/jpeg": "[encoded data removed]",
      "text/plain": [
       "<IPython.core.display.Image object>"
      ]
     },
     "metadata": {},
     "output_type": "display_data"
    },
    {
     "name": "stdout",
     "output_type": "stream",
     "text": [
      "0.179317\n",
      "0.18103\n"
     ]
    },
    {
     "data": {
      "image/jpeg": "[encoded data removed]",
      "text/plain": [
       "<IPython.core.display.Image object>"
      ]
     },
     "metadata": {},
     "output_type": "display_data"
    },
    {
     "data": {
      "image/jpeg": "[encoded data removed]",
      "text/plain": [
       "<IPython.core.display.Image object>"
      ]
     },
     "metadata": {},
     "output_type": "display_data"
    },
    {
     "name": "stdout",
     "output_type": "stream",
     "text": [
      "0.177713\n",
      "0.180335\n"
     ]
    },
    {
     "data": {
      "image/jpeg": "[encoded data removed]",
      "text/plain": [
       "<IPython.core.display.Image object>"
      ]
     },
     "metadata": {},
     "output_type": "display_data"
    },
    {
     "data": {
      "image/jpeg": "[encoded data removed]",
      "text/plain": [
       "<IPython.core.display.Image object>"
      ]
     },
     "metadata": {},
     "output_type": "display_data"
    },
    {
     "name": "stdout",
     "output_type": "stream",
     "text": [
      "0.176363\n",
      "0.17911\n"
     ]
    },
    {
     "data": {
      "image/jpeg": "[encoded data removed]",
      "text/plain": [
       "<IPython.core.display.Image object>"
      ]
     },
     "metadata": {},
     "output_type": "display_data"
    },
    {
     "data": {
      "image/jpeg": "[encoded data removed]",
      "text/plain": [
       "<IPython.core.display.Image object>"
      ]
     },
     "metadata": {},
     "output_type": "display_data"
    },
    {
     "name": "stdout",
     "output_type": "stream",
     "text": [
      "0.175021\n",
      "0.178492\n"
     ]
    },
    {
     "data": {
      "image/jpeg": "[encoded data removed]",
      "text/plain": [
       "<IPython.core.display.Image object>"
      ]
     },
     "metadata": {},
     "output_type": "display_data"
    },
    {
     "data": {
      "image/jpeg": "[encoded data removed]",
      "text/plain": [
       "<IPython.core.display.Image object>"
      ]
     },
     "metadata": {},
     "output_type": "display_data"
    },
    {
     "name": "stdout",
     "output_type": "stream",
     "text": [
      "0.173637\n",
      "0.177686\n"
     ]
    },
    {
     "data": {
      "image/jpeg": "[encoded data removed]",
      "text/plain": [
       "<IPython.core.display.Image object>"
      ]
     },
     "metadata": {},
     "output_type": "display_data"
    },
    {
     "data": {
      "image/jpeg": "[encoded data removed]",
      "text/plain": [
       "<IPython.core.display.Image object>"
      ]
     },
     "metadata": {},
     "output_type": "display_data"
    },
    {
     "name": "stdout",
     "output_type": "stream",
     "text": [
      "0.173438\n",
      "0.177218\n"
     ]
    },
    {
     "data": {
      "image/jpeg": "[encoded data removed]",
      "text/plain": [
       "<IPython.core.display.Image object>"
      ]
     },
     "metadata": {},
     "output_type": "display_data"
    },
    {
     "data": {
      "image/jpeg": "[encoded data removed]",
      "text/plain": [
       "<IPython.core.display.Image object>"
      ]
     },
     "metadata": {},
     "output_type": "display_data"
    },
    {
     "name": "stdout",
     "output_type": "stream",
     "text": [
      "0.172838\n",
      "0.176989\n"
     ]
    },
    {
     "data": {
      "image/jpeg": "[encoded data removed]",
      "text/plain": [
       "<IPython.core.display.Image object>"
      ]
     },
     "metadata": {},
     "output_type": "display_data"
    },
    {
     "data": {
      "image/jpeg": "[encoded data removed]",
      "text/plain": [
       "<IPython.core.display.Image object>"
      ]
     },
     "metadata": {},
     "output_type": "display_data"
    },
    {
     "name": "stdout",
     "output_type": "stream",
     "text": [
      "0.171953\n",
      "0.176243\n"
     ]
    },
    {
     "data": {
      "image/jpeg": "[encoded data removed]",
      "text/plain": [
       "<IPython.core.display.Image object>"
      ]
     },
     "metadata": {},
     "output_type": "display_data"
    },
    {
     "data": {
      "image/jpeg": "[encoded data removed]",
      "text/plain": [
       "<IPython.core.display.Image object>"
      ]
     },
     "metadata": {},
     "output_type": "display_data"
    },
    {
     "name": "stdout",
     "output_type": "stream",
     "text": [
      "0.171184\n",
      "0.17586\n"
     ]
    },
    {
     "data": {
      "image/jpeg": "[encoded data removed]",
      "text/plain": [
       "<IPython.core.display.Image object>"
      ]
     },
     "metadata": {},
     "output_type": "display_data"
    },
    {
     "data": {
      "image/jpeg": "[encoded data removed]",
      "text/plain": [
       "<IPython.core.display.Image object>"
      ]
     },
     "metadata": {},
     "output_type": "display_data"
    },
    {
     "name": "stdout",
     "output_type": "stream",
     "text": [
      "0.169609\n",
      "0.175535\n"
     ]
    },
    {
     "data": {
      "image/jpeg": "[encoded data removed]",
      "text/plain": [
       "<IPython.core.display.Image object>"
      ]
     },
     "metadata": {},
     "output_type": "display_data"
    },
    {
     "data": {
      "image/jpeg": "[encoded data removed]",
      "text/plain": [
       "<IPython.core.display.Image object>"
      ]
     },
     "metadata": {},
     "output_type": "display_data"
    },
    {
     "name": "stdout",
     "output_type": "stream",
     "text": [
      "0.169611\n",
      "0.175479\n"
     ]
    },
    {
     "data": {
      "image/jpeg": "[encoded data removed]",
      "text/plain": [
       "<IPython.core.display.Image object>"
      ]
     },
     "metadata": {},
     "output_type": "display_data"
    },
    {
     "data": {
      "image/jpeg": "[encoded data removed]",
      "text/plain": [
       "<IPython.core.display.Image object>"
      ]
     },
     "metadata": {},
     "output_type": "display_data"
    },
    {
     "name": "stdout",
     "output_type": "stream",
     "text": [
      "0.169999\n",
      "0.175482\n"
     ]
    },
    {
     "data": {
      "image/jpeg": "[encoded data removed]",
      "text/plain": [
       "<IPython.core.display.Image object>"
      ]
     },
     "metadata": {},
     "output_type": "display_data"
    },
    {
     "data": {
      "image/jpeg": "[encoded data removed]",
      "text/plain": [
       "<IPython.core.display.Image object>"
      ]
     },
     "metadata": {},
     "output_type": "display_data"
    },
    {
     "name": "stdout",
     "output_type": "stream",
     "text": [
      "0.16957\n",
      "0.175025\n"
     ]
    },
    {
     "data": {
      "image/jpeg": "[encoded data removed]",
      "text/plain": [
       "<IPython.core.display.Image object>"
      ]
     },
     "metadata": {},
     "output_type": "display_data"
    },
    {
     "data": {
      "image/jpeg": "[encoded data removed]",
      "text/plain": [
       "<IPython.core.display.Image object>"
      ]
     },
     "metadata": {},
     "output_type": "display_data"
    },
    {
     "name": "stdout",
     "output_type": "stream",
     "text": [
      "0.169795\n",
      "0.174749\n"
     ]
    },
    {
     "data": {
      "image/jpeg": "[encoded data removed]",
      "text/plain": [
       "<IPython.core.display.Image object>"
      ]
     },
     "metadata": {},
     "output_type": "display_data"
    },
    {
     "data": {
      "image/jpeg": "[encoded data removed]",
      "text/plain": [
       "<IPython.core.display.Image object>"
      ]
     },
     "metadata": {},
     "output_type": "display_data"
    },
    {
     "name": "stdout",
     "output_type": "stream",
     "text": [
      "0.168948\n",
      "0.17505\n"
     ]
    },
    {
     "data": {
      "image/jpeg": "[encoded data removed]",
      "text/plain": [
       "<IPython.core.display.Image object>"
      ]
     },
     "metadata": {},
     "output_type": "display_data"
    },
    {
     "data": {
      "image/jpeg": "[encoded data removed]",
      "text/plain": [
       "<IPython.core.display.Image object>"
      ]
     },
     "metadata": {},
     "output_type": "display_data"
    },
    {
     "name": "stdout",
     "output_type": "stream",
     "text": [
      "0.167706\n",
      "0.174232\n"
     ]
    },
    {
     "data": {
      "image/jpeg": "[encoded data removed]",
      "text/plain": [
       "<IPython.core.display.Image object>"
      ]
     },
     "metadata": {},
     "output_type": "display_data"
    },
    {
     "data": {
      "image/jpeg": "[encoded data removed]",
      "text/plain": [
       "<IPython.core.display.Image object>"
      ]
     },
     "metadata": {},
     "output_type": "display_data"
    },
    {
     "name": "stdout",
     "output_type": "stream",
     "text": [
      "0.168169\n",
      "0.174338\n"
     ]
    },
    {
     "data": {
      "image/jpeg": "[encoded data removed]",
      "text/plain": [
       "<IPython.core.display.Image object>"
      ]
     },
     "metadata": {},
     "output_type": "display_data"
    },
    {
     "data": {
      "image/jpeg": "[encoded data removed]",
      "text/plain": [
       "<IPython.core.display.Image object>"
      ]
     },
     "metadata": {},
     "output_type": "display_data"
    },
    {
     "name": "stdout",
     "output_type": "stream",
     "text": [
      "0.166916\n",
      "0.174554\n"
     ]
    },
    {
     "data": {
      "image/jpeg": "[encoded data removed]",
      "text/plain": [
       "<IPython.core.display.Image object>"
      ]
     },
     "metadata": {},
     "output_type": "display_data"
    },
    {
     "data": {
      "image/jpeg": "[encoded data removed]",
      "text/plain": [
       "<IPython.core.display.Image object>"
      ]
     },
     "metadata": {},
     "output_type": "display_data"
    },
    {
     "name": "stdout",
     "output_type": "stream",
     "text": [
      "0.167823\n",
      "0.174157\n"
     ]
    },
    {
     "data": {
      "image/jpeg": "[encoded data removed]",
      "text/plain": [
       "<IPython.core.display.Image object>"
      ]
     },
     "metadata": {},
     "output_type": "display_data"
    },
    {
     "data": {
      "image/jpeg": "[encoded data removed]",
      "text/plain": [
       "<IPython.core.display.Image object>"
      ]
     },
     "metadata": {},
     "output_type": "display_data"
    },
    {
     "name": "stdout",
     "output_type": "stream",
     "text": [
      "0.165979\n",
      "0.17384\n"
     ]
    },
    {
     "data": {
      "image/jpeg": "[encoded data removed]",
      "text/plain": [
       "<IPython.core.display.Image object>"
      ]
     },
     "metadata": {},
     "output_type": "display_data"
    },
    {
     "data": {
      "image/jpeg": "[encoded data removed]",
      "text/plain": [
       "<IPython.core.display.Image object>"
      ]
     },
     "metadata": {},
     "output_type": "display_data"
    },
    {
     "name": "stdout",
     "output_type": "stream",
     "text": [
      "0.167315\n",
      "0.173984\n"
     ]
    },
    {
     "data": {
      "image/jpeg": "[encoded data removed]",
      "text/plain": [
       "<IPython.core.display.Image object>"
      ]
     },
     "metadata": {},
     "output_type": "display_data"
    },
    {
     "data": {
      "image/jpeg": "[encoded data removed]",
      "text/plain": [
       "<IPython.core.display.Image object>"
      ]
     },
     "metadata": {},
     "output_type": "display_data"
    },
    {
     "name": "stdout",
     "output_type": "stream",
     "text": [
      "0.166623\n",
      "0.173823\n"
     ]
    },
    {
     "data": {
      "image/jpeg": "[encoded data removed]",
      "text/plain": [
       "<IPython.core.display.Image object>"
      ]
     },
     "metadata": {},
     "output_type": "display_data"
    },
    {
     "data": {
      "image/jpeg": "[encoded data removed]",
      "text/plain": [
       "<IPython.core.display.Image object>"
      ]
     },
     "metadata": {},
     "output_type": "display_data"
    },
    {
     "name": "stdout",
     "output_type": "stream",
     "text": [
      "0.166282\n",
      "0.174148\n"
     ]
    },
    {
     "data": {
      "image/jpeg": "[encoded data removed]",
      "text/plain": [
       "<IPython.core.display.Image object>"
      ]
     },
     "metadata": {},
     "output_type": "display_data"
    },
    {
     "data": {
      "image/jpeg": "[encoded data removed]",
      "text/plain": [
       "<IPython.core.display.Image object>"
      ]
     },
     "metadata": {},
     "output_type": "display_data"
    },
    {
     "name": "stdout",
     "output_type": "stream",
     "text": [
      "0.165335\n",
      "0.173516\n"
     ]
    },
    {
     "data": {
      "image/jpeg": "[encoded data removed]",
      "text/plain": [
       "<IPython.core.display.Image object>"
      ]
     },
     "metadata": {},
     "output_type": "display_data"
    },
    {
     "data": {
      "image/jpeg": "[encoded data removed]",
      "text/plain": [
       "<IPython.core.display.Image object>"
      ]
     },
     "metadata": {},
     "output_type": "display_data"
    },
    {
     "name": "stdout",
     "output_type": "stream",
     "text": [
      "0.165736\n",
      "0.17358\n"
     ]
    },
    {
     "data": {
      "image/jpeg": "[encoded data removed]",
      "text/plain": [
       "<IPython.core.display.Image object>"
      ]
     },
     "metadata": {},
     "output_type": "display_data"
    },
    {
     "data": {
      "image/jpeg": "[encoded data removed]",
      "text/plain": [
       "<IPython.core.display.Image object>"
      ]
     },
     "metadata": {},
     "output_type": "display_data"
    },
    {
     "name": "stdout",
     "output_type": "stream",
     "text": [
      "0.165744\n",
      "0.174398\n"
     ]
    },
    {
     "data": {
      "image/jpeg": "[encoded data removed]",
      "text/plain": [
       "<IPython.core.display.Image object>"
      ]
     },
     "metadata": {},
     "output_type": "display_data"
    },
    {
     "data": {
      "image/jpeg": "[encoded data removed]",
      "text/plain": [
       "<IPython.core.display.Image object>"
      ]
     },
     "metadata": {},
     "output_type": "display_data"
    },
    {
     "name": "stdout",
     "output_type": "stream",
     "text": [
      "0.165507\n",
      "0.173869\n"
     ]
    },
    {
     "data": {
      "image/jpeg": "[encoded data removed]",
      "text/plain": [
       "<IPython.core.display.Image object>"
      ]
     },
     "metadata": {},
     "output_type": "display_data"
    },
    {
     "data": {
      "image/jpeg": "[encoded data removed]",
      "text/plain": [
       "<IPython.core.display.Image object>"
      ]
     },
     "metadata": {},
     "output_type": "display_data"
    },
    {
     "name": "stdout",
     "output_type": "stream",
     "text": [
      "0.164665\n",
      "0.173856\n"
     ]
    },
    {
     "data": {
      "image/jpeg": "[encoded data removed]",
      "text/plain": [
       "<IPython.core.display.Image object>"
      ]
     },
     "metadata": {},
     "output_type": "display_data"
    },
    {
     "data": {
      "image/jpeg": "[encoded data removed]",
      "text/plain": [
       "<IPython.core.display.Image object>"
      ]
     },
     "metadata": {},
     "output_type": "display_data"
    },
    {
     "name": "stdout",
     "output_type": "stream",
     "text": [
      "0.164567\n",
      "0.173486\n"
     ]
    },
    {
     "data": {
      "image/jpeg": "[encoded data removed]",
      "text/plain": [
       "<IPython.core.display.Image object>"
      ]
     },
     "metadata": {},
     "output_type": "display_data"
    },
    {
     "data": {
      "image/jpeg": "[encoded data removed]",
      "text/plain": [
       "<IPython.core.display.Image object>"
      ]
     },
     "metadata": {},
     "output_type": "display_data"
    },
    {
     "name": "stdout",
     "output_type": "stream",
     "text": [
      "0.164581\n",
      "0.173469\n"
     ]
    },
    {
     "data": {
      "image/jpeg": "[encoded data removed]",
      "text/plain": [
       "<IPython.core.display.Image object>"
      ]
     },
     "metadata": {},
     "output_type": "display_data"
    },
    {
     "data": {
      "image/jpeg": "[encoded data removed]",
      "text/plain": [
       "<IPython.core.display.Image object>"
      ]
     },
     "metadata": {},
     "output_type": "display_data"
    },
    {
     "name": "stdout",
     "output_type": "stream",
     "text": [
      "0.165375\n",
      "0.173737\n"
     ]
    },
    {
     "data": {
      "image/jpeg": "[encoded data removed]",
      "text/plain": [
       "<IPython.core.display.Image object>"
      ]
     },
     "metadata": {},
     "output_type": "display_data"
    },
    {
     "data": {
      "image/jpeg": "[encoded data removed]",
      "text/plain": [
       "<IPython.core.display.Image object>"
      ]
     },
     "metadata": {},
     "output_type": "display_data"
    },
    {
     "name": "stdout",
     "output_type": "stream",
     "text": [
      "0.164094\n",
      "0.173639\n"
     ]
    },
    {
     "data": {
      "image/jpeg": "[encoded data removed]",
      "text/plain": [
       "<IPython.core.display.Image object>"
      ]
     },
     "metadata": {},
     "output_type": "display_data"
    },
    {
     "data": {
      "image/jpeg": "[encoded data removed]",
      "text/plain": [
       "<IPython.core.display.Image object>"
      ]
     },
     "metadata": {},
     "output_type": "display_data"
    },
    {
     "name": "stdout",
     "output_type": "stream",
     "text": [
      "0.164856\n",
      "0.17385\n"
     ]
    },
    {
     "data": {
      "image/jpeg": "[encoded data removed]",
      "text/plain": [
       "<IPython.core.display.Image object>"
      ]
     },
     "metadata": {},
     "output_type": "display_data"
    },
    {
     "data": {
      "image/jpeg": "[encoded data removed]",
      "text/plain": [
       "<IPython.core.display.Image object>"
      ]
     },
     "metadata": {},
     "output_type": "display_data"
    },
    {
     "name": "stdout",
     "output_type": "stream",
     "text": [
      "0.164735\n",
      "0.17365\n"
     ]
    },
    {
     "data": {
      "image/jpeg": "[encoded data removed]",
      "text/plain": [
       "<IPython.core.display.Image object>"
      ]
     },
     "metadata": {},
     "output_type": "display_data"
    },
    {
     "data": {
      "image/jpeg": "[encoded data removed]",
      "text/plain": [
       "<IPython.core.display.Image object>"
      ]
     },
     "metadata": {},
     "output_type": "display_data"
    },
    {
     "name": "stdout",
     "output_type": "stream",
     "text": [
      "0.165026\n",
      "0.174025\n"
     ]
    },
    {
     "data": {
      "image/jpeg": "[encoded data removed]",
      "text/plain": [
       "<IPython.core.display.Image object>"
      ]
     },
     "metadata": {},
     "output_type": "display_data"
    },
    {
     "data": {
      "image/jpeg": "[encoded data removed]",
      "text/plain": [
       "<IPython.core.display.Image object>"
      ]
     },
     "metadata": {},
     "output_type": "display_data"
    },
    {
     "name": "stdout",
     "output_type": "stream",
     "text": [
      "0.164409\n",
      "0.174204\n"
     ]
    },
    {
     "data": {
      "image/jpeg": "[encoded data removed]",
      "text/plain": [
       "<IPython.core.display.Image object>"
      ]
     },
     "metadata": {},
     "output_type": "display_data"
    },
    {
     "data": {
      "image/jpeg": "[encoded data removed]",
      "text/plain": [
       "<IPython.core.display.Image object>"
      ]
     },
     "metadata": {},
     "output_type": "display_data"
    },
    {
     "name": "stdout",
     "output_type": "stream",
     "text": [
      "0.164415\n",
      "0.173764\n"
     ]
    },
    {
     "data": {
      "image/jpeg": "[encoded data removed]",
      "text/plain": [
       "<IPython.core.display.Image object>"
      ]
     },
     "metadata": {},
     "output_type": "display_data"
    },
    {
     "data": {
      "image/jpeg": "[encoded data removed]",
      "text/plain": [
       "<IPython.core.display.Image object>"
      ]
     },
     "metadata": {},
     "output_type": "display_data"
    },
    {
     "name": "stdout",
     "output_type": "stream",
     "text": [
      "0.163647\n",
      "0.17421\n"
     ]
    },
    {
     "data": {
      "image/jpeg": "[encoded data removed]",
      "text/plain": [
       "<IPython.core.display.Image object>"
      ]
     },
     "metadata": {},
     "output_type": "display_data"
    },
    {
     "data": {
      "image/jpeg": "[encoded data removed]",
      "text/plain": [
       "<IPython.core.display.Image object>"
      ]
     },
     "metadata": {},
     "output_type": "display_data"
    },
    {
     "name": "stdout",
     "output_type": "stream",
     "text": [
      "0.164747\n",
      "0.174002\n"
     ]
    },
    {
     "data": {
      "image/jpeg": "[encoded data removed]",
      "text/plain": [
       "<IPython.core.display.Image object>"
      ]
     },
     "metadata": {},
     "output_type": "display_data"
    },
    {
     "data": {
      "image/jpeg": "[encoded data removed]",
      "text/plain": [
       "<IPython.core.display.Image object>"
      ]
     },
     "metadata": {},
     "output_type": "display_data"
    },
    {
     "name": "stdout",
     "output_type": "stream",
     "text": [
      "0.163732\n",
      "0.174372\n"
     ]
    },
    {
     "data": {
      "image/jpeg": "[encoded data removed]",
      "text/plain": [
       "<IPython.core.display.Image object>"
      ]
     },
     "metadata": {},
     "output_type": "display_data"
    },
    {
     "data": {
      "image/jpeg": "[encoded data removed]",
      "text/plain": [
       "<IPython.core.display.Image object>"
      ]
     },
     "metadata": {},
     "output_type": "display_data"
    },
    {
     "name": "stdout",
     "output_type": "stream",
     "text": [
      "0.163323\n",
      "0.173832\n"
     ]
    },
    {
     "data": {
      "image/jpeg": "[encoded data removed]",
      "text/plain": [
       "<IPython.core.display.Image object>"
      ]
     },
     "metadata": {},
     "output_type": "display_data"
    },
    {
     "data": {
      "image/jpeg": "[encoded data removed]",
      "text/plain": [
       "<IPython.core.display.Image object>"
      ]
     },
     "metadata": {},
     "output_type": "display_data"
    },
    {
     "name": "stdout",
     "output_type": "stream",
     "text": [
      "0.164253\n",
      "0.174008\n"
     ]
    },
    {
     "data": {
      "image/jpeg": "[encoded data removed]",
      "text/plain": [
       "<IPython.core.display.Image object>"
      ]
     },
     "metadata": {},
     "output_type": "display_data"
    },
    {
     "data": {
      "image/jpeg": "[encoded data removed]",
      "text/plain": [
       "<IPython.core.display.Image object>"
      ]
     },
     "metadata": {},
     "output_type": "display_data"
    },
    {
     "name": "stdout",
     "output_type": "stream",
     "text": [
      "0.162173\n",
      "0.1736\n"
     ]
    },
    {
     "data": {
      "image/jpeg": "[encoded data removed]",
      "text/plain": [
       "<IPython.core.display.Image object>"
      ]
     },
     "metadata": {},
     "output_type": "display_data"
    },
    {
     "data": {
      "image/jpeg": "[encoded data removed]",
      "text/plain": [
       "<IPython.core.display.Image object>"
      ]
     },
     "metadata": {},
     "output_type": "display_data"
    },
    {
     "name": "stdout",
     "output_type": "stream",
     "text": [
      "0.163593\n",
      "0.173346\n"
     ]
    },
    {
     "data": {
      "image/jpeg": "[encoded data removed]",
      "text/plain": [
       "<IPython.core.display.Image object>"
      ]
     },
     "metadata": {},
     "output_type": "display_data"
    },
    {
     "data": {
      "image/jpeg": "[encoded data removed]",
      "text/plain": [
       "<IPython.core.display.Image object>"
      ]
     },
     "metadata": {},
     "output_type": "display_data"
    },
    {
     "name": "stdout",
     "output_type": "stream",
     "text": [
      "0.162964\n",
      "0.174082\n"
     ]
    },
    {
     "data": {
      "image/jpeg": "[encoded data removed]",
      "text/plain": [
       "<IPython.core.display.Image object>"
      ]
     },
     "metadata": {},
     "output_type": "display_data"
    },
    {
     "data": {
      "image/jpeg": "[encoded data removed]",
      "text/plain": [
       "<IPython.core.display.Image object>"
      ]
     },
     "metadata": {},
     "output_type": "display_data"
    }
   ],
   "source": [
    "batches_per_step=1000#60000//128 #About 1 epoch\n",
    "batches_per_eval=100\n",
    "n_steps=50\n",
    "#trainer_start.train(1000,learn_rate=1e-3)\n",
    "def make_plt():\n",
    "    %matplotlib notebook\n",
    "    global fig,ax,train_plot,test_plot#,eval_plot\n",
    "    fig,ax = plt.subplots(1,1)\n",
    "    train_plot=ax.plot([],[], label=\"training\")[0]\n",
    "    #eval_plot=ax.plot([],[], label=\"eval\")[0]\n",
    "    test_plot=ax.plot([],[], label=\"test\")[0]\n",
    "    ax.set_ylim(0,1)\n",
    "    plt.legend()\n",
    "    fig.canvas.draw()\n",
    "    time.sleep(.01)\n",
    "def update_plt():\n",
    "    x=[batches_per_step*i for i in range(len(trains))]\n",
    "    train_plot.set_xdata(x)\n",
    "    train_plot.set_ydata(trains)\n",
    "    test_plot.set_xdata(x)\n",
    "    test_plot.set_ydata(tests)\n",
    "    #eval_plot.set_xdata(x)\n",
    "    #eval_plot.set_ydata(evals)\n",
    "    ax.set_xlim(0,x[-1])\n",
    "    ax.set_ylim(0,tests[1]*1.1)\n",
    "    fig.canvas.draw()\n",
    "    #time.sleep(.01)\n",
    "if \"trains\" not in globals():\n",
    "    trains=[trainer.eval_loss(n=batches_per_eval)]\n",
    "    #evals=[trainer_eval.eval_loss(n=batches_per_eval)]\n",
    "    tests=[tester.eval_loss()]\n",
    "make_plt()\n",
    "for i in range(n_steps):\n",
    "    trainer.train(batches_per_step,learn_rate=1e-3)\n",
    "    trains.append(trainer.eval_loss(n=batches_per_eval)) \n",
    "    #evals.append(trainer_eval.eval_loss(n=batches_per_eval)) \n",
    "    tests.append(tester.eval_loss())\n",
    "    show(-sess.run(autoencoder)[0,:,:,0])\n",
    "    show(-autoencoder.generate()[0,:,:,0])\n",
    "    update_plt()"
   ]
  },
  {
   "cell_type": "code",
   "execution_count": 4,
   "metadata": {
    "collapsed": false
   },
   "outputs": [
    {
     "data": {
      "image/jpeg": "[encoded data removed]",
      "text/plain": [
       "<IPython.core.display.Image object>"
      ]
     },
     "metadata": {},
     "output_type": "display_data"
    }
   ],
   "source": [
    "p=10\n",
    "step=0.1\n",
    "x=[[step*n,step*m] for n in range(-p,p+1) for m in range(-p,p+1)]\n",
    "y=autoencoder.decode(x).reshape(2*p+1,2*p+1,28,28)\n",
    "show(-composite(y))"
   ]
  }
 ],
 "metadata": {
  "anaconda-cloud": {},
  "kernelspec": {
   "display_name": "Python [default]",
   "language": "python",
   "name": "python3"
  },
  "language_info": {
   "codemirror_mode": {
    "name": "ipython",
    "version": 3
   },
   "file_extension": ".py",
   "mimetype": "text/x-python",
   "name": "python",
   "nbconvert_exporter": "python",
   "pygments_lexer": "ipython3",
   "version": "3.5.2"
  }
 },
 "nbformat": 4,
 "nbformat_minor": 1
}
