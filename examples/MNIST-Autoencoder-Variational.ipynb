{
 "cells": [
  {
   "cell_type": "markdown",
   "metadata": {},
   "source": [
    "# MNIST autoencoder from nnBuilder"
   ]
  },
  {
   "cell_type": "markdown",
   "metadata": {},
   "source": [
    "A basic convolutional autoencoder for MNIST"
   ]
  },
  {
   "cell_type": "code",
   "execution_count": 1,
   "metadata": {
    "collapsed": false
   },
   "outputs": [],
   "source": [
    "import numpy as np\n",
    "import tensorflow as tf\n",
    "import sys, os, seaborn, time\n",
    "import matplotlib.pyplot as plt\n",
    "sys.path.append('../nnBuilder')\n",
    "from nnLayer import *\n",
    "from nnInput import *\n",
    "from nnTrainer import *\n",
    "from nnHandler import *\n",
    "from nnAuto import *"
   ]
  },
  {
   "cell_type": "code",
   "execution_count": 2,
   "metadata": {
    "collapsed": false
   },
   "outputs": [
    {
     "name": "stdout",
     "output_type": "stream",
     "text": [
      "Extracting /tmp/tensorflow/mnist/input_data\\train-images-idx3-ubyte.gz\n",
      "Extracting /tmp/tensorflow/mnist/input_data\\train-labels-idx1-ubyte.gz\n",
      "Extracting /tmp/tensorflow/mnist/input_data\\t10k-images-idx3-ubyte.gz\n",
      "Extracting /tmp/tensorflow/mnist/input_data\\t10k-labels-idx1-ubyte.gz\n",
      "train\n",
      "Extracting /tmp/tensorflow/mnist/input_data\\train-images-idx3-ubyte.gz\n",
      "Extracting /tmp/tensorflow/mnist/input_data\\train-labels-idx1-ubyte.gz\n",
      "Extracting /tmp/tensorflow/mnist/input_data\\t10k-images-idx3-ubyte.gz\n",
      "Extracting /tmp/tensorflow/mnist/input_data\\t10k-labels-idx1-ubyte.gz\n",
      "test\n"
     ]
    }
   ],
   "source": [
    "data=Layer(type=\"MNIST\",batch=128)\n",
    "data_test=Layer(type=\"MNIST\",test=True)\n",
    "'''encoder=[]\n",
    "encoder.append(dict(type=\"Convolution\",pad=\"SAME\",window=5,stride=1,size=2,relu=True))\n",
    "encoder.append(dict(type=\"Pool\",pad=\"SAME\",window=2,stride=2,pool_type=\"max\"))\n",
    "encoder.append(dict(type=\"Convolution\",pad=\"SAME\",window=5,stride=1,size=4,relu=True))\n",
    "encoder.append(dict(type=\"Pool\",pad=\"SAME\",window=2,stride=2,pool_type=\"max\"))\n",
    "decoder=[]\n",
    "decoder.append(dict(type=\"Relu\",size=49*4))\n",
    "decoder.append(dict(type=\"Reshape\",shape=[-1,7,7,4]))\n",
    "decoder.append(dict(type=\"Convolution_Transpose\",pad=\"SAME\",window=5,stride=2,size=2,relu=True))\n",
    "decoder.append(dict(type=\"Convolution_Transpose\",pad=\"SAME\",window=5,stride=2,size=1,relu=False))'''\n",
    "#decoder.append(dict(type=\"Sigmoid_Feature\"))\n",
    "encoder=[]\n",
    "encoder.append(dict(type=\"Relu\",size=512))\n",
    "encoder.append(dict(type=\"Relu\",size=256))\n",
    "decoder=[]\n",
    "decoder.append(dict(type=\"Relu\",size=256))\n",
    "decoder.append(dict(type=\"Relu\",size=512))\n",
    "decoder.append(dict(type=\"Linear\",size=784))\n",
    "decoder.append(dict(type=\"Reshape\",shape=[-1,28,28,1]))\n",
    "\n",
    "\n",
    "\n",
    "autoencoder=Layer(x=data,type=\"Variational_Autoencoder\",encoder=encoder,decoder=decoder,\n",
    "                  mean=dict(type=\"Linear\",size=2))\n",
    "autoencoder_eval=autoencoder.copy(x=data,test=True)\n",
    "autoencoder_test=autoencoder.copy(x=data_test,test=True)\n",
    "\n",
    "trainer=LabeledTrainer(network=autoencoder,optimizer=\"adam\",loss=\"network\")\n",
    "tester_eval=LabeledTrainer(network=autoencoder_eval,loss=\"network\",test=True)\n",
    "tester=LabeledTrainer(network=autoencoder_test,loss=\"network\",test=True)\n",
    "\n",
    "#trainer_start=LabeledTrainer(network=autoencoder,optimizer=\"adam\",loss=\"mean_squared_error\")\n",
    "\n",
    "sess=SessManager()"
   ]
  },
  {
   "cell_type": "code",
   "execution_count": 3,
   "metadata": {
    "collapsed": false,
    "scrolled": false
   },
   "outputs": [
    {
     "name": "stdout",
     "output_type": "stream",
     "text": [
      "1.00918\n",
      "1.01314\n"
     ]
    },
    {
     "data": {
      "application/javascript": [
       "/* Put everything inside the global mpl namespace */\n",
       "window.mpl = {};\n",
       "\n",
       "mpl.get_websocket_type = function() {\n",
       "    if (typeof(WebSocket) !== 'undefined') {\n",
       "        return WebSocket;\n",
       "    } else if (typeof(MozWebSocket) !== 'undefined') {\n",
       "        return MozWebSocket;\n",
       "    } else {\n",
       "        alert('Your browser does not have WebSocket support.' +\n",
       "              'Please try Chrome, Safari or Firefox ≥ 6. ' +\n",
       "              'Firefox 4 and 5 are also supported but you ' +\n",
       "              'have to enable WebSockets in about:config.');\n",
       "    };\n",
       "}\n",
       "\n",
       "mpl.figure = function(figure_id, websocket, ondownload, parent_element) {\n",
       "    this.id = figure_id;\n",
       "\n",
       "    this.ws = websocket;\n",
       "\n",
       "    this.supports_binary = (this.ws.binaryType != undefined);\n",
       "\n",
       "    if (!this.supports_binary) {\n",
       "        var warnings = document.getElementById(\"mpl-warnings\");\n",
       "        if (warnings) {\n",
       "            warnings.style.display = 'block';\n",
       "            warnings.textContent = (\n",
       "                \"This browser does not support binary websocket messages. \" +\n",
       "                    \"Performance may be slow.\");\n",
       "        }\n",
       "    }\n",
       "\n",
       "    this.imageObj = new Image();\n",
       "\n",
       "    this.context = undefined;\n",
       "    this.message = undefined;\n",
       "    this.canvas = undefined;\n",
       "    this.rubberband_canvas = undefined;\n",
       "    this.rubberband_context = undefined;\n",
       "    this.format_dropdown = undefined;\n",
       "\n",
       "    this.image_mode = 'full';\n",
       "\n",
       "    this.root = $('<div/>');\n",
       "    this._root_extra_style(this.root)\n",
       "    this.root.attr('style', 'display: inline-block');\n",
       "\n",
       "    $(parent_element).append(this.root);\n",
       "\n",
       "    this._init_header(this);\n",
       "    this._init_canvas(this);\n",
       "    this._init_toolbar(this);\n",
       "\n",
       "    var fig = this;\n",
       "\n",
       "    this.waiting = false;\n",
       "\n",
       "    this.ws.onopen =  function () {\n",
       "            fig.send_message(\"supports_binary\", {value: fig.supports_binary});\n",
       "            fig.send_message(\"send_image_mode\", {});\n",
       "            fig.send_message(\"refresh\", {});\n",
       "        }\n",
       "\n",
       "    this.imageObj.onload = function() {\n",
       "            if (fig.image_mode == 'full') {\n",
       "                // Full images could contain transparency (where diff images\n",
       "                // almost always do), so we need to clear the canvas so that\n",
       "                // there is no ghosting.\n",
       "                fig.context.clearRect(0, 0, fig.canvas.width, fig.canvas.height);\n",
       "            }\n",
       "            fig.context.drawImage(fig.imageObj, 0, 0);\n",
       "        };\n",
       "\n",
       "    this.imageObj.onunload = function() {\n",
       "        this.ws.close();\n",
       "    }\n",
       "\n",
       "    this.ws.onmessage = this._make_on_message_function(this);\n",
       "\n",
       "    this.ondownload = ondownload;\n",
       "}\n",
       "\n",
       "mpl.figure.prototype._init_header = function() {\n",
       "    var titlebar = $(\n",
       "        '<div class=\"ui-dialog-titlebar ui-widget-header ui-corner-all ' +\n",
       "        'ui-helper-clearfix\"/>');\n",
       "    var titletext = $(\n",
       "        '<div class=\"ui-dialog-title\" style=\"width: 100%; ' +\n",
       "        'text-align: center; padding: 3px;\"/>');\n",
       "    titlebar.append(titletext)\n",
       "    this.root.append(titlebar);\n",
       "    this.header = titletext[0];\n",
       "}\n",
       "\n",
       "\n",
       "\n",
       "mpl.figure.prototype._canvas_extra_style = function(canvas_div) {\n",
       "\n",
       "}\n",
       "\n",
       "\n",
       "mpl.figure.prototype._root_extra_style = function(canvas_div) {\n",
       "\n",
       "}\n",
       "\n",
       "mpl.figure.prototype._init_canvas = function() {\n",
       "    var fig = this;\n",
       "\n",
       "    var canvas_div = $('<div/>');\n",
       "\n",
       "    canvas_div.attr('style', 'position: relative; clear: both; outline: 0');\n",
       "\n",
       "    function canvas_keyboard_event(event) {\n",
       "        return fig.key_event(event, event['data']);\n",
       "    }\n",
       "\n",
       "    canvas_div.keydown('key_press', canvas_keyboard_event);\n",
       "    canvas_div.keyup('key_release', canvas_keyboard_event);\n",
       "    this.canvas_div = canvas_div\n",
       "    this._canvas_extra_style(canvas_div)\n",
       "    this.root.append(canvas_div);\n",
       "\n",
       "    var canvas = $('<canvas/>');\n",
       "    canvas.addClass('mpl-canvas');\n",
       "    canvas.attr('style', \"left: 0; top: 0; z-index: 0; outline: 0\")\n",
       "\n",
       "    this.canvas = canvas[0];\n",
       "    this.context = canvas[0].getContext(\"2d\");\n",
       "\n",
       "    var rubberband = $('<canvas/>');\n",
       "    rubberband.attr('style', \"position: absolute; left: 0; top: 0; z-index: 1;\")\n",
       "\n",
       "    var pass_mouse_events = true;\n",
       "\n",
       "    canvas_div.resizable({\n",
       "        start: function(event, ui) {\n",
       "            pass_mouse_events = false;\n",
       "        },\n",
       "        resize: function(event, ui) {\n",
       "            fig.request_resize(ui.size.width, ui.size.height);\n",
       "        },\n",
       "        stop: function(event, ui) {\n",
       "            pass_mouse_events = true;\n",
       "            fig.request_resize(ui.size.width, ui.size.height);\n",
       "        },\n",
       "    });\n",
       "\n",
       "    function mouse_event_fn(event) {\n",
       "        if (pass_mouse_events)\n",
       "            return fig.mouse_event(event, event['data']);\n",
       "    }\n",
       "\n",
       "    rubberband.mousedown('button_press', mouse_event_fn);\n",
       "    rubberband.mouseup('button_release', mouse_event_fn);\n",
       "    // Throttle sequential mouse events to 1 every 20ms.\n",
       "    rubberband.mousemove('motion_notify', mouse_event_fn);\n",
       "\n",
       "    rubberband.mouseenter('figure_enter', mouse_event_fn);\n",
       "    rubberband.mouseleave('figure_leave', mouse_event_fn);\n",
       "\n",
       "    canvas_div.on(\"wheel\", function (event) {\n",
       "        event = event.originalEvent;\n",
       "        event['data'] = 'scroll'\n",
       "        if (event.deltaY < 0) {\n",
       "            event.step = 1;\n",
       "        } else {\n",
       "            event.step = -1;\n",
       "        }\n",
       "        mouse_event_fn(event);\n",
       "    });\n",
       "\n",
       "    canvas_div.append(canvas);\n",
       "    canvas_div.append(rubberband);\n",
       "\n",
       "    this.rubberband = rubberband;\n",
       "    this.rubberband_canvas = rubberband[0];\n",
       "    this.rubberband_context = rubberband[0].getContext(\"2d\");\n",
       "    this.rubberband_context.strokeStyle = \"#000000\";\n",
       "\n",
       "    this._resize_canvas = function(width, height) {\n",
       "        // Keep the size of the canvas, canvas container, and rubber band\n",
       "        // canvas in synch.\n",
       "        canvas_div.css('width', width)\n",
       "        canvas_div.css('height', height)\n",
       "\n",
       "        canvas.attr('width', width);\n",
       "        canvas.attr('height', height);\n",
       "\n",
       "        rubberband.attr('width', width);\n",
       "        rubberband.attr('height', height);\n",
       "    }\n",
       "\n",
       "    // Set the figure to an initial 600x600px, this will subsequently be updated\n",
       "    // upon first draw.\n",
       "    this._resize_canvas(600, 600);\n",
       "\n",
       "    // Disable right mouse context menu.\n",
       "    $(this.rubberband_canvas).bind(\"contextmenu\",function(e){\n",
       "        return false;\n",
       "    });\n",
       "\n",
       "    function set_focus () {\n",
       "        canvas.focus();\n",
       "        canvas_div.focus();\n",
       "    }\n",
       "\n",
       "    window.setTimeout(set_focus, 100);\n",
       "}\n",
       "\n",
       "mpl.figure.prototype._init_toolbar = function() {\n",
       "    var fig = this;\n",
       "\n",
       "    var nav_element = $('<div/>')\n",
       "    nav_element.attr('style', 'width: 100%');\n",
       "    this.root.append(nav_element);\n",
       "\n",
       "    // Define a callback function for later on.\n",
       "    function toolbar_event(event) {\n",
       "        return fig.toolbar_button_onclick(event['data']);\n",
       "    }\n",
       "    function toolbar_mouse_event(event) {\n",
       "        return fig.toolbar_button_onmouseover(event['data']);\n",
       "    }\n",
       "\n",
       "    for(var toolbar_ind in mpl.toolbar_items) {\n",
       "        var name = mpl.toolbar_items[toolbar_ind][0];\n",
       "        var tooltip = mpl.toolbar_items[toolbar_ind][1];\n",
       "        var image = mpl.toolbar_items[toolbar_ind][2];\n",
       "        var method_name = mpl.toolbar_items[toolbar_ind][3];\n",
       "\n",
       "        if (!name) {\n",
       "            // put a spacer in here.\n",
       "            continue;\n",
       "        }\n",
       "        var button = $('<button/>');\n",
       "        button.addClass('ui-button ui-widget ui-state-default ui-corner-all ' +\n",
       "                        'ui-button-icon-only');\n",
       "        button.attr('role', 'button');\n",
       "        button.attr('aria-disabled', 'false');\n",
       "        button.click(method_name, toolbar_event);\n",
       "        button.mouseover(tooltip, toolbar_mouse_event);\n",
       "\n",
       "        var icon_img = $('<span/>');\n",
       "        icon_img.addClass('ui-button-icon-primary ui-icon');\n",
       "        icon_img.addClass(image);\n",
       "        icon_img.addClass('ui-corner-all');\n",
       "\n",
       "        var tooltip_span = $('<span/>');\n",
       "        tooltip_span.addClass('ui-button-text');\n",
       "        tooltip_span.html(tooltip);\n",
       "\n",
       "        button.append(icon_img);\n",
       "        button.append(tooltip_span);\n",
       "\n",
       "        nav_element.append(button);\n",
       "    }\n",
       "\n",
       "    var fmt_picker_span = $('<span/>');\n",
       "\n",
       "    var fmt_picker = $('<select/>');\n",
       "    fmt_picker.addClass('mpl-toolbar-option ui-widget ui-widget-content');\n",
       "    fmt_picker_span.append(fmt_picker);\n",
       "    nav_element.append(fmt_picker_span);\n",
       "    this.format_dropdown = fmt_picker[0];\n",
       "\n",
       "    for (var ind in mpl.extensions) {\n",
       "        var fmt = mpl.extensions[ind];\n",
       "        var option = $(\n",
       "            '<option/>', {selected: fmt === mpl.default_extension}).html(fmt);\n",
       "        fmt_picker.append(option)\n",
       "    }\n",
       "\n",
       "    // Add hover states to the ui-buttons\n",
       "    $( \".ui-button\" ).hover(\n",
       "        function() { $(this).addClass(\"ui-state-hover\");},\n",
       "        function() { $(this).removeClass(\"ui-state-hover\");}\n",
       "    );\n",
       "\n",
       "    var status_bar = $('<span class=\"mpl-message\"/>');\n",
       "    nav_element.append(status_bar);\n",
       "    this.message = status_bar[0];\n",
       "}\n",
       "\n",
       "mpl.figure.prototype.request_resize = function(x_pixels, y_pixels) {\n",
       "    // Request matplotlib to resize the figure. Matplotlib will then trigger a resize in the client,\n",
       "    // which will in turn request a refresh of the image.\n",
       "    this.send_message('resize', {'width': x_pixels, 'height': y_pixels});\n",
       "}\n",
       "\n",
       "mpl.figure.prototype.send_message = function(type, properties) {\n",
       "    properties['type'] = type;\n",
       "    properties['figure_id'] = this.id;\n",
       "    this.ws.send(JSON.stringify(properties));\n",
       "}\n",
       "\n",
       "mpl.figure.prototype.send_draw_message = function() {\n",
       "    if (!this.waiting) {\n",
       "        this.waiting = true;\n",
       "        this.ws.send(JSON.stringify({type: \"draw\", figure_id: this.id}));\n",
       "    }\n",
       "}\n",
       "\n",
       "\n",
       "mpl.figure.prototype.handle_save = function(fig, msg) {\n",
       "    var format_dropdown = fig.format_dropdown;\n",
       "    var format = format_dropdown.options[format_dropdown.selectedIndex].value;\n",
       "    fig.ondownload(fig, format);\n",
       "}\n",
       "\n",
       "\n",
       "mpl.figure.prototype.handle_resize = function(fig, msg) {\n",
       "    var size = msg['size'];\n",
       "    if (size[0] != fig.canvas.width || size[1] != fig.canvas.height) {\n",
       "        fig._resize_canvas(size[0], size[1]);\n",
       "        fig.send_message(\"refresh\", {});\n",
       "    };\n",
       "}\n",
       "\n",
       "mpl.figure.prototype.handle_rubberband = function(fig, msg) {\n",
       "    var x0 = msg['x0'];\n",
       "    var y0 = fig.canvas.height - msg['y0'];\n",
       "    var x1 = msg['x1'];\n",
       "    var y1 = fig.canvas.height - msg['y1'];\n",
       "    x0 = Math.floor(x0) + 0.5;\n",
       "    y0 = Math.floor(y0) + 0.5;\n",
       "    x1 = Math.floor(x1) + 0.5;\n",
       "    y1 = Math.floor(y1) + 0.5;\n",
       "    var min_x = Math.min(x0, x1);\n",
       "    var min_y = Math.min(y0, y1);\n",
       "    var width = Math.abs(x1 - x0);\n",
       "    var height = Math.abs(y1 - y0);\n",
       "\n",
       "    fig.rubberband_context.clearRect(\n",
       "        0, 0, fig.canvas.width, fig.canvas.height);\n",
       "\n",
       "    fig.rubberband_context.strokeRect(min_x, min_y, width, height);\n",
       "}\n",
       "\n",
       "mpl.figure.prototype.handle_figure_label = function(fig, msg) {\n",
       "    // Updates the figure title.\n",
       "    fig.header.textContent = msg['label'];\n",
       "}\n",
       "\n",
       "mpl.figure.prototype.handle_cursor = function(fig, msg) {\n",
       "    var cursor = msg['cursor'];\n",
       "    switch(cursor)\n",
       "    {\n",
       "    case 0:\n",
       "        cursor = 'pointer';\n",
       "        break;\n",
       "    case 1:\n",
       "        cursor = 'default';\n",
       "        break;\n",
       "    case 2:\n",
       "        cursor = 'crosshair';\n",
       "        break;\n",
       "    case 3:\n",
       "        cursor = 'move';\n",
       "        break;\n",
       "    }\n",
       "    fig.rubberband_canvas.style.cursor = cursor;\n",
       "}\n",
       "\n",
       "mpl.figure.prototype.handle_message = function(fig, msg) {\n",
       "    fig.message.textContent = msg['message'];\n",
       "}\n",
       "\n",
       "mpl.figure.prototype.handle_draw = function(fig, msg) {\n",
       "    // Request the server to send over a new figure.\n",
       "    fig.send_draw_message();\n",
       "}\n",
       "\n",
       "mpl.figure.prototype.handle_image_mode = function(fig, msg) {\n",
       "    fig.image_mode = msg['mode'];\n",
       "}\n",
       "\n",
       "mpl.figure.prototype.updated_canvas_event = function() {\n",
       "    // Called whenever the canvas gets updated.\n",
       "    this.send_message(\"ack\", {});\n",
       "}\n",
       "\n",
       "// A function to construct a web socket function for onmessage handling.\n",
       "// Called in the figure constructor.\n",
       "mpl.figure.prototype._make_on_message_function = function(fig) {\n",
       "    return function socket_on_message(evt) {\n",
       "        if (evt.data instanceof Blob) {\n",
       "            /* FIXME: We get \"Resource interpreted as Image but\n",
       "             * transferred with MIME type text/plain:\" errors on\n",
       "             * Chrome.  But how to set the MIME type?  It doesn't seem\n",
       "             * to be part of the websocket stream */\n",
       "            evt.data.type = \"image/png\";\n",
       "\n",
       "            /* Free the memory for the previous frames */\n",
       "            if (fig.imageObj.src) {\n",
       "                (window.URL || window.webkitURL).revokeObjectURL(\n",
       "                    fig.imageObj.src);\n",
       "            }\n",
       "\n",
       "            fig.imageObj.src = (window.URL || window.webkitURL).createObjectURL(\n",
       "                evt.data);\n",
       "            fig.updated_canvas_event();\n",
       "            fig.waiting = false;\n",
       "            return;\n",
       "        }\n",
       "        else if (typeof evt.data === 'string' && evt.data.slice(0, 21) == \"data:image/png;base64\") {\n",
       "            fig.imageObj.src = evt.data;\n",
       "            fig.updated_canvas_event();\n",
       "            fig.waiting = false;\n",
       "            return;\n",
       "        }\n",
       "\n",
       "        var msg = JSON.parse(evt.data);\n",
       "        var msg_type = msg['type'];\n",
       "\n",
       "        // Call the  \"handle_{type}\" callback, which takes\n",
       "        // the figure and JSON message as its only arguments.\n",
       "        try {\n",
       "            var callback = fig[\"handle_\" + msg_type];\n",
       "        } catch (e) {\n",
       "            console.log(\"No handler for the '\" + msg_type + \"' message type: \", msg);\n",
       "            return;\n",
       "        }\n",
       "\n",
       "        if (callback) {\n",
       "            try {\n",
       "                // console.log(\"Handling '\" + msg_type + \"' message: \", msg);\n",
       "                callback(fig, msg);\n",
       "            } catch (e) {\n",
       "                console.log(\"Exception inside the 'handler_\" + msg_type + \"' callback:\", e, e.stack, msg);\n",
       "            }\n",
       "        }\n",
       "    };\n",
       "}\n",
       "\n",
       "// from http://stackoverflow.com/questions/1114465/getting-mouse-location-in-canvas\n",
       "mpl.findpos = function(e) {\n",
       "    //this section is from http://www.quirksmode.org/js/events_properties.html\n",
       "    var targ;\n",
       "    if (!e)\n",
       "        e = window.event;\n",
       "    if (e.target)\n",
       "        targ = e.target;\n",
       "    else if (e.srcElement)\n",
       "        targ = e.srcElement;\n",
       "    if (targ.nodeType == 3) // defeat Safari bug\n",
       "        targ = targ.parentNode;\n",
       "\n",
       "    // jQuery normalizes the pageX and pageY\n",
       "    // pageX,Y are the mouse positions relative to the document\n",
       "    // offset() returns the position of the element relative to the document\n",
       "    var x = e.pageX - $(targ).offset().left;\n",
       "    var y = e.pageY - $(targ).offset().top;\n",
       "\n",
       "    return {\"x\": x, \"y\": y};\n",
       "};\n",
       "\n",
       "/*\n",
       " * return a copy of an object with only non-object keys\n",
       " * we need this to avoid circular references\n",
       " * http://stackoverflow.com/a/24161582/3208463\n",
       " */\n",
       "function simpleKeys (original) {\n",
       "  return Object.keys(original).reduce(function (obj, key) {\n",
       "    if (typeof original[key] !== 'object')\n",
       "        obj[key] = original[key]\n",
       "    return obj;\n",
       "  }, {});\n",
       "}\n",
       "\n",
       "mpl.figure.prototype.mouse_event = function(event, name) {\n",
       "    var canvas_pos = mpl.findpos(event)\n",
       "\n",
       "    if (name === 'button_press')\n",
       "    {\n",
       "        this.canvas.focus();\n",
       "        this.canvas_div.focus();\n",
       "    }\n",
       "\n",
       "    var x = canvas_pos.x;\n",
       "    var y = canvas_pos.y;\n",
       "\n",
       "    this.send_message(name, {x: x, y: y, button: event.button,\n",
       "                             step: event.step,\n",
       "                             guiEvent: simpleKeys(event)});\n",
       "\n",
       "    /* This prevents the web browser from automatically changing to\n",
       "     * the text insertion cursor when the button is pressed.  We want\n",
       "     * to control all of the cursor setting manually through the\n",
       "     * 'cursor' event from matplotlib */\n",
       "    event.preventDefault();\n",
       "    return false;\n",
       "}\n",
       "\n",
       "mpl.figure.prototype._key_event_extra = function(event, name) {\n",
       "    // Handle any extra behaviour associated with a key event\n",
       "}\n",
       "\n",
       "mpl.figure.prototype.key_event = function(event, name) {\n",
       "\n",
       "    // Prevent repeat events\n",
       "    if (name == 'key_press')\n",
       "    {\n",
       "        if (event.which === this._key)\n",
       "            return;\n",
       "        else\n",
       "            this._key = event.which;\n",
       "    }\n",
       "    if (name == 'key_release')\n",
       "        this._key = null;\n",
       "\n",
       "    var value = '';\n",
       "    if (event.ctrlKey && event.which != 17)\n",
       "        value += \"ctrl+\";\n",
       "    if (event.altKey && event.which != 18)\n",
       "        value += \"alt+\";\n",
       "    if (event.shiftKey && event.which != 16)\n",
       "        value += \"shift+\";\n",
       "\n",
       "    value += 'k';\n",
       "    value += event.which.toString();\n",
       "\n",
       "    this._key_event_extra(event, name);\n",
       "\n",
       "    this.send_message(name, {key: value,\n",
       "                             guiEvent: simpleKeys(event)});\n",
       "    return false;\n",
       "}\n",
       "\n",
       "mpl.figure.prototype.toolbar_button_onclick = function(name) {\n",
       "    if (name == 'download') {\n",
       "        this.handle_save(this, null);\n",
       "    } else {\n",
       "        this.send_message(\"toolbar_button\", {name: name});\n",
       "    }\n",
       "};\n",
       "\n",
       "mpl.figure.prototype.toolbar_button_onmouseover = function(tooltip) {\n",
       "    this.message.textContent = tooltip;\n",
       "};\n",
       "mpl.toolbar_items = [[\"Home\", \"Reset original view\", \"fa fa-home icon-home\", \"home\"], [\"Back\", \"Back to  previous view\", \"fa fa-arrow-left icon-arrow-left\", \"back\"], [\"Forward\", \"Forward to next view\", \"fa fa-arrow-right icon-arrow-right\", \"forward\"], [\"\", \"\", \"\", \"\"], [\"Pan\", \"Pan axes with left mouse, zoom with right\", \"fa fa-arrows icon-move\", \"pan\"], [\"Zoom\", \"Zoom to rectangle\", \"fa fa-square-o icon-check-empty\", \"zoom\"], [\"\", \"\", \"\", \"\"], [\"Download\", \"Download plot\", \"fa fa-floppy-o icon-save\", \"download\"]];\n",
       "\n",
       "mpl.extensions = [\"eps\", \"jpeg\", \"pdf\", \"png\", \"ps\", \"raw\", \"svg\", \"tif\"];\n",
       "\n",
       "mpl.default_extension = \"png\";var comm_websocket_adapter = function(comm) {\n",
       "    // Create a \"websocket\"-like object which calls the given IPython comm\n",
       "    // object with the appropriate methods. Currently this is a non binary\n",
       "    // socket, so there is still some room for performance tuning.\n",
       "    var ws = {};\n",
       "\n",
       "    ws.close = function() {\n",
       "        comm.close()\n",
       "    };\n",
       "    ws.send = function(m) {\n",
       "        //console.log('sending', m);\n",
       "        comm.send(m);\n",
       "    };\n",
       "    // Register the callback with on_msg.\n",
       "    comm.on_msg(function(msg) {\n",
       "        //console.log('receiving', msg['content']['data'], msg);\n",
       "        // Pass the mpl event to the overriden (by mpl) onmessage function.\n",
       "        ws.onmessage(msg['content']['data'])\n",
       "    });\n",
       "    return ws;\n",
       "}\n",
       "\n",
       "mpl.mpl_figure_comm = function(comm, msg) {\n",
       "    // This is the function which gets called when the mpl process\n",
       "    // starts-up an IPython Comm through the \"matplotlib\" channel.\n",
       "\n",
       "    var id = msg.content.data.id;\n",
       "    // Get hold of the div created by the display call when the Comm\n",
       "    // socket was opened in Python.\n",
       "    var element = $(\"#\" + id);\n",
       "    var ws_proxy = comm_websocket_adapter(comm)\n",
       "\n",
       "    function ondownload(figure, format) {\n",
       "        window.open(figure.imageObj.src);\n",
       "    }\n",
       "\n",
       "    var fig = new mpl.figure(id, ws_proxy,\n",
       "                           ondownload,\n",
       "                           element.get(0));\n",
       "\n",
       "    // Call onopen now - mpl needs it, as it is assuming we've passed it a real\n",
       "    // web socket which is closed, not our websocket->open comm proxy.\n",
       "    ws_proxy.onopen();\n",
       "\n",
       "    fig.parent_element = element.get(0);\n",
       "    fig.cell_info = mpl.find_output_cell(\"<div id='\" + id + \"'></div>\");\n",
       "    if (!fig.cell_info) {\n",
       "        console.error(\"Failed to find cell for figure\", id, fig);\n",
       "        return;\n",
       "    }\n",
       "\n",
       "    var output_index = fig.cell_info[2]\n",
       "    var cell = fig.cell_info[0];\n",
       "\n",
       "};\n",
       "\n",
       "mpl.figure.prototype.handle_close = function(fig, msg) {\n",
       "    fig.root.unbind('remove')\n",
       "\n",
       "    // Update the output cell to use the data from the current canvas.\n",
       "    fig.push_to_output();\n",
       "    var dataURL = fig.canvas.toDataURL();\n",
       "    // Re-enable the keyboard manager in IPython - without this line, in FF,\n",
       "    // the notebook keyboard shortcuts fail.\n",
       "    IPython.keyboard_manager.enable()\n",
       "    $(fig.parent_element).html('<img src=\"' + dataURL + '\">');\n",
       "    fig.close_ws(fig, msg);\n",
       "}\n",
       "\n",
       "mpl.figure.prototype.close_ws = function(fig, msg){\n",
       "    fig.send_message('closing', msg);\n",
       "    // fig.ws.close()\n",
       "}\n",
       "\n",
       "mpl.figure.prototype.push_to_output = function(remove_interactive) {\n",
       "    // Turn the data on the canvas into data in the output cell.\n",
       "    var dataURL = this.canvas.toDataURL();\n",
       "    this.cell_info[1]['text/html'] = '<img src=\"' + dataURL + '\">';\n",
       "}\n",
       "\n",
       "mpl.figure.prototype.updated_canvas_event = function() {\n",
       "    // Tell IPython that the notebook contents must change.\n",
       "    IPython.notebook.set_dirty(true);\n",
       "    this.send_message(\"ack\", {});\n",
       "    var fig = this;\n",
       "    // Wait a second, then push the new image to the DOM so\n",
       "    // that it is saved nicely (might be nice to debounce this).\n",
       "    setTimeout(function () { fig.push_to_output() }, 1000);\n",
       "}\n",
       "\n",
       "mpl.figure.prototype._init_toolbar = function() {\n",
       "    var fig = this;\n",
       "\n",
       "    var nav_element = $('<div/>')\n",
       "    nav_element.attr('style', 'width: 100%');\n",
       "    this.root.append(nav_element);\n",
       "\n",
       "    // Define a callback function for later on.\n",
       "    function toolbar_event(event) {\n",
       "        return fig.toolbar_button_onclick(event['data']);\n",
       "    }\n",
       "    function toolbar_mouse_event(event) {\n",
       "        return fig.toolbar_button_onmouseover(event['data']);\n",
       "    }\n",
       "\n",
       "    for(var toolbar_ind in mpl.toolbar_items){\n",
       "        var name = mpl.toolbar_items[toolbar_ind][0];\n",
       "        var tooltip = mpl.toolbar_items[toolbar_ind][1];\n",
       "        var image = mpl.toolbar_items[toolbar_ind][2];\n",
       "        var method_name = mpl.toolbar_items[toolbar_ind][3];\n",
       "\n",
       "        if (!name) { continue; };\n",
       "\n",
       "        var button = $('<button class=\"btn btn-default\" href=\"#\" title=\"' + name + '\"><i class=\"fa ' + image + ' fa-lg\"></i></button>');\n",
       "        button.click(method_name, toolbar_event);\n",
       "        button.mouseover(tooltip, toolbar_mouse_event);\n",
       "        nav_element.append(button);\n",
       "    }\n",
       "\n",
       "    // Add the status bar.\n",
       "    var status_bar = $('<span class=\"mpl-message\" style=\"text-align:right; float: right;\"/>');\n",
       "    nav_element.append(status_bar);\n",
       "    this.message = status_bar[0];\n",
       "\n",
       "    // Add the close button to the window.\n",
       "    var buttongrp = $('<div class=\"btn-group inline pull-right\"></div>');\n",
       "    var button = $('<button class=\"btn btn-mini btn-primary\" href=\"#\" title=\"Stop Interaction\"><i class=\"fa fa-power-off icon-remove icon-large\"></i></button>');\n",
       "    button.click(function (evt) { fig.handle_close(fig, {}); } );\n",
       "    button.mouseover('Stop Interaction', toolbar_mouse_event);\n",
       "    buttongrp.append(button);\n",
       "    var titlebar = this.root.find($('.ui-dialog-titlebar'));\n",
       "    titlebar.prepend(buttongrp);\n",
       "}\n",
       "\n",
       "mpl.figure.prototype._root_extra_style = function(el){\n",
       "    var fig = this\n",
       "    el.on(\"remove\", function(){\n",
       "\tfig.close_ws(fig, {});\n",
       "    });\n",
       "}\n",
       "\n",
       "mpl.figure.prototype._canvas_extra_style = function(el){\n",
       "    // this is important to make the div 'focusable\n",
       "    el.attr('tabindex', 0)\n",
       "    // reach out to IPython and tell the keyboard manager to turn it's self\n",
       "    // off when our div gets focus\n",
       "\n",
       "    // location in version 3\n",
       "    if (IPython.notebook.keyboard_manager) {\n",
       "        IPython.notebook.keyboard_manager.register_events(el);\n",
       "    }\n",
       "    else {\n",
       "        // location in version 2\n",
       "        IPython.keyboard_manager.register_events(el);\n",
       "    }\n",
       "\n",
       "}\n",
       "\n",
       "mpl.figure.prototype._key_event_extra = function(event, name) {\n",
       "    var manager = IPython.notebook.keyboard_manager;\n",
       "    if (!manager)\n",
       "        manager = IPython.keyboard_manager;\n",
       "\n",
       "    // Check for shift+enter\n",
       "    if (event.shiftKey && event.which == 13) {\n",
       "        this.canvas_div.blur();\n",
       "        // select the cell after this one\n",
       "        var index = IPython.notebook.find_cell_index(this.cell_info[0]);\n",
       "        IPython.notebook.select(index + 1);\n",
       "    }\n",
       "}\n",
       "\n",
       "mpl.figure.prototype.handle_save = function(fig, msg) {\n",
       "    fig.ondownload(fig, null);\n",
       "}\n",
       "\n",
       "\n",
       "mpl.find_output_cell = function(html_output) {\n",
       "    // Return the cell and output element which can be found *uniquely* in the notebook.\n",
       "    // Note - this is a bit hacky, but it is done because the \"notebook_saving.Notebook\"\n",
       "    // IPython event is triggered only after the cells have been serialised, which for\n",
       "    // our purposes (turning an active figure into a static one), is too late.\n",
       "    var cells = IPython.notebook.get_cells();\n",
       "    var ncells = cells.length;\n",
       "    for (var i=0; i<ncells; i++) {\n",
       "        var cell = cells[i];\n",
       "        if (cell.cell_type === 'code'){\n",
       "            for (var j=0; j<cell.output_area.outputs.length; j++) {\n",
       "                var data = cell.output_area.outputs[j];\n",
       "                if (data.data) {\n",
       "                    // IPython >= 3 moved mimebundle to data attribute of output\n",
       "                    data = data.data;\n",
       "                }\n",
       "                if (data['text/html'] == html_output) {\n",
       "                    return [cell, data, j];\n",
       "                }\n",
       "            }\n",
       "        }\n",
       "    }\n",
       "}\n",
       "\n",
       "// Register the function which deals with the matplotlib target/channel.\n",
       "// The kernel may be null if the page has been refreshed.\n",
       "if (IPython.notebook.kernel != null) {\n",
       "    IPython.notebook.kernel.comm_manager.register_target('matplotlib', mpl.mpl_figure_comm);\n",
       "}\n"
      ],
      "text/plain": [
       "<IPython.core.display.Javascript object>"
      ]
     },
     "metadata": {},
     "output_type": "display_data"
    },
    {
     "data": {
      "text/html": [
       "<img src=\"data:image/png;base64,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\">"
      ],
      "text/plain": [
       "<IPython.core.display.HTML object>"
      ]
     },
     "metadata": {},
     "output_type": "display_data"
    },
    {
     "name": "stdout",
     "output_type": "stream",
     "text": [
      "0.203664\n",
      "0.203894\n"
     ]
    },
    {
     "data": {
      "image/jpeg": "[encoded data removed]",
      "text/plain": [
       "<IPython.core.display.Image object>"
      ]
     },
     "metadata": {},
     "output_type": "display_data"
    },
    {
     "data": {
      "image/jpeg": "[encoded data removed]",
      "text/plain": [
       "<IPython.core.display.Image object>"
      ]
     },
     "metadata": {},
     "output_type": "display_data"
    },
    {
     "name": "stdout",
     "output_type": "stream",
     "text": [
      "0.194653\n",
      "0.195705\n"
     ]
    },
    {
     "data": {
      "image/jpeg": "[encoded data removed]",
      "text/plain": [
       "<IPython.core.display.Image object>"
      ]
     },
     "metadata": {},
     "output_type": "display_data"
    },
    {
     "data": {
      "image/jpeg": "[encoded data removed]",
      "text/plain": [
       "<IPython.core.display.Image object>"
      ]
     },
     "metadata": {},
     "output_type": "display_data"
    },
    {
     "name": "stdout",
     "output_type": "stream",
     "text": [
      "0.18987\n",
      "0.189667\n"
     ]
    },
    {
     "data": {
      "image/jpeg": "[encoded data removed]",
      "text/plain": [
       "<IPython.core.display.Image object>"
      ]
     },
     "metadata": {},
     "output_type": "display_data"
    },
    {
     "data": {
      "image/jpeg": "[encoded data removed]",
      "text/plain": [
       "<IPython.core.display.Image object>"
      ]
     },
     "metadata": {},
     "output_type": "display_data"
    },
    {
     "name": "stdout",
     "output_type": "stream",
     "text": [
      "0.184573\n",
      "0.186192\n"
     ]
    },
    {
     "data": {
      "image/jpeg": "[encoded data removed]",
      "text/plain": [
       "<IPython.core.display.Image object>"
      ]
     },
     "metadata": {},
     "output_type": "display_data"
    },
    {
     "data": {
      "image/jpeg": "[encoded data removed]",
      "text/plain": [
       "<IPython.core.display.Image object>"
      ]
     },
     "metadata": {},
     "output_type": "display_data"
    },
    {
     "name": "stdout",
     "output_type": "stream",
     "text": [
      "0.182943\n",
      "0.183629\n"
     ]
    },
    {
     "data": {
      "image/jpeg": "[encoded data removed]",
      "text/plain": [
       "<IPython.core.display.Image object>"
      ]
     },
     "metadata": {},
     "output_type": "display_data"
    },
    {
     "data": {
      "image/jpeg": "[encoded data removed]",
      "text/plain": [
       "<IPython.core.display.Image object>"
      ]
     },
     "metadata": {},
     "output_type": "display_data"
    },
    {
     "name": "stdout",
     "output_type": "stream",
     "text": [
      "0.17917\n",
      "0.181709\n"
     ]
    },
    {
     "data": {
      "image/jpeg": "[encoded data removed]",
      "text/plain": [
       "<IPython.core.display.Image object>"
      ]
     },
     "metadata": {},
     "output_type": "display_data"
    },
    {
     "data": {
      "image/jpeg": "[encoded data removed]",
      "text/plain": [
       "<IPython.core.display.Image object>"
      ]
     },
     "metadata": {},
     "output_type": "display_data"
    },
    {
     "name": "stdout",
     "output_type": "stream",
     "text": [
      "0.178319\n",
      "0.180878\n"
     ]
    },
    {
     "data": {
      "image/jpeg": "[encoded data removed]",
      "text/plain": [
       "<IPython.core.display.Image object>"
      ]
     },
     "metadata": {},
     "output_type": "display_data"
    },
    {
     "data": {
      "image/jpeg": "[encoded data removed]",
      "text/plain": [
       "<IPython.core.display.Image object>"
      ]
     },
     "metadata": {},
     "output_type": "display_data"
    },
    {
     "name": "stdout",
     "output_type": "stream",
     "text": [
      "0.177958\n",
      "0.179911\n"
     ]
    },
    {
     "data": {
      "image/jpeg": "[encoded data removed]",
      "text/plain": [
       "<IPython.core.display.Image object>"
      ]
     },
     "metadata": {},
     "output_type": "display_data"
    },
    {
     "data": {
      "image/jpeg": "[encoded data removed]",
      "text/plain": [
       "<IPython.core.display.Image object>"
      ]
     },
     "metadata": {},
     "output_type": "display_data"
    },
    {
     "name": "stdout",
     "output_type": "stream",
     "text": [
      "0.175869\n",
      "0.179224\n"
     ]
    },
    {
     "data": {
      "image/jpeg": "[encoded data removed]",
      "text/plain": [
       "<IPython.core.display.Image object>"
      ]
     },
     "metadata": {},
     "output_type": "display_data"
    },
    {
     "data": {
      "image/jpeg": "[encoded data removed]",
      "text/plain": [
       "<IPython.core.display.Image object>"
      ]
     },
     "metadata": {},
     "output_type": "display_data"
    },
    {
     "name": "stdout",
     "output_type": "stream",
     "text": [
      "0.17467\n",
      "0.178318\n"
     ]
    },
    {
     "data": {
      "image/jpeg": "[encoded data removed]",
      "text/plain": [
       "<IPython.core.display.Image object>"
      ]
     },
     "metadata": {},
     "output_type": "display_data"
    },
    {
     "data": {
      "image/jpeg": "[encoded data removed]",
      "text/plain": [
       "<IPython.core.display.Image object>"
      ]
     },
     "metadata": {},
     "output_type": "display_data"
    },
    {
     "name": "stdout",
     "output_type": "stream",
     "text": [
      "0.173568\n",
      "0.17755\n"
     ]
    },
    {
     "data": {
      "image/jpeg": "[encoded data removed]",
      "text/plain": [
       "<IPython.core.display.Image object>"
      ]
     },
     "metadata": {},
     "output_type": "display_data"
    },
    {
     "data": {
      "image/jpeg": "[encoded data removed]",
      "text/plain": [
       "<IPython.core.display.Image object>"
      ]
     },
     "metadata": {},
     "output_type": "display_data"
    },
    {
     "name": "stdout",
     "output_type": "stream",
     "text": [
      "0.172789\n",
      "0.17709\n"
     ]
    },
    {
     "data": {
      "image/jpeg": "[encoded data removed]",
      "text/plain": [
       "<IPython.core.display.Image object>"
      ]
     },
     "metadata": {},
     "output_type": "display_data"
    },
    {
     "data": {
      "image/jpeg": "[encoded data removed]",
      "text/plain": [
       "<IPython.core.display.Image object>"
      ]
     },
     "metadata": {},
     "output_type": "display_data"
    },
    {
     "name": "stdout",
     "output_type": "stream",
     "text": [
      "0.173059\n",
      "0.177031\n"
     ]
    },
    {
     "data": {
      "image/jpeg": "[encoded data removed]",
      "text/plain": [
       "<IPython.core.display.Image object>"
      ]
     },
     "metadata": {},
     "output_type": "display_data"
    },
    {
     "data": {
      "image/jpeg": "[encoded data removed]",
      "text/plain": [
       "<IPython.core.display.Image object>"
      ]
     },
     "metadata": {},
     "output_type": "display_data"
    },
    {
     "name": "stdout",
     "output_type": "stream",
     "text": [
      "0.171764\n",
      "0.176357\n"
     ]
    },
    {
     "data": {
      "image/jpeg": "[encoded data removed]",
      "text/plain": [
       "<IPython.core.display.Image object>"
      ]
     },
     "metadata": {},
     "output_type": "display_data"
    },
    {
     "data": {
      "image/jpeg": "[encoded data removed]",
      "text/plain": [
       "<IPython.core.display.Image object>"
      ]
     },
     "metadata": {},
     "output_type": "display_data"
    },
    {
     "name": "stdout",
     "output_type": "stream",
     "text": [
      "0.170799\n",
      "0.176146\n"
     ]
    },
    {
     "data": {
      "image/jpeg": "[encoded data removed]",
      "text/plain": [
       "<IPython.core.display.Image object>"
      ]
     },
     "metadata": {},
     "output_type": "display_data"
    },
    {
     "data": {
      "image/jpeg": "[encoded data removed]",
      "text/plain": [
       "<IPython.core.display.Image object>"
      ]
     },
     "metadata": {},
     "output_type": "display_data"
    },
    {
     "name": "stdout",
     "output_type": "stream",
     "text": [
      "0.169988\n",
      "0.175862\n"
     ]
    },
    {
     "data": {
      "image/jpeg": "[encoded data removed]",
      "text/plain": [
       "<IPython.core.display.Image object>"
      ]
     },
     "metadata": {},
     "output_type": "display_data"
    },
    {
     "data": {
      "image/jpeg": "[encoded data removed]",
      "text/plain": [
       "<IPython.core.display.Image object>"
      ]
     },
     "metadata": {},
     "output_type": "display_data"
    },
    {
     "name": "stdout",
     "output_type": "stream",
     "text": [
      "0.17031\n",
      "0.17579\n"
     ]
    },
    {
     "data": {
      "image/jpeg": "[encoded data removed]",
      "text/plain": [
       "<IPython.core.display.Image object>"
      ]
     },
     "metadata": {},
     "output_type": "display_data"
    },
    {
     "data": {
      "image/jpeg": "[encoded data removed]",
      "text/plain": [
       "<IPython.core.display.Image object>"
      ]
     },
     "metadata": {},
     "output_type": "display_data"
    },
    {
     "name": "stdout",
     "output_type": "stream",
     "text": [
      "0.168244\n",
      "0.175027\n"
     ]
    },
    {
     "data": {
      "image/jpeg": "[encoded data removed]",
      "text/plain": [
       "<IPython.core.display.Image object>"
      ]
     },
     "metadata": {},
     "output_type": "display_data"
    },
    {
     "data": {
      "image/jpeg": "[encoded data removed]",
      "text/plain": [
       "<IPython.core.display.Image object>"
      ]
     },
     "metadata": {},
     "output_type": "display_data"
    },
    {
     "name": "stdout",
     "output_type": "stream",
     "text": [
      "0.169333\n",
      "0.175244\n"
     ]
    },
    {
     "data": {
      "image/jpeg": "[encoded data removed]",
      "text/plain": [
       "<IPython.core.display.Image object>"
      ]
     },
     "metadata": {},
     "output_type": "display_data"
    },
    {
     "data": {
      "image/jpeg": "[encoded data removed]",
      "text/plain": [
       "<IPython.core.display.Image object>"
      ]
     },
     "metadata": {},
     "output_type": "display_data"
    },
    {
     "name": "stdout",
     "output_type": "stream",
     "text": [
      "0.167168\n",
      "0.17536\n"
     ]
    },
    {
     "data": {
      "image/jpeg": "[encoded data removed]",
      "text/plain": [
       "<IPython.core.display.Image object>"
      ]
     },
     "metadata": {},
     "output_type": "display_data"
    },
    {
     "data": {
      "image/jpeg": "[encoded data removed]",
      "text/plain": [
       "<IPython.core.display.Image object>"
      ]
     },
     "metadata": {},
     "output_type": "display_data"
    },
    {
     "name": "stdout",
     "output_type": "stream",
     "text": [
      "0.168231\n",
      "0.175466\n"
     ]
    },
    {
     "data": {
      "image/jpeg": "[encoded data removed]",
      "text/plain": [
       "<IPython.core.display.Image object>"
      ]
     },
     "metadata": {},
     "output_type": "display_data"
    },
    {
     "data": {
      "image/jpeg": "[encoded data removed]",
      "text/plain": [
       "<IPython.core.display.Image object>"
      ]
     },
     "metadata": {},
     "output_type": "display_data"
    },
    {
     "name": "stdout",
     "output_type": "stream",
     "text": [
      "0.168608\n",
      "0.175378\n"
     ]
    },
    {
     "data": {
      "image/jpeg": "[encoded data removed]",
      "text/plain": [
       "<IPython.core.display.Image object>"
      ]
     },
     "metadata": {},
     "output_type": "display_data"
    },
    {
     "data": {
      "image/jpeg": "[encoded data removed]",
      "text/plain": [
       "<IPython.core.display.Image object>"
      ]
     },
     "metadata": {},
     "output_type": "display_data"
    },
    {
     "name": "stdout",
     "output_type": "stream",
     "text": [
      "0.167585\n",
      "0.175295\n"
     ]
    },
    {
     "data": {
      "image/jpeg": "[encoded data removed]",
      "text/plain": [
       "<IPython.core.display.Image object>"
      ]
     },
     "metadata": {},
     "output_type": "display_data"
    },
    {
     "data": {
      "image/jpeg": "[encoded data removed]",
      "text/plain": [
       "<IPython.core.display.Image object>"
      ]
     },
     "metadata": {},
     "output_type": "display_data"
    },
    {
     "name": "stdout",
     "output_type": "stream",
     "text": [
      "0.168363\n",
      "0.174967\n"
     ]
    },
    {
     "data": {
      "image/jpeg": "[encoded data removed]",
      "text/plain": [
       "<IPython.core.display.Image object>"
      ]
     },
     "metadata": {},
     "output_type": "display_data"
    },
    {
     "data": {
      "image/jpeg": "[encoded data removed]",
      "text/plain": [
       "<IPython.core.display.Image object>"
      ]
     },
     "metadata": {},
     "output_type": "display_data"
    },
    {
     "name": "stdout",
     "output_type": "stream",
     "text": [
      "0.166292\n",
      "0.174647\n"
     ]
    },
    {
     "data": {
      "image/jpeg": "[encoded data removed]",
      "text/plain": [
       "<IPython.core.display.Image object>"
      ]
     },
     "metadata": {},
     "output_type": "display_data"
    },
    {
     "data": {
      "image/jpeg": "[encoded data removed]",
      "text/plain": [
       "<IPython.core.display.Image object>"
      ]
     },
     "metadata": {},
     "output_type": "display_data"
    },
    {
     "name": "stdout",
     "output_type": "stream",
     "text": [
      "0.166673\n",
      "0.174812\n"
     ]
    },
    {
     "data": {
      "image/jpeg": "[encoded data removed]",
      "text/plain": [
       "<IPython.core.display.Image object>"
      ]
     },
     "metadata": {},
     "output_type": "display_data"
    },
    {
     "data": {
      "image/jpeg": "[encoded data removed]",
      "text/plain": [
       "<IPython.core.display.Image object>"
      ]
     },
     "metadata": {},
     "output_type": "display_data"
    },
    {
     "name": "stdout",
     "output_type": "stream",
     "text": [
      "0.166834\n",
      "0.175035\n"
     ]
    },
    {
     "data": {
      "image/jpeg": "[encoded data removed]",
      "text/plain": [
       "<IPython.core.display.Image object>"
      ]
     },
     "metadata": {},
     "output_type": "display_data"
    },
    {
     "data": {
      "image/jpeg": "[encoded data removed]",
      "text/plain": [
       "<IPython.core.display.Image object>"
      ]
     },
     "metadata": {},
     "output_type": "display_data"
    },
    {
     "name": "stdout",
     "output_type": "stream",
     "text": [
      "0.166784\n",
      "0.174892\n"
     ]
    },
    {
     "data": {
      "image/jpeg": "[encoded data removed]",
      "text/plain": [
       "<IPython.core.display.Image object>"
      ]
     },
     "metadata": {},
     "output_type": "display_data"
    },
    {
     "data": {
      "image/jpeg": "[encoded data removed]",
      "text/plain": [
       "<IPython.core.display.Image object>"
      ]
     },
     "metadata": {},
     "output_type": "display_data"
    },
    {
     "name": "stdout",
     "output_type": "stream",
     "text": [
      "0.165265\n",
      "0.174462\n"
     ]
    },
    {
     "data": {
      "image/jpeg": "[encoded data removed]",
      "text/plain": [
       "<IPython.core.display.Image object>"
      ]
     },
     "metadata": {},
     "output_type": "display_data"
    },
    {
     "data": {
      "image/jpeg": "[encoded data removed]",
      "text/plain": [
       "<IPython.core.display.Image object>"
      ]
     },
     "metadata": {},
     "output_type": "display_data"
    },
    {
     "name": "stdout",
     "output_type": "stream",
     "text": [
      "0.164905\n",
      "0.174338\n"
     ]
    },
    {
     "data": {
      "image/jpeg": "[encoded data removed]",
      "text/plain": [
       "<IPython.core.display.Image object>"
      ]
     },
     "metadata": {},
     "output_type": "display_data"
    },
    {
     "data": {
      "image/jpeg": "[encoded data removed]",
      "text/plain": [
       "<IPython.core.display.Image object>"
      ]
     },
     "metadata": {},
     "output_type": "display_data"
    },
    {
     "name": "stdout",
     "output_type": "stream",
     "text": [
      "0.165191\n",
      "0.174381\n"
     ]
    },
    {
     "data": {
      "image/jpeg": "[encoded data removed]",
      "text/plain": [
       "<IPython.core.display.Image object>"
      ]
     },
     "metadata": {},
     "output_type": "display_data"
    },
    {
     "data": {
      "image/jpeg": "[encoded data removed]",
      "text/plain": [
       "<IPython.core.display.Image object>"
      ]
     },
     "metadata": {},
     "output_type": "display_data"
    },
    {
     "name": "stdout",
     "output_type": "stream",
     "text": [
      "0.164814\n",
      "0.17447\n"
     ]
    },
    {
     "data": {
      "image/jpeg": "[encoded data removed]",
      "text/plain": [
       "<IPython.core.display.Image object>"
      ]
     },
     "metadata": {},
     "output_type": "display_data"
    },
    {
     "data": {
      "image/jpeg": "[encoded data removed]",
      "text/plain": [
       "<IPython.core.display.Image object>"
      ]
     },
     "metadata": {},
     "output_type": "display_data"
    },
    {
     "name": "stdout",
     "output_type": "stream",
     "text": [
      "0.165224\n",
      "0.174271\n"
     ]
    },
    {
     "data": {
      "image/jpeg": "[encoded data removed]",
      "text/plain": [
       "<IPython.core.display.Image object>"
      ]
     },
     "metadata": {},
     "output_type": "display_data"
    },
    {
     "data": {
      "image/jpeg": "[encoded data removed]",
      "text/plain": [
       "<IPython.core.display.Image object>"
      ]
     },
     "metadata": {},
     "output_type": "display_data"
    },
    {
     "name": "stdout",
     "output_type": "stream",
     "text": [
      "0.164877\n",
      "0.174642\n"
     ]
    },
    {
     "data": {
      "image/jpeg": "[encoded data removed]",
      "text/plain": [
       "<IPython.core.display.Image object>"
      ]
     },
     "metadata": {},
     "output_type": "display_data"
    },
    {
     "data": {
      "image/jpeg": "[encoded data removed]",
      "text/plain": [
       "<IPython.core.display.Image object>"
      ]
     },
     "metadata": {},
     "output_type": "display_data"
    },
    {
     "name": "stdout",
     "output_type": "stream",
     "text": [
      "0.165587\n",
      "0.174978\n"
     ]
    },
    {
     "data": {
      "image/jpeg": "[encoded data removed]",
      "text/plain": [
       "<IPython.core.display.Image object>"
      ]
     },
     "metadata": {},
     "output_type": "display_data"
    },
    {
     "data": {
      "image/jpeg": "[encoded data removed]",
      "text/plain": [
       "<IPython.core.display.Image object>"
      ]
     },
     "metadata": {},
     "output_type": "display_data"
    },
    {
     "name": "stdout",
     "output_type": "stream",
     "text": [
      "0.165295\n",
      "0.17439\n"
     ]
    },
    {
     "data": {
      "image/jpeg": "[encoded data removed]",
      "text/plain": [
       "<IPython.core.display.Image object>"
      ]
     },
     "metadata": {},
     "output_type": "display_data"
    },
    {
     "data": {
      "image/jpeg": "[encoded data removed]",
      "text/plain": [
       "<IPython.core.display.Image object>"
      ]
     },
     "metadata": {},
     "output_type": "display_data"
    },
    {
     "name": "stdout",
     "output_type": "stream",
     "text": [
      "0.164548\n",
      "0.174375\n"
     ]
    },
    {
     "data": {
      "image/jpeg": "[encoded data removed]",
      "text/plain": [
       "<IPython.core.display.Image object>"
      ]
     },
     "metadata": {},
     "output_type": "display_data"
    },
    {
     "data": {
      "image/jpeg": "[encoded data removed]",
      "text/plain": [
       "<IPython.core.display.Image object>"
      ]
     },
     "metadata": {},
     "output_type": "display_data"
    },
    {
     "name": "stdout",
     "output_type": "stream",
     "text": [
      "0.163643\n",
      "0.174494\n"
     ]
    },
    {
     "data": {
      "image/jpeg": "[encoded data removed]",
      "text/plain": [
       "<IPython.core.display.Image object>"
      ]
     },
     "metadata": {},
     "output_type": "display_data"
    },
    {
     "data": {
      "image/jpeg": "[encoded data removed]",
      "text/plain": [
       "<IPython.core.display.Image object>"
      ]
     },
     "metadata": {},
     "output_type": "display_data"
    },
    {
     "name": "stdout",
     "output_type": "stream",
     "text": [
      "0.163869\n",
      "0.174464\n"
     ]
    },
    {
     "data": {
      "image/jpeg": "[encoded data removed]",
      "text/plain": [
       "<IPython.core.display.Image object>"
      ]
     },
     "metadata": {},
     "output_type": "display_data"
    },
    {
     "data": {
      "image/jpeg": "[encoded data removed]",
      "text/plain": [
       "<IPython.core.display.Image object>"
      ]
     },
     "metadata": {},
     "output_type": "display_data"
    },
    {
     "name": "stdout",
     "output_type": "stream",
     "text": [
      "0.164178\n",
      "0.174584\n"
     ]
    },
    {
     "data": {
      "image/jpeg": "[encoded data removed]",
      "text/plain": [
       "<IPython.core.display.Image object>"
      ]
     },
     "metadata": {},
     "output_type": "display_data"
    },
    {
     "data": {
      "image/jpeg": "[encoded data removed]",
      "text/plain": [
       "<IPython.core.display.Image object>"
      ]
     },
     "metadata": {},
     "output_type": "display_data"
    },
    {
     "name": "stdout",
     "output_type": "stream",
     "text": [
      "0.164111\n",
      "0.174354\n"
     ]
    },
    {
     "data": {
      "image/jpeg": "[encoded data removed]",
      "text/plain": [
       "<IPython.core.display.Image object>"
      ]
     },
     "metadata": {},
     "output_type": "display_data"
    },
    {
     "data": {
      "image/jpeg": "[encoded data removed]",
      "text/plain": [
       "<IPython.core.display.Image object>"
      ]
     },
     "metadata": {},
     "output_type": "display_data"
    },
    {
     "name": "stdout",
     "output_type": "stream",
     "text": [
      "0.163954\n",
      "0.175093\n"
     ]
    },
    {
     "data": {
      "image/jpeg": "[encoded data removed]",
      "text/plain": [
       "<IPython.core.display.Image object>"
      ]
     },
     "metadata": {},
     "output_type": "display_data"
    },
    {
     "data": {
      "image/jpeg": "[encoded data removed]",
      "text/plain": [
       "<IPython.core.display.Image object>"
      ]
     },
     "metadata": {},
     "output_type": "display_data"
    },
    {
     "name": "stdout",
     "output_type": "stream",
     "text": [
      "0.163897\n",
      "0.174721\n"
     ]
    },
    {
     "data": {
      "image/jpeg": "[encoded data removed]",
      "text/plain": [
       "<IPython.core.display.Image object>"
      ]
     },
     "metadata": {},
     "output_type": "display_data"
    },
    {
     "data": {
      "image/jpeg": "[encoded data removed]",
      "text/plain": [
       "<IPython.core.display.Image object>"
      ]
     },
     "metadata": {},
     "output_type": "display_data"
    },
    {
     "name": "stdout",
     "output_type": "stream",
     "text": [
      "0.16407\n",
      "0.17485\n"
     ]
    },
    {
     "data": {
      "image/jpeg": "[encoded data removed]",
      "text/plain": [
       "<IPython.core.display.Image object>"
      ]
     },
     "metadata": {},
     "output_type": "display_data"
    },
    {
     "data": {
      "image/jpeg": "[encoded data removed]",
      "text/plain": [
       "<IPython.core.display.Image object>"
      ]
     },
     "metadata": {},
     "output_type": "display_data"
    },
    {
     "name": "stdout",
     "output_type": "stream",
     "text": [
      "0.163697\n",
      "0.174827\n"
     ]
    },
    {
     "data": {
      "image/jpeg": "[encoded data removed]",
      "text/plain": [
       "<IPython.core.display.Image object>"
      ]
     },
     "metadata": {},
     "output_type": "display_data"
    },
    {
     "data": {
      "image/jpeg": "[encoded data removed]",
      "text/plain": [
       "<IPython.core.display.Image object>"
      ]
     },
     "metadata": {},
     "output_type": "display_data"
    },
    {
     "name": "stdout",
     "output_type": "stream",
     "text": [
      "0.163409\n",
      "0.17497\n"
     ]
    },
    {
     "data": {
      "image/jpeg": "[encoded data removed]",
      "text/plain": [
       "<IPython.core.display.Image object>"
      ]
     },
     "metadata": {},
     "output_type": "display_data"
    },
    {
     "data": {
      "image/jpeg": "[encoded data removed]",
      "text/plain": [
       "<IPython.core.display.Image object>"
      ]
     },
     "metadata": {},
     "output_type": "display_data"
    },
    {
     "name": "stdout",
     "output_type": "stream",
     "text": [
      "0.162709\n",
      "0.17481\n"
     ]
    },
    {
     "data": {
      "image/jpeg": "[encoded data removed]",
      "text/plain": [
       "<IPython.core.display.Image object>"
      ]
     },
     "metadata": {},
     "output_type": "display_data"
    },
    {
     "data": {
      "image/jpeg": "[encoded data removed]",
      "text/plain": [
       "<IPython.core.display.Image object>"
      ]
     },
     "metadata": {},
     "output_type": "display_data"
    },
    {
     "name": "stdout",
     "output_type": "stream",
     "text": [
      "0.162796\n",
      "0.174642\n"
     ]
    },
    {
     "data": {
      "image/jpeg": "[encoded data removed]",
      "text/plain": [
       "<IPython.core.display.Image object>"
      ]
     },
     "metadata": {},
     "output_type": "display_data"
    },
    {
     "data": {
      "image/jpeg": "[encoded data removed]",
      "text/plain": [
       "<IPython.core.display.Image object>"
      ]
     },
     "metadata": {},
     "output_type": "display_data"
    },
    {
     "name": "stdout",
     "output_type": "stream",
     "text": [
      "0.163061\n",
      "0.174353\n"
     ]
    },
    {
     "data": {
      "image/jpeg": "[encoded data removed]",
      "text/plain": [
       "<IPython.core.display.Image object>"
      ]
     },
     "metadata": {},
     "output_type": "display_data"
    },
    {
     "data": {
      "image/jpeg": "[encoded data removed]",
      "text/plain": [
       "<IPython.core.display.Image object>"
      ]
     },
     "metadata": {},
     "output_type": "display_data"
    },
    {
     "name": "stdout",
     "output_type": "stream",
     "text": [
      "0.163411\n",
      "0.175092\n"
     ]
    },
    {
     "data": {
      "image/jpeg": "[encoded data removed]",
      "text/plain": [
       "<IPython.core.display.Image object>"
      ]
     },
     "metadata": {},
     "output_type": "display_data"
    },
    {
     "data": {
      "image/jpeg": "[encoded data removed]",
      "text/plain": [
       "<IPython.core.display.Image object>"
      ]
     },
     "metadata": {},
     "output_type": "display_data"
    }
   ],
   "source": [
    "batches_per_step=1000#60000//128 #About 1 epoch\n",
    "batches_per_eval=100\n",
    "n_steps=50\n",
    "#trainer_start.train(1000,learn_rate=1e-3)\n",
    "def make_plt():\n",
    "    %matplotlib notebook\n",
    "    global fig,ax,train_plot,test_plot#,eval_plot\n",
    "    fig,ax = plt.subplots(1,1)\n",
    "    train_plot=ax.plot([],[], label=\"training\")[0]\n",
    "    #eval_plot=ax.plot([],[], label=\"eval\")[0]\n",
    "    test_plot=ax.plot([],[], label=\"test\")[0]\n",
    "    ax.set_ylim(0,1)\n",
    "    plt.legend()\n",
    "    fig.canvas.draw()\n",
    "    time.sleep(.01)\n",
    "def update_plt():\n",
    "    x=[batches_per_step*i for i in range(len(trains))]\n",
    "    train_plot.set_xdata(x)\n",
    "    train_plot.set_ydata(trains)\n",
    "    test_plot.set_xdata(x)\n",
    "    test_plot.set_ydata(tests)\n",
    "    #eval_plot.set_xdata(x)\n",
    "    #eval_plot.set_ydata(evals)\n",
    "    ax.set_xlim(0,x[-1])\n",
    "    ax.set_ylim(0,tests[1]*1.1)\n",
    "    fig.canvas.draw()\n",
    "    #time.sleep(.01)\n",
    "if \"trains\" not in globals():\n",
    "    trains=[trainer.eval_loss(n=batches_per_eval)]\n",
    "    #evals=[trainer_eval.eval_loss(n=batches_per_eval)]\n",
    "    tests=[tester.eval_loss()]\n",
    "make_plt()\n",
    "for i in range(n_steps):\n",
    "    trainer.train(batches_per_step,learn_rate=1e-3)\n",
    "    trains.append(trainer.eval_loss(n=batches_per_eval)) \n",
    "    #evals.append(trainer_eval.eval_loss(n=batches_per_eval)) \n",
    "    tests.append(tester.eval_loss())\n",
    "    show(-sess.run(autoencoder)[0,:,:,0])\n",
    "    show(-autoencoder.generate()[0,:,:,0])\n",
    "    update_plt()"
   ]
  },
  {
   "cell_type": "code",
   "execution_count": 4,
   "metadata": {
    "collapsed": false
   },
   "outputs": [
    {
     "data": {
      "image/jpeg": "[encoded data removed]",
      "text/plain": [
       "<IPython.core.display.Image object>"
      ]
     },
     "metadata": {},
     "output_type": "display_data"
    }
   ],
   "source": [
    "p=10\n",
    "step=0.1\n",
    "x=[[step*n,step*m] for n in range(-p,p+1) for m in range(-p,p+1)]\n",
    "y=autoencoder.decode(x).reshape(2*p+1,2*p+1,28,28)\n",
    "show(-composite(y))"
   ]
  },
  {
   "cell_type": "code",
   "execution_count": null,
   "metadata": {
    "collapsed": false
   },
   "outputs": [],
   "source": []
  },
  {
   "cell_type": "code",
   "execution_count": null,
   "metadata": {
    "collapsed": false
   },
   "outputs": [],
   "source": []
  },
  {
   "cell_type": "code",
   "execution_count": null,
   "metadata": {
    "collapsed": false
   },
   "outputs": [],
   "source": []
  },
  {
   "cell_type": "code",
   "execution_count": null,
   "metadata": {
    "collapsed": true
   },
   "outputs": [],
   "source": []
  }
 ],
 "metadata": {
  "anaconda-cloud": {},
  "kernelspec": {
   "display_name": "Python [default]",
   "language": "python",
   "name": "python3"
  },
  "language_info": {
   "codemirror_mode": {
    "name": "ipython",
    "version": 3
   },
   "file_extension": ".py",
   "mimetype": "text/x-python",
   "name": "python",
   "nbconvert_exporter": "python",
   "pygments_lexer": "ipython3",
   "version": "3.5.2"
  }
 },
 "nbformat": 4,
 "nbformat_minor": 1
}
