{
 "cells": [
  {
   "cell_type": "markdown",
   "metadata": {},
   "source": [
    "# CIFAR-10 classifier from nnBuilder"
   ]
  },
  {
   "cell_type": "markdown",
   "metadata": {},
   "source": [
    "This is a simple implementation of a CIFAR-10 classifier using the nnBuilder framework. (Work in progress)"
   ]
  },
  {
   "cell_type": "code",
   "execution_count": 1,
   "metadata": {
    "collapsed": false,
    "scrolled": false
   },
   "outputs": [],
   "source": [
    "import tensorflow as tf\n",
    "import numpy as np\n",
    "import sys\n",
    "sys.path.append('../nnBuilder')\n",
    "from nnLayer import *\n",
    "from nnInput import *\n",
    "from nnTrainer import *\n",
    "from nnHandler import *\n",
    "from _nnUtils import *"
   ]
  },
  {
   "cell_type": "code",
   "execution_count": 2,
   "metadata": {
    "collapsed": false
   },
   "outputs": [
    {
     "name": "stdout",
     "output_type": "stream",
     "text": [
      "Starting new session\n"
     ]
    },
    {
     "data": {
      "text/plain": [
       "<tensorflow.python.client.session.InteractiveSession at 0xc4808d0>"
      ]
     },
     "execution_count": 2,
     "metadata": {},
     "output_type": "execute_result"
    }
   ],
   "source": [
    "data=Layer(x=None,type=\"CIFAR_10\")\n",
    "batch=Layer(x=data,type=\"Batch_Slice\",batch=128)\n",
    "layers=[]\n",
    "layers.append(dict(type=\"Convolution\",pad=\"SAME\",window=5,stride=1,size=64,relu=True))\n",
    "layers.append(dict(type=\"Pool\",pad=\"SAME\",window=3,stride=2,pool_type=\"max\"))\n",
    "layers.append(dict(type=\"Convolution\",pad=\"SAME\",window=5,stride=1,size=64,relu=True))\n",
    "layers.append(dict(type=\"Pool\",pad=\"SAME\",window=3,stride=2,pool_type=\"max\"))\n",
    "layers.append(dict(type=\"Relu\",size=384))\n",
    "layers.append(dict(type=\"Relu\",size=192))\n",
    "layers.append(dict(type=\"Linear\",size=10,features=[\"Dropout\"]))\n",
    "network=Layer(type=\"Network\",x=batch,layers=layers)\n",
    "trainer=ClassifierTrainer(network=network,optimizer=\"adam\",finish=True)\n",
    "sess=SessManager(data,batch,network,trainer)#,input_network)\n",
    "sess.start()"
   ]
  },
  {
   "cell_type": "code",
   "execution_count": 3,
   "metadata": {
    "collapsed": false
   },
   "outputs": [
    {
     "name": "stdout",
     "output_type": "stream",
     "text": [
      "Error rate: 0.889063\n",
      "Error rate: 0.694531\n",
      "Error rate: 0.632813\n",
      "Error rate: 0.628125\n",
      "Error rate: 0.603125\n",
      "Error rate: 0.594531\n",
      "Error rate: 0.590625\n",
      "Error rate: 0.550781\n",
      "Error rate: 0.54375\n",
      "Error rate: 0.528125\n",
      "Error rate: 0.507813\n",
      "Error rate: 0.477344\n",
      "Error rate: 0.457031\n",
      "Error rate: 0.4125\n",
      "Error rate: 0.397656\n",
      "Error rate: 0.363281\n",
      "Error rate: 0.2875\n",
      "Error rate: 0.335938\n",
      "Error rate: 0.285156\n",
      "Error rate: 0.249219\n",
      "Error rate: 0.186719\n",
      "Error rate: 0.217187\n",
      "Error rate: 0.23125\n",
      "Error rate: 0.153906\n",
      "Error rate: 0.103906\n",
      "Error rate: 0.223438\n",
      "Error rate: 0.14375\n",
      "Error rate: 0.121875\n",
      "Error rate: 0.191406\n",
      "Error rate: 0.141406\n",
      "Error rate: 0.0742188\n",
      "Error rate: 0.05625\n",
      "Error rate: 0.059375\n",
      "Error rate: 0.0859375\n",
      "Error rate: 0.0390625\n",
      "Error rate: 0.0484375\n",
      "Error rate: 0.046875\n",
      "Error rate: 0.0554687\n",
      "Error rate: 0.065625\n",
      "Error rate: 0.0429688\n",
      "Error rate: 0.0578125\n",
      "Error rate: 0.0320312\n",
      "Error rate: 0.0398437\n",
      "Error rate: 0.05\n",
      "Error rate: 0.03125\n",
      "Error rate: 0.0367187\n",
      "Error rate: 0.0273438\n",
      "Error rate: 0.0257812\n",
      "Error rate: 0.0289063\n",
      "Error rate: 0.0226563\n",
      "Error rate: 0.01875\n"
     ]
    }
   ],
   "source": [
    "trainer.train(0,keep_rate=1.)\n",
    "trainer.eval_error()\n",
    "for i in range(50):\n",
    "    trainer.train(1000,keep_rate=1.)\n",
    "    trainer.train(0,keep_rate=1.)\n",
    "    trainer.eval_error() #Training error"
   ]
  },
  {
   "cell_type": "code",
   "execution_count": null,
   "metadata": {
    "collapsed": true
   },
   "outputs": [],
   "source": [
    "network.save() #The full network definition"
   ]
  }
 ],
 "metadata": {
  "anaconda-cloud": {},
  "kernelspec": {
   "display_name": "Python [conda root]",
   "language": "python",
   "name": "conda-root-py"
  },
  "language_info": {
   "codemirror_mode": {
    "name": "ipython",
    "version": 3
   },
   "file_extension": ".py",
   "mimetype": "text/x-python",
   "name": "python",
   "nbconvert_exporter": "python",
   "pygments_lexer": "ipython3",
   "version": "3.5.2"
  }
 },
 "nbformat": 4,
 "nbformat_minor": 1
}
