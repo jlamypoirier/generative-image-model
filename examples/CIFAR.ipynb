{
 "cells": [
  {
   "cell_type": "markdown",
   "metadata": {},
   "source": [
    "# CIFAR-10 classifier from nnBuilder"
   ]
  },
  {
   "cell_type": "markdown",
   "metadata": {},
   "source": [
    "This is a simple implementation of a CIFAR-10 classifier using the nnBuilder framework. Trying to reproduce the network of https://www.tensorflow.org/tutorials/deep_cnn/ (Work in progress)"
   ]
  },
  {
   "cell_type": "code",
   "execution_count": 1,
   "metadata": {
    "collapsed": false,
    "scrolled": false
   },
   "outputs": [],
   "source": [
    "import tensorflow as tf\n",
    "import numpy as np\n",
    "import sys\n",
    "sys.path.append('../nnBuilder')\n",
    "from nnLayer import *\n",
    "from nnInput import *\n",
    "from nnTrainer import *\n",
    "from nnHandler import *\n",
    "from _nnUtils import *"
   ]
  },
  {
   "cell_type": "code",
   "execution_count": 2,
   "metadata": {
    "collapsed": false
   },
   "outputs": [
    {
     "name": "stdout",
     "output_type": "stream",
     "text": [
      "Starting new session\n"
     ]
    },
    {
     "data": {
      "text/plain": [
       "<tensorflow.python.client.session.InteractiveSession at 0xc8d0b70>"
      ]
     },
     "execution_count": 2,
     "metadata": {},
     "output_type": "execute_result"
    }
   ],
   "source": [
    "data=Layer(x=None,type=\"CIFAR_10\")\n",
    "preprocess_layers=[]\n",
    "preprocess_layers.append(dict(type=\"Batch_Random_Crop\",shape=[24,24,3]))\n",
    "preprocess_layers.append(dict(type=\"Batch_Random_Horizontal_Flip\"))\n",
    "preprocess_layers.append(dict(type=\"Batch_Random_Brightness\"))\n",
    "preprocess_layers.append(dict(type=\"Batch_Random_Contrast\"))\n",
    "preprocess_layers.append(dict(type=\"Batch_Whitening\"))\n",
    "batch=Layer(x=data,type=\"Batch_Slice\",batch=128,out_features=None)#=preprocess_layers)#Need Input pipeline, too slow\n",
    "layers=[]\n",
    "layers.append(dict(type=\"Convolution\",pad=\"SAME\",window=5,stride=1,size=64,relu=True,out_features=[\n",
    "              dict(type=\"Pool\",pad=\"SAME\",window=3,stride=2,pool_type=\"max\"),\n",
    "              dict(type=\"Local_Response_Norm\")]))\n",
    "layers.append(dict(type=\"Convolution\",pad=\"SAME\",window=5,stride=1,size=64,relu=True,out_features=[\n",
    "              dict(type=\"Pool\",pad=\"SAME\",window=3,stride=2,pool_type=\"max\"),\n",
    "              dict(type=\"Local_Response_Norm\")]))\n",
    "layers.append(dict(type=\"Relu\",size=384))\n",
    "layers.append(dict(type=\"Relu\",size=192))\n",
    "layers.append(dict(type=\"Linear\",size=10,in_features=[\"Dropout\"]))\n",
    "network_def=dict(type=\"Network\",layers=layers)\n",
    "network=Layer(x=batch,**network_def)\n",
    "trainer=ClassifierTrainer(network=network,optimizer=\"adam\",finish=True)\n",
    "sess=SessManager(data,batch,network,trainer)#,input_network)\n",
    "sess.start()"
   ]
  },
  {
   "cell_type": "code",
   "execution_count": 3,
   "metadata": {
    "collapsed": false
   },
   "outputs": [
    {
     "name": "stdout",
     "output_type": "stream",
     "text": [
      "Error rate: 0.896875\n",
      "Error rate: 0.622656\n",
      "Error rate: 0.515625\n",
      "Error rate: 0.510938\n",
      "Error rate: 0.438281\n",
      "Error rate: 0.442969\n",
      "Error rate: 0.426562\n",
      "Error rate: 0.360156\n",
      "Error rate: 0.399219\n",
      "Error rate: 0.403125\n",
      "Error rate: 0.367188\n"
     ]
    }
   ],
   "source": [
    "trainer.train(0,keep_rate=1.)\n",
    "trainer.eval_error()\n",
    "for i in range(10):\n",
    "    trainer.train(100,keep_rate=1.)\n",
    "    trainer.train(0,keep_rate=1.)\n",
    "    trainer.eval_error() #Training error, reaches about 10%"
   ]
  },
  {
   "cell_type": "code",
   "execution_count": 1,
   "metadata": {
    "collapsed": false
   },
   "outputs": [
    {
     "ename": "NameError",
     "evalue": "name 'network' is not defined",
     "output_type": "error",
     "traceback": [
      "\u001b[0;31m---------------------------------------------------------------------------\u001b[0m",
      "\u001b[0;31mNameError\u001b[0m                                 Traceback (most recent call last)",
      "\u001b[0;32m<ipython-input-1-6e99c4436bd0>\u001b[0m in \u001b[0;36m<module>\u001b[0;34m()\u001b[0m\n\u001b[0;32m----> 1\u001b[0;31m \u001b[0mnetwork\u001b[0m\u001b[1;33m.\u001b[0m\u001b[0msave\u001b[0m\u001b[1;33m(\u001b[0m\u001b[1;33m)\u001b[0m \u001b[1;31m#The full network definition\u001b[0m\u001b[1;33m\u001b[0m\u001b[0m\n\u001b[0m\u001b[1;32m      2\u001b[0m \u001b[0msave\u001b[0m\u001b[1;33m=\u001b[0m\u001b[0mnetwork\u001b[0m\u001b[1;33m.\u001b[0m\u001b[0msave\u001b[0m\u001b[1;33m(\u001b[0m\u001b[1;33m)\u001b[0m \u001b[1;31m#The full network definition\u001b[0m\u001b[1;33m\u001b[0m\u001b[0m\n\u001b[1;32m      3\u001b[0m \u001b[1;32massert\u001b[0m\u001b[1;33m(\u001b[0m\u001b[0mLayer\u001b[0m\u001b[1;33m(\u001b[0m\u001b[0mx\u001b[0m\u001b[1;33m=\u001b[0m\u001b[0mbatch\u001b[0m\u001b[1;33m,\u001b[0m\u001b[1;33m**\u001b[0m\u001b[0msave\u001b[0m\u001b[1;33m)\u001b[0m\u001b[1;33m.\u001b[0m\u001b[0msave\u001b[0m\u001b[1;33m(\u001b[0m\u001b[1;33m)\u001b[0m\u001b[1;33m==\u001b[0m\u001b[0msave\u001b[0m\u001b[1;33m)\u001b[0m \u001b[1;31m#Consistency\u001b[0m\u001b[1;33m\u001b[0m\u001b[0m\n\u001b[1;32m      4\u001b[0m \u001b[0mprint\u001b[0m\u001b[1;33m(\u001b[0m\u001b[0msave\u001b[0m\u001b[1;33m==\u001b[0m\u001b[0mnetwork_def\u001b[0m\u001b[1;33m)\u001b[0m \u001b[1;31m#Saving adds stuff, should still be equivalent\u001b[0m\u001b[1;33m\u001b[0m\u001b[0m\n\u001b[1;32m      5\u001b[0m \u001b[0msave\u001b[0m\u001b[1;33m\u001b[0m\u001b[0m\n",
      "\u001b[0;31mNameError\u001b[0m: name 'network' is not defined"
     ]
    }
   ],
   "source": [
    "network.save() #The full network definition\n",
    "save=network.save() #The full network definition\n",
    "assert(Layer(x=batch,**save).save()==save) #Consistency\n",
    "print(save==network_def) #Saving adds stuff, should still be equivalent\n",
    "save"
   ]
  },
  {
   "cell_type": "code",
   "execution_count": 3,
   "metadata": {
    "collapsed": false
   },
   "outputs": [
    {
     "data": {
      "text/plain": [
       "2"
      ]
     },
     "execution_count": 3,
     "metadata": {},
     "output_type": "execute_result"
    }
   ],
   "source": [
    "4//2"
   ]
  },
  {
   "cell_type": "code",
   "execution_count": null,
   "metadata": {
    "collapsed": true
   },
   "outputs": [],
   "source": []
  }
 ],
 "metadata": {
  "anaconda-cloud": {},
  "kernelspec": {
   "display_name": "Python [conda root]",
   "language": "python",
   "name": "conda-root-py"
  },
  "language_info": {
   "codemirror_mode": {
    "name": "ipython",
    "version": 3
   },
   "file_extension": ".py",
   "mimetype": "text/x-python",
   "name": "python",
   "nbconvert_exporter": "python",
   "pygments_lexer": "ipython3",
   "version": "3.5.2"
  }
 },
 "nbformat": 4,
 "nbformat_minor": 1
}
