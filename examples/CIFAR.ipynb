{
 "cells": [
  {
   "cell_type": "markdown",
   "metadata": {},
   "source": [
    "# CIFAR-10 classifier from nnBuilder"
   ]
  },
  {
   "cell_type": "markdown",
   "metadata": {},
   "source": [
    "This is a simple implementation of a CIFAR-10 classifier using the nnBuilder framework. Trying to reproduce the network of https://www.tensorflow.org/tutorials/deep_cnn/ (Work in progress)"
   ]
  },
  {
   "cell_type": "code",
   "execution_count": 1,
   "metadata": {
    "collapsed": false,
    "scrolled": false
   },
   "outputs": [],
   "source": [
    "import tensorflow as tf\n",
    "import numpy as np\n",
    "import sys\n",
    "sys.path.append('../nnBuilder')\n",
    "from nnLayer import *\n",
    "from nnInput import *\n",
    "from nnTrainer import *\n",
    "from nnHandler import *\n",
    "from _nnUtils import *"
   ]
  },
  {
   "cell_type": "code",
   "execution_count": 2,
   "metadata": {
    "collapsed": false
   },
   "outputs": [
    {
     "name": "stdout",
     "output_type": "stream",
     "text": [
      "Starting new session\n"
     ]
    },
    {
     "data": {
      "text/plain": [
       "<tensorflow.python.client.session.InteractiveSession at 0xd01eef0>"
      ]
     },
     "execution_count": 2,
     "metadata": {},
     "output_type": "execute_result"
    }
   ],
   "source": [
    "data=Layer(x=None,type=\"CIFAR_10\")\n",
    "batch=Layer(x=data,type=\"Batch_Slice\",batch=128)\n",
    "layers=[]\n",
    "layers.append(dict(type=\"Convolution\",pad=\"SAME\",window=5,stride=1,size=64,relu=True))\n",
    "layers.append(dict(type=\"Pool\",pad=\"SAME\",window=3,stride=2,pool_type=\"max\"))\n",
    "layers.append(dict(type=\"Convolution\",pad=\"SAME\",window=5,stride=1,size=64,relu=True))\n",
    "layers.append(dict(type=\"Pool\",pad=\"SAME\",window=3,stride=2,pool_type=\"max\"))\n",
    "layers.append(dict(type=\"Relu\",size=384))\n",
    "layers.append(dict(type=\"Relu\",size=192))\n",
    "layers.append(dict(type=\"Linear\",size=10,in_features=[\"Dropout\"]))\n",
    "network_def=dict(type=\"Network\",layers=layers)\n",
    "network=Layer(x=batch,**network_def)\n",
    "trainer=ClassifierTrainer(network=network,optimizer=\"adam\",finish=True)\n",
    "sess=SessManager(data,batch,network,trainer)#,input_network)\n",
    "sess.start()"
   ]
  },
  {
   "cell_type": "code",
   "execution_count": 3,
   "metadata": {
    "collapsed": false
   },
   "outputs": [
    {
     "name": "stdout",
     "output_type": "stream",
     "text": [
      "Error rate: 0.891406\n",
      "Error rate: 0.902344\n"
     ]
    }
   ],
   "source": [
    "trainer.train(0,keep_rate=1.)\n",
    "trainer.eval_error()\n",
    "for i in range(1):\n",
    "    trainer.train(1000,keep_rate=1.)\n",
    "    trainer.train(0,keep_rate=1.)\n",
    "    trainer.eval_error() #Training error, reaches about 10%"
   ]
  },
  {
   "cell_type": "code",
   "execution_count": 4,
   "metadata": {
    "collapsed": false
   },
   "outputs": [
    {
     "name": "stdout",
     "output_type": "stream",
     "text": [
      "False\n"
     ]
    },
    {
     "data": {
      "text/plain": [
       "{'layers': [{'input_channels': None,\n",
       "   'pad': 'SAME',\n",
       "   'rand_scale': 0.1,\n",
       "   'relu': True,\n",
       "   'size': 64,\n",
       "   'stride': 1,\n",
       "   'type': 'Convolution',\n",
       "   'window': 5},\n",
       "  {'pad': 'SAME',\n",
       "   'pool_type': 'max',\n",
       "   'stride': 2,\n",
       "   'type': 'Pool',\n",
       "   'window': 3},\n",
       "  {'input_channels': None,\n",
       "   'pad': 'SAME',\n",
       "   'rand_scale': 0.1,\n",
       "   'relu': True,\n",
       "   'size': 64,\n",
       "   'stride': 1,\n",
       "   'type': 'Convolution',\n",
       "   'window': 5},\n",
       "  {'pad': 'SAME',\n",
       "   'pool_type': 'max',\n",
       "   'stride': 2,\n",
       "   'type': 'Pool',\n",
       "   'window': 3},\n",
       "  {'rand_scale': 0.1, 'size': 384, 'type': 'Relu'},\n",
       "  {'rand_scale': 0.1, 'size': 192, 'type': 'Relu'},\n",
       "  {'in_features': [{'type': 'Dropout'}],\n",
       "   'rand_scale': 0.1,\n",
       "   'size': 10,\n",
       "   'type': 'Linear'}],\n",
       " 'type': 'Network'}"
      ]
     },
     "execution_count": 4,
     "metadata": {},
     "output_type": "execute_result"
    }
   ],
   "source": [
    "save=network.save() #The full network definition\n",
    "assert(Layer(x=batch,**save).save()==save) #Consistency\n",
    "print(save==network_def) #Saving adds stuff, should still be equivalent\n",
    "save"
   ]
  },
  {
   "cell_type": "code",
   "execution_count": null,
   "metadata": {
    "collapsed": true
   },
   "outputs": [],
   "source": []
  }
 ],
 "metadata": {
  "anaconda-cloud": {},
  "kernelspec": {
   "display_name": "Python [conda root]",
   "language": "python",
   "name": "conda-root-py"
  },
  "language_info": {
   "codemirror_mode": {
    "name": "ipython",
    "version": 3
   },
   "file_extension": ".py",
   "mimetype": "text/x-python",
   "name": "python",
   "nbconvert_exporter": "python",
   "pygments_lexer": "ipython3",
   "version": "3.5.2"
  }
 },
 "nbformat": 4,
 "nbformat_minor": 1
}
