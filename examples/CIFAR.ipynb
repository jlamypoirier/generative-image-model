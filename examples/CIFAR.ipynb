{
 "cells": [
  {
   "cell_type": "markdown",
   "metadata": {},
   "source": [
    "# CIFAR-10 classifier from nnBuilder"
   ]
  },
  {
   "cell_type": "markdown",
   "metadata": {},
   "source": [
    "This is a simple implementation of a CIFAR-10 classifier using the nnBuilder framework. (Work in progress)"
   ]
  },
  {
   "cell_type": "code",
   "execution_count": 1,
   "metadata": {
    "collapsed": false,
    "scrolled": false
   },
   "outputs": [],
   "source": [
    "import tensorflow as tf\n",
    "import numpy as np\n",
    "import sys\n",
    "sys.path.append('../nnBuilder')\n",
    "from nnLayer import *\n",
    "from nnInput import *\n",
    "from nnTrainer import *\n",
    "from nnHandler import *\n",
    "from _nnUtils import *"
   ]
  },
  {
   "cell_type": "code",
   "execution_count": null,
   "metadata": {
    "collapsed": false
   },
   "outputs": [
    {
     "name": "stdout",
     "output_type": "stream",
     "text": [
      "Starting new session\n"
     ]
    },
    {
     "data": {
      "text/plain": [
       "<tensorflow.python.client.session.InteractiveSession at 0xc2c0908>"
      ]
     },
     "execution_count": 2,
     "metadata": {},
     "output_type": "execute_result"
    }
   ],
   "source": [
    "data=Layer(x=None,type=\"CIFAR_10\")\n",
    "batch=Layer(x=data,type=\"Batch_Slice\",batch=128)\n",
    "layers=[]\n",
    "layers.append({\"type\":\"Convolution\",\"pad\":\"SAME\",\"window\":5,\"stride\":1,\"size\":64,\"relu\":True})\n",
    "layers.append({\"type\":\"Pool\",\"pad\":\"SAME\",\"window\":3,\"stride\":2,\"pool_type\":\"max\"})\n",
    "layers.append({\"type\":\"Convolution\",\"pad\":\"SAME\",\"window\":5,\"stride\":1,\"size\":64,\"relu\":True})\n",
    "layers.append({\"type\":\"Pool\",\"pad\":\"SAME\",\"window\":3,\"stride\":2,\"pool_type\":\"max\"})\n",
    "layers.append({\"type\":\"Relu\",\"size\":384})\n",
    "layers.append({\"type\":\"Relu\",\"size\":192})\n",
    "layers.append({\"type\":\"Linear\",\"size\":10,\"dropout\":True})\n",
    "network=Layer(type=\"Network\",x=batch,layers=layers)\n",
    "trainer=ClassifierTrainer(network=network,optimizer=\"adam\",finish=True)\n",
    "sess=SessManager(data,batch,network,trainer)#,input_network)\n",
    "sess.start()"
   ]
  },
  {
   "cell_type": "code",
   "execution_count": null,
   "metadata": {
    "collapsed": false
   },
   "outputs": [
    {
     "name": "stdout",
     "output_type": "stream",
     "text": [
      "Error rate: 0.899219\n"
     ]
    }
   ],
   "source": [
    "trainer.train(0,keep_rate=1.)\n",
    "trainer.eval_error()\n",
    "for i in range(20):\n",
    "    trainer.train(1000,keep_rate=1.)\n",
    "    trainer.train(0,keep_rate=1.)\n",
    "    trainer.eval_error() #Training error"
   ]
  },
  {
   "cell_type": "code",
   "execution_count": null,
   "metadata": {
    "collapsed": true
   },
   "outputs": [],
   "source": []
  }
 ],
 "metadata": {
  "anaconda-cloud": {},
  "kernelspec": {
   "display_name": "Python [conda root]",
   "language": "python",
   "name": "conda-root-py"
  },
  "language_info": {
   "codemirror_mode": {
    "name": "ipython",
    "version": 3
   },
   "file_extension": ".py",
   "mimetype": "text/x-python",
   "name": "python",
   "nbconvert_exporter": "python",
   "pygments_lexer": "ipython3",
   "version": "3.5.2"
  }
 },
 "nbformat": 4,
 "nbformat_minor": 1
}
