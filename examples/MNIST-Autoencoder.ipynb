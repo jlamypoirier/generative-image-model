{
 "cells": [
  {
   "cell_type": "markdown",
   "metadata": {},
   "source": [
    "# MNIST autoencoder from nnBuilder"
   ]
  },
  {
   "cell_type": "markdown",
   "metadata": {},
   "source": [
    "A basic convolutional autoencoder for MNIST"
   ]
  },
  {
   "cell_type": "code",
   "execution_count": 1,
   "metadata": {
    "collapsed": false
   },
   "outputs": [],
   "source": [
    "import numpy as np\n",
    "import tensorflow as tf\n",
    "import sys, os, seaborn, time\n",
    "import matplotlib.pyplot as plt\n",
    "sys.path.append('../nnBuilder')\n",
    "from nnLayer import *\n",
    "from nnInput import *\n",
    "from nnTrainer import *\n",
    "from nnHandler import *"
   ]
  },
  {
   "cell_type": "code",
   "execution_count": 2,
   "metadata": {
    "collapsed": false
   },
   "outputs": [
    {
     "name": "stdout",
     "output_type": "stream",
     "text": [
      "Extracting /tmp/tensorflow/mnist/input_data\\train-images-idx3-ubyte.gz\n",
      "Extracting /tmp/tensorflow/mnist/input_data\\train-labels-idx1-ubyte.gz\n",
      "Extracting /tmp/tensorflow/mnist/input_data\\t10k-images-idx3-ubyte.gz\n",
      "Extracting /tmp/tensorflow/mnist/input_data\\t10k-labels-idx1-ubyte.gz\n",
      "Extracting /tmp/tensorflow/mnist/input_data\\train-images-idx3-ubyte.gz\n",
      "Extracting /tmp/tensorflow/mnist/input_data\\train-labels-idx1-ubyte.gz\n",
      "Extracting /tmp/tensorflow/mnist/input_data\\t10k-images-idx3-ubyte.gz\n",
      "Extracting /tmp/tensorflow/mnist/input_data\\t10k-labels-idx1-ubyte.gz\n",
      "Starting new session\n"
     ]
    },
    {
     "data": {
      "text/plain": [
       "<tensorflow.python.client.session.InteractiveSession at 0xec9b780>"
      ]
     },
     "execution_count": 2,
     "metadata": {},
     "output_type": "execute_result"
    }
   ],
   "source": [
    "data=Layer(type=\"MNIST\",batch=128)\n",
    "data_test=Layer(type=\"MNIST\",test=True)\n",
    "layers=[]\n",
    "layers.append(dict(type=\"Identity_Label\"))\n",
    "layers.append(dict(type=\"Convolution\",pad=\"SAME\",window=5,stride=1,size=16,relu=True))\n",
    "layers.append(dict(type=\"Pool\",pad=\"SAME\",window=2,stride=2,pool_type=\"max\"))\n",
    "layers.append(dict(type=\"Convolution\",pad=\"SAME\",window=5,stride=1,size=16,relu=True))\n",
    "layers.append(dict(type=\"Pool\",pad=\"SAME\",window=2,stride=2,pool_type=\"max\"))\n",
    "layers.append(dict(type=\"Relu\",size=32))\n",
    "layers.append(dict(type=\"Relu\",size=49))\n",
    "layers.append(dict(type=\"Reshape\",shape=[-1,7,7,1]))\n",
    "layers.append(dict(type=\"Convolution_Transpose\",pad=\"SAME\",window=5,stride=2,size=16,relu=True))\n",
    "layers.append(dict(type=\"Convolution_Transpose\",pad=\"SAME\",window=5,stride=2,size=1,relu=False))\n",
    "layers.append(dict(type=\"Sigmoid_Feature\"))\n",
    "\n",
    "network_def=dict(type=\"Network\",layers=layers)\n",
    "network=Layer(x=data,**network_def)\n",
    "network_test=network.copy(x=data_test,share_vars=True)\n",
    "trainer=LabeledTrainer(network=network,optimizer=\"adam\",loss=\"mean_squared_error\")\n",
    "tester=LabeledTrainer(network=network_test,loss=\"mean_squared_error\",test=True)\n",
    "sess=SessManager(data,network,trainer,data_test,network_test,tester)\n",
    "sess.start()"
   ]
  },
  {
   "cell_type": "code",
   "execution_count": 27,
   "metadata": {
    "collapsed": false
   },
   "outputs": [
    {
     "name": "stdout",
     "output_type": "stream",
     "text": [
      "0.0114598\n",
      "0.0112391\n",
      "0.0115469\n",
      "0.0112636\n",
      "0.0114515\n",
      "0.0112258\n",
      "0.0114671\n",
      "0.0111814\n",
      "0.011492\n",
      "0.0112381\n",
      "0.0113821\n",
      "0.0110905\n",
      "0.0112577\n",
      "0.010993\n",
      "0.011213\n",
      "0.0110247\n",
      "0.0112574\n",
      "0.010944\n",
      "0.011426\n",
      "0.0111261\n",
      "0.011282\n",
      "0.0110204\n",
      "0.0112329\n",
      "0.0109011\n",
      "0.0112609\n",
      "0.010998\n",
      "0.0111268\n",
      "0.0108225\n",
      "0.0111126\n",
      "0.0109105\n",
      "0.0111161\n",
      "0.0108261\n",
      "0.0111414\n",
      "0.0108772\n",
      "0.0111963\n",
      "0.0109481\n",
      "0.0113838\n",
      "0.0110879\n",
      "0.0109961\n",
      "0.0106937\n",
      "0.010894\n",
      "0.0106717\n",
      "0.0110158\n",
      "0.0106896\n",
      "0.0111739\n",
      "0.0108857\n",
      "0.0110011\n",
      "0.0106999\n",
      "0.0107583\n",
      "0.0105865\n",
      "0.0110379\n",
      "0.0106785\n",
      "0.0109002\n",
      "0.0105697\n",
      "0.0111585\n",
      "0.010904\n",
      "0.010828\n",
      "0.0105499\n",
      "0.0107676\n",
      "0.0105418\n",
      "0.0108295\n",
      "0.010543\n",
      "0.0107008\n",
      "0.0104993\n",
      "0.0106863\n",
      "0.0104796\n",
      "0.010807\n",
      "0.0106423\n",
      "0.0107162\n",
      "0.0104656\n",
      "0.0107956\n",
      "0.0105662\n",
      "0.0112901\n",
      "0.0110172\n",
      "0.0107469\n",
      "0.0105086\n",
      "0.0106678\n",
      "0.0104392\n",
      "0.0106701\n",
      "0.0104085\n",
      "0.0108295\n",
      "0.0105339\n",
      "0.0106418\n",
      "0.0103904\n",
      "0.0106018\n",
      "0.0103839\n",
      "0.0106356\n",
      "0.0103277\n",
      "0.0106252\n",
      "0.0103807\n",
      "0.0105997\n",
      "0.0103115\n",
      "0.0107387\n",
      "0.0104467\n",
      "0.0105419\n",
      "0.0103316\n",
      "0.0109517\n",
      "0.0106628\n",
      "0.0105366\n",
      "0.0102886\n"
     ]
    }
   ],
   "source": [
    "batches_per_step=500\n",
    "if \"trains\" not in globals():\n",
    "    trains=[trainer.eval_loss(n=100)]\n",
    "    tests=[tester.eval_loss()]\n",
    "for i in range(50):\n",
    "    trainer.train(batches_per_step,learn_rate=1e-3)\n",
    "    trains.append(trainer.eval_loss(n=100)) \n",
    "    tests.append(tester.eval_loss())"
   ]
  },
  {
   "cell_type": "code",
   "execution_count": 28,
   "metadata": {
    "collapsed": false
   },
   "outputs": [
    {
     "data": {
      "image/png": "[encoded data removed]",
      "text/plain": [
       "<matplotlib.figure.Figure at 0x1d831eb8>"
      ]
     },
     "metadata": {},
     "output_type": "display_data"
    }
   ],
   "source": [
    "#Plot the training and testing error rates (add more steps to see overfitting)\n",
    "x=[batches_per_step*i for i in range(len(trains))]\n",
    "plt.plot(x,trains, label=\"training\")\n",
    "plt.plot(x,tests, label=\"test\")\n",
    "plt.legend()\n",
    "#plt.ylim(0, .05)\n",
    "plt.show()"
   ]
  },
  {
   "cell_type": "code",
   "execution_count": 5,
   "metadata": {
    "collapsed": false
   },
   "outputs": [
    {
     "name": "stdout",
     "output_type": "stream",
     "text": [
      "False\n"
     ]
    },
    {
     "data": {
      "text/plain": [
       "{'layers': [{'type': 'Identity_Label'},\n",
       "  {'input_channels': None,\n",
       "   'pad': 'SAME',\n",
       "   'rand_scale': 0.1,\n",
       "   'relu': True,\n",
       "   'size': 16,\n",
       "   'stride': 1,\n",
       "   'type': 'Convolution',\n",
       "   'window': 5},\n",
       "  {'pad': 'SAME',\n",
       "   'pool_type': 'max',\n",
       "   'stride': 2,\n",
       "   'type': 'Pool',\n",
       "   'window': 2},\n",
       "  {'input_channels': None,\n",
       "   'pad': 'SAME',\n",
       "   'rand_scale': 0.1,\n",
       "   'relu': True,\n",
       "   'size': 16,\n",
       "   'stride': 1,\n",
       "   'type': 'Convolution',\n",
       "   'window': 5},\n",
       "  {'pad': 'SAME',\n",
       "   'pool_type': 'max',\n",
       "   'stride': 2,\n",
       "   'type': 'Pool',\n",
       "   'window': 2},\n",
       "  {'rand_scale': 0.1, 'size': 32, 'type': 'Relu'},\n",
       "  {'rand_scale': 0.1, 'size': 49, 'type': 'Relu'},\n",
       "  {'shape': [-1, 7, 7, 1], 'type': 'Reshape'},\n",
       "  {'input_channels': None,\n",
       "   'pad': 'SAME',\n",
       "   'rand_scale': 0.1,\n",
       "   'relu': True,\n",
       "   'size': 16,\n",
       "   'stride': 2,\n",
       "   'type': 'Convolution_Transpose',\n",
       "   'window': 5},\n",
       "  {'input_channels': None,\n",
       "   'pad': 'SAME',\n",
       "   'rand_scale': 0.1,\n",
       "   'relu': False,\n",
       "   'size': 1,\n",
       "   'stride': 2,\n",
       "   'type': 'Convolution_Transpose',\n",
       "   'window': 5},\n",
       "  {'type': 'Sigmoid_Feature'}],\n",
       " 'type': 'Network'}"
      ]
     },
     "execution_count": 5,
     "metadata": {},
     "output_type": "execute_result"
    }
   ],
   "source": [
    "network.save() #The full network definition\n",
    "save=network.save() #The full network definition\n",
    "assert(Layer(x=data,**save).save()==save) #Consistency\n",
    "print(save==network_def) #Saving adds stuff, should still be equivalent\n",
    "save"
   ]
  },
  {
   "cell_type": "code",
   "execution_count": 29,
   "metadata": {
    "collapsed": false
   },
   "outputs": [
    {
     "data": {
      "image/png": "[encoded data removed]",
      "text/plain": [
       "<matplotlib.figure.Figure at 0x1ea94f28>"
      ]
     },
     "metadata": {},
     "output_type": "display_data"
    },
    {
     "data": {
      "text/plain": [
       "<matplotlib.image.AxesImage at 0x12676e80>"
      ]
     },
     "execution_count": 29,
     "metadata": {},
     "output_type": "execute_result"
    },
    {
     "data": {
      "image/png": "[encoded data removed]",
      "text/plain": [
       "<matplotlib.figure.Figure at 0xb795e80>"
      ]
     },
     "metadata": {},
     "output_type": "display_data"
    }
   ],
   "source": [
    "n=22\n",
    "%matplotlib inline\n",
    "plot(sess.run(network_test.get())[n,:,:,0])\n",
    "plt.show()\n",
    "%matplotlib inline\n",
    "plot(sess.run(data_test.get())[n,:,:,0])"
   ]
  },
  {
   "cell_type": "code",
   "execution_count": 20,
   "metadata": {
    "collapsed": false
   },
   "outputs": [
    {
     "data": {
      "image/jpeg": "[encoded data removed]",
      "text/plain": [
       "<IPython.core.display.Image object>"
      ]
     },
     "metadata": {},
     "output_type": "display_data"
    },
    {
     "data": {
      "image/jpeg": "[encoded data removed]",
      "text/plain": [
       "<IPython.core.display.Image object>"
      ]
     },
     "metadata": {},
     "output_type": "display_data"
    }
   ],
   "source": [
    "show(-sess.run(network_test.get())[n,:,:,0])\n",
    "show(-sess.run(data_test.get())[n,:,:,0])"
   ]
  },
  {
   "cell_type": "code",
   "execution_count": null,
   "metadata": {
    "collapsed": false
   },
   "outputs": [],
   "source": []
  },
  {
   "cell_type": "code",
   "execution_count": null,
   "metadata": {
    "collapsed": true
   },
   "outputs": [],
   "source": []
  }
 ],
 "metadata": {
  "anaconda-cloud": {},
  "kernelspec": {
   "display_name": "Python [default]",
   "language": "python",
   "name": "python3"
  },
  "language_info": {
   "codemirror_mode": {
    "name": "ipython",
    "version": 3
   },
   "file_extension": ".py",
   "mimetype": "text/x-python",
   "name": "python",
   "nbconvert_exporter": "python",
   "pygments_lexer": "ipython3",
   "version": "3.5.2"
  }
 },
 "nbformat": 4,
 "nbformat_minor": 1
}
