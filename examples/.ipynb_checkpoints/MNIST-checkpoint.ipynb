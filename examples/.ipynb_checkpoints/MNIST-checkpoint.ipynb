{
 "cells": [
  {
   "cell_type": "code",
   "execution_count": 1,
   "metadata": {
    "collapsed": false
   },
   "outputs": [],
   "source": [
    "import numpy as np\n",
    "import tensorflow as tf\n",
    "import sys\n",
    "sys.path.append('../nnBuilder')\n",
    "from nnLayer import *\n",
    "from nnInput import *\n",
    "from nnTrainer import *\n",
    "from nnHandler import *\n",
    "#import time, os, gc\n",
    "#from IPython.display import clear_output, Image, display, HTML\n",
    "#from mpl_toolkits.mplot3d import Axes3D\n",
    "#import shutil\n",
    "#import matplotlib.pyplot as plt\n",
    "#%matplotlib inline"
   ]
  },
  {
   "cell_type": "code",
   "execution_count": 2,
   "metadata": {
    "collapsed": false
   },
   "outputs": [
    {
     "name": "stdout",
     "output_type": "stream",
     "text": [
      "Extracting /tmp/tensorflow/mnist/input_data\\train-images-idx3-ubyte.gz\n",
      "Extracting /tmp/tensorflow/mnist/input_data\\train-labels-idx1-ubyte.gz\n",
      "Extracting /tmp/tensorflow/mnist/input_data\\t10k-images-idx3-ubyte.gz\n",
      "Extracting /tmp/tensorflow/mnist/input_data\\t10k-labels-idx1-ubyte.gz\n",
      "Starting new session\n"
     ]
    },
    {
     "data": {
      "text/plain": [
       "<tensorflow.python.client.session.InteractiveSession at 0xa69af98>"
      ]
     },
     "execution_count": 2,
     "metadata": {},
     "output_type": "execute_result"
    }
   ],
   "source": [
    "data=Layer(type=\"MNIST\",batch=128)\n",
    "layers=[]\n",
    "layers.append({\"type\":\"Convolution\",\"pad\":\"SAME\",\"window\":5,\"stride\":1,\"size\":32,\"relu\":True})\n",
    "layers.append({\"type\":\"Pool\",\"pad\":\"SAME\",\"window\":2,\"stride\":2,\"pool_type\":\"max\"})\n",
    "layers.append({\"type\":\"Convolution\",\"pad\":\"SAME\",\"window\":5,\"stride\":1,\"size\":64,\"relu\":True})\n",
    "layers.append({\"type\":\"Pool\",\"pad\":\"SAME\",\"window\":2,\"stride\":2,\"pool_type\":\"max\"})\n",
    "layers.append({\"type\":\"Relu\",\"size\":64})\n",
    "layers.append({\"type\":\"Linear\",\"size\":10,\"dropout\":True})\n",
    "network=Layer(type=\"Network\",x=data,layers=layers)\n",
    "trainer=ClassifierTrainer(network=network,optimizer=\"adam\",finish=True)\n",
    "sess=SessManager(data,network,trainer)\n",
    "sess.start()"
   ]
  },
  {
   "cell_type": "code",
   "execution_count": 3,
   "metadata": {
    "collapsed": false
   },
   "outputs": [
    {
     "name": "stdout",
     "output_type": "stream",
     "text": [
      "Error rate: 0.9\n",
      "Error rate: 0.101563\n",
      "Error rate: 0.046875\n",
      "Error rate: 0.0460938\n",
      "Error rate: 0.0375\n",
      "Error rate: 0.028125\n",
      "Error rate: 0.0257812\n",
      "Error rate: 0.025\n",
      "Error rate: 0.0242187\n",
      "Error rate: 0.021875\n",
      "Error rate: 0.0148437\n",
      "Error rate: 0.0171875\n",
      "Error rate: 0.0164062\n",
      "Error rate: 0.0140625\n",
      "Error rate: 0.0125\n",
      "Error rate: 0.0164062\n",
      "Error rate: 0.0078125\n",
      "Error rate: 0.009375\n",
      "Error rate: 0.0101562\n",
      "Error rate: 0.0109375\n",
      "Error rate: 0.0117188\n"
     ]
    }
   ],
   "source": [
    "trainer.train(0,keep_rate=1.)\n",
    "trainer.eval_error()\n",
    "for i in range(20):\n",
    "    trainer.train(100,keep_rate=0.5)\n",
    "    trainer.train(0,keep_rate=1.)\n",
    "    trainer.eval_error() #Training error"
   ]
  },
  {
   "cell_type": "code",
   "execution_count": null,
   "metadata": {
    "collapsed": true
   },
   "outputs": [],
   "source": []
  }
 ],
 "metadata": {
  "anaconda-cloud": {},
  "kernelspec": {
   "display_name": "Python [default]",
   "language": "python",
   "name": "python3"
  },
  "language_info": {
   "codemirror_mode": {
    "name": "ipython",
    "version": 3
   },
   "file_extension": ".py",
   "mimetype": "text/x-python",
   "name": "python",
   "nbconvert_exporter": "python",
   "pygments_lexer": "ipython3",
   "version": "3.5.2"
  }
 },
 "nbformat": 4,
 "nbformat_minor": 1
}
