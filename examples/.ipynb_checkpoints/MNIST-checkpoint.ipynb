{
 "cells": [
  {
   "cell_type": "markdown",
   "metadata": {},
   "source": [
    "# MNIST classifier from nnBuilder"
   ]
  },
  {
   "cell_type": "markdown",
   "metadata": {},
   "source": [
    "This is a simple implementation of a MNIST classifier using the nnBuilder framework. The network is essentially identical to the one from the TensorFlow tutorial at https://www.tensorflow.org/tutorials/mnist/pros/. (Work in progress)"
   ]
  },
  {
   "cell_type": "code",
   "execution_count": 1,
   "metadata": {
    "collapsed": false
   },
   "outputs": [],
   "source": [
    "import numpy as np\n",
    "import tensorflow as tf\n",
    "import sys\n",
    "sys.path.append('../nnBuilder')\n",
    "from nnLayer import *\n",
    "from nnInput import *\n",
    "from nnTrainer import *\n",
    "from nnHandler import *"
   ]
  },
  {
   "cell_type": "code",
   "execution_count": 2,
   "metadata": {
    "collapsed": false
   },
   "outputs": [
    {
     "name": "stdout",
     "output_type": "stream",
     "text": [
      "Extracting /tmp/tensorflow/mnist/input_data\\train-images-idx3-ubyte.gz\n",
      "Extracting /tmp/tensorflow/mnist/input_data\\train-labels-idx1-ubyte.gz\n",
      "Extracting /tmp/tensorflow/mnist/input_data\\t10k-images-idx3-ubyte.gz\n",
      "Extracting /tmp/tensorflow/mnist/input_data\\t10k-labels-idx1-ubyte.gz\n",
      "Starting new session\n"
     ]
    },
    {
     "data": {
      "text/plain": [
       "<tensorflow.python.client.session.InteractiveSession at 0xc1edb70>"
      ]
     },
     "execution_count": 2,
     "metadata": {},
     "output_type": "execute_result"
    }
   ],
   "source": [
    "data=Layer(type=\"MNIST\",batch=128)\n",
    "layers=[]\n",
    "layers.append(dict(type=\"Convolution\",pad=\"SAME\",window=5,stride=1,size=32,relu=True))\n",
    "layers.append(dict(type=\"Pool\",pad=\"SAME\",window=2,stride=2,pool_type=\"max\"))\n",
    "layers.append(dict(type=\"Convolution\",pad=\"SAME\",window=5,stride=1,size=64,relu=True))\n",
    "layers.append(dict(type=\"Pool\",pad=\"SAME\",window=2,stride=2,pool_type=\"max\"))\n",
    "layers.append(dict(type=\"Relu\",size=64))\n",
    "layers.append(dict(type=\"Linear\",size=10,in_features=[\"Dropout\"]))\n",
    "network=Layer(type=\"Network\",x=data,layers=layers)\n",
    "trainer=ClassifierTrainer(network=network,optimizer=\"adam\",finish=True)\n",
    "sess=SessManager(data,network,trainer)\n",
    "sess.start()"
   ]
  },
  {
   "cell_type": "code",
   "execution_count": 3,
   "metadata": {
    "collapsed": false
   },
   "outputs": [
    {
     "name": "stdout",
     "output_type": "stream",
     "text": [
      "Error rate: 0.48125\n",
      "Error rate: 0.0835937\n",
      "Error rate: 0.0492188\n",
      "Error rate: 0.0453125\n",
      "Error rate: 0.0414063\n",
      "Error rate: 0.0296875\n",
      "Error rate: 0.0351563\n",
      "Error rate: 0.0328125\n",
      "Error rate: 0.0125\n",
      "Error rate: 0.0171875\n",
      "Error rate: 0.01875\n",
      "Error rate: 0.0109375\n",
      "Error rate: 0.015625\n",
      "Error rate: 0.0125\n",
      "Error rate: 0.0125\n",
      "Error rate: 0.0140625\n",
      "Error rate: 0.0171875\n",
      "Error rate: 0.0132813\n",
      "Error rate: 0.0132813\n",
      "Error rate: 0.0140625\n",
      "Error rate: 0.0117188\n"
     ]
    }
   ],
   "source": [
    "trainer.train(20,keep_rate=1.)\n",
    "trainer.eval_error()\n",
    "for i in range(20):\n",
    "    trainer.train(100,keep_rate=0.5)\n",
    "    trainer.train(0,keep_rate=1.)\n",
    "    trainer.eval_error() #Training error, reaches about 1%"
   ]
  },
  {
   "cell_type": "code",
   "execution_count": 4,
   "metadata": {
    "collapsed": false
   },
   "outputs": [
    {
     "data": {
      "text/plain": [
       "{'layers': [{'input_channels': None,\n",
       "   'pad': 'SAME',\n",
       "   'rand_scale': 0.1,\n",
       "   'relu': True,\n",
       "   'size': 32,\n",
       "   'stride': 1,\n",
       "   'type': 'Convolution',\n",
       "   'window': 5},\n",
       "  {'pad': 'SAME',\n",
       "   'pool_type': 'max',\n",
       "   'stride': 2,\n",
       "   'type': 'Pool',\n",
       "   'window': 2},\n",
       "  {'input_channels': None,\n",
       "   'pad': 'SAME',\n",
       "   'rand_scale': 0.1,\n",
       "   'relu': True,\n",
       "   'size': 64,\n",
       "   'stride': 1,\n",
       "   'type': 'Convolution',\n",
       "   'window': 5},\n",
       "  {'pad': 'SAME',\n",
       "   'pool_type': 'max',\n",
       "   'stride': 2,\n",
       "   'type': 'Pool',\n",
       "   'window': 2},\n",
       "  {'rand_scale': 0.1, 'size': 64, 'type': 'Relu'},\n",
       "  {'in_features': [{'type': 'Dropout'}],\n",
       "   'rand_scale': 0.1,\n",
       "   'size': 10,\n",
       "   'type': 'Linear'}],\n",
       " 'type': 'Network'}"
      ]
     },
     "execution_count": 4,
     "metadata": {},
     "output_type": "execute_result"
    }
   ],
   "source": [
    "network.save() #The full network definition"
   ]
  }
 ],
 "metadata": {
  "anaconda-cloud": {},
  "kernelspec": {
   "display_name": "Python [default]",
   "language": "python",
   "name": "python3"
  },
  "language_info": {
   "codemirror_mode": {
    "name": "ipython",
    "version": 3
   },
   "file_extension": ".py",
   "mimetype": "text/x-python",
   "name": "python",
   "nbconvert_exporter": "python",
   "pygments_lexer": "ipython3",
   "version": "3.5.2"
  }
 },
 "nbformat": 4,
 "nbformat_minor": 1
}
